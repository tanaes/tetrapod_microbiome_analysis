{
 "cells": [
  {
   "cell_type": "code",
   "execution_count": 1,
   "metadata": {},
   "outputs": [],
   "source": [
    "import os"
   ]
  },
  {
   "cell_type": "code",
   "execution_count": 2,
   "metadata": {},
   "outputs": [
    {
     "name": "stdout",
     "output_type": "stream",
     "text": [
      "/projects/templeton/analyses/201811/notebooks\r\n"
     ]
    }
   ],
   "source": [
    "!pwd"
   ]
  },
  {
   "cell_type": "code",
   "execution_count": 3,
   "metadata": {},
   "outputs": [],
   "source": [
    "#set pathnames\n",
    "seq_filt = os.path.abspath('../tables/filtered/merged-repseqs.in-map.qza')\n",
    "otu_filt_mitochloro = os.path.abspath('../tables/filtered/merged-table.in-map.nomito-nochloro.qza')\n",
    "gg_ref_seq = os.path.abspath('/home/ssong/bin/gg_13_5_otus/rep_set/gg_13_5_otu_99.qza')\n",
    "host_md_5per_fp = os.path.abspath('../../../01-metadata/5per_10k.11.28.18.short.txt')"
   ]
  },
  {
   "cell_type": "code",
   "execution_count": 4,
   "metadata": {},
   "outputs": [
    {
     "name": "stdout",
     "output_type": "stream",
     "text": [
      "\u001b[32mSaved FeatureData[Sequence] to: ../tables/filtered/merged-repseqs.in-map.nomito-nochloro.qza\u001b[0m\r\n"
     ]
    }
   ],
   "source": [
    "!qiime feature-table filter-seqs \\\n",
    "  --i-data {seq_filt} \\\n",
    "  --i-table {otu_filt_mitochloro} \\\n",
    "  --o-filtered-data '../tables/filtered/merged-repseqs.in-map.nomito-nochloro.qza'"
   ]
  },
  {
   "cell_type": "code",
   "execution_count": 6,
   "metadata": {},
   "outputs": [
    {
     "name": "stdout",
     "output_type": "stream",
     "text": [
      "1082057.barnacle.ucsd.edu\r\n"
     ]
    }
   ],
   "source": [
    "!echo \"qiime vsearch cluster-features-closed-reference \\\n",
    "  --i-sequences /projects/templeton/analyses/201811/tables/filtered/merged-repseqs.in-map.nomito-nochloro.qza \\\n",
    "  --i-table {otu_filt_mitochloro} \\\n",
    "  --i-reference-sequences {gg_ref_seq} \\\n",
    "  --p-perc-identity 1 \\\n",
    "  --p-threads 16 \\\n",
    "  --output-dir /projects/templeton/analyses/201811/tables/closed_ref_gg13_5\" \\\n",
    " | qsub -k eo -N temp_cr -l nodes=1:ppn=16 -l mem=64gb -l walltime=20:00:00 -V"
   ]
  },
  {
   "cell_type": "code",
   "execution_count": 7,
   "metadata": {},
   "outputs": [
    {
     "name": "stdout",
     "output_type": "stream",
     "text": [
      "1082069.barnacle.ucsd.edu\r\n"
     ]
    }
   ],
   "source": [
    "!echo \"qiime feature-table rarefy \\\n",
    "  --i-table /projects/templeton/analyses/201811/tables/closed_ref_gg13_5/clustered_table.qza \\\n",
    "  --p-sampling-depth 5000 \\\n",
    "  --o-rarefied-table /projects/templeton/analyses/201811/tables/closed_ref_gg13_5/clustered_table.d5k.qza\" \\\n",
    " | qsub -k eo -N rarefy -l pmem=4gb -l walltime=10:00:00 -V"
   ]
  },
  {
   "cell_type": "code",
   "execution_count": 19,
   "metadata": {},
   "outputs": [
    {
     "name": "stdout",
     "output_type": "stream",
     "text": [
      "\u001b[32mSaved FeatureTable[Frequency] to: ../tables/closed_ref_gg13_5/clustered_table.d5k.5per.qza\u001b[0m\r\n"
     ]
    }
   ],
   "source": [
    "!qiime feature-table filter-samples \\\n",
    "  --i-table '../tables/closed_ref_gg13_5/clustered_table.d5k.qza' \\\n",
    "  --m-metadata-file {host_md_5per_fp} \\\n",
    "  --o-filtered-table '../tables/closed_ref_gg13_5/clustered_table.d5k.5per.qza'"
   ]
  },
  {
   "cell_type": "code",
   "execution_count": 20,
   "metadata": {},
   "outputs": [
    {
     "name": "stdout",
     "output_type": "stream",
     "text": [
      "\u001b[32mExported ../tables/closed_ref_gg13_5/clustered_table.d5k.5per.qza as BIOMV210DirFmt to directory ../tables/closed_ref_gg13_5/cr_table\u001b[0m\r\n"
     ]
    }
   ],
   "source": [
    "!qiime tools export \\\n",
    "  --input-path '../tables/closed_ref_gg13_5/clustered_table.d5k.5per.qza' \\\n",
    "  --output-path '../tables/closed_ref_gg13_5/cr_table'"
   ]
  },
  {
   "cell_type": "code",
   "execution_count": 17,
   "metadata": {},
   "outputs": [],
   "source": [
    "!source deactivate"
   ]
  },
  {
   "cell_type": "code",
   "execution_count": 18,
   "metadata": {},
   "outputs": [],
   "source": [
    "!source activate picrust"
   ]
  },
  {
   "cell_type": "code",
   "execution_count": 12,
   "metadata": {},
   "outputs": [],
   "source": [
    "!mkdir ../picrust"
   ]
  },
  {
   "cell_type": "code",
   "execution_count": 14,
   "metadata": {},
   "outputs": [],
   "source": [
    "!normalize_by_copy_number.py \\\n",
    " -i '../tables/closed_ref_gg13_5/cr_table.d5k.biom' \\\n",
    " -o '../picrust/cr_d5k.normalized_otus.biom'"
   ]
  },
  {
   "cell_type": "code",
   "execution_count": 15,
   "metadata": {},
   "outputs": [
    {
     "name": "stdout",
     "output_type": "stream",
     "text": [
      "1082076.barnacle.ucsd.edu\r\n"
     ]
    }
   ],
   "source": [
    "!echo \"predict_metagenomes.py \\\n",
    " -i /projects/templeton/analyses/201811/picrust/cr_d5k.normalized_otus.biom \\\n",
    " -o /projects/templeton/analyses/201811/picrust/cr_d5k.metagenome_predictions.biom \\\n",
    " -a /projects/templeton/analyses/201811/picrust/cr_d5k.nsti_per_sample.txt\" \\\n",
    "| qsub -oe -N picrust -l nodes=1:ppn=8 -l mem=32gb -l walltime=24:00:00 -V"
   ]
  },
  {
   "cell_type": "code",
   "execution_count": 16,
   "metadata": {},
   "outputs": [],
   "source": [
    "!categorize_by_function.py \\\n",
    " -i '../picrust/cr_d5k.metagenome_predictions.biom' \\\n",
    " -c KEGG_Pathways -l 3 \\\n",
    " -o '../picrust/cr_d5k.metagenome_predictions.L3.biom'\n",
    "\n",
    "!categorize_by_function.py \\\n",
    " -i '../picrust/cr_d5k.metagenome_predictions.biom' \\\n",
    " -c KEGG_Pathways -l 2 \\\n",
    " -o '../picrust/cr_d5k.metagenome_predictions.L2.biom'"
   ]
  },
  {
   "cell_type": "markdown",
   "metadata": {},
   "source": [
    "use cr_table.d5k.biom to run Bugbase (https://bugbase.cs.umn.edu/upload.html)"
   ]
  },
  {
   "cell_type": "code",
   "execution_count": null,
   "metadata": {},
   "outputs": [],
   "source": []
  }
 ],
 "metadata": {
  "kernelspec": {
   "display_name": "Python 3",
   "language": "python",
   "name": "python3"
  },
  "language_info": {
   "codemirror_mode": {
    "name": "ipython",
    "version": 3
   },
   "file_extension": ".py",
   "mimetype": "text/x-python",
   "name": "python",
   "nbconvert_exporter": "python",
   "pygments_lexer": "ipython3",
   "version": "3.5.5"
  }
 },
 "nbformat": 4,
 "nbformat_minor": 2
}
