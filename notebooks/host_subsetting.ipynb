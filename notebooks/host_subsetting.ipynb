{
 "cells": [
  {
   "cell_type": "markdown",
   "metadata": {},
   "source": [
    "# Host Tree Subsetting\n",
    "\n",
    "This notebook handles generating subsets of the OTU table, such that there is only a single representative of each host species."
   ]
  },
  {
   "cell_type": "markdown",
   "metadata": {},
   "source": [
    "### Imports"
   ]
  },
  {
   "cell_type": "code",
   "execution_count": 58,
   "metadata": {},
   "outputs": [],
   "source": [
    "import pandas as pd\n",
    "import skbio as skb\n",
    "\n",
    "from os.path import abspath, join\n",
    "from os import makedirs\n",
    "from skbio import TreeNode\n",
    "from biom import Table\n",
    "from qiime2 import Artifact"
   ]
  },
  {
   "cell_type": "markdown",
   "metadata": {},
   "source": [
    "## Load data"
   ]
  },
  {
   "cell_type": "markdown",
   "metadata": {},
   "source": [
    "### Host tree"
   ]
  },
  {
   "cell_type": "code",
   "execution_count": 6,
   "metadata": {},
   "outputs": [],
   "source": [
    "tree_dir = abspath('../trees')\n",
    "host_tree_fp = join(tree_dir, 'total_timetree_names.all.nwk.tre')\n",
    "host_tree= skb.io.read(host_tree_fp, format='newick', \n",
    "                       into=TreeNode,\n",
    "                       convert_underscores=False)\n",
    "\n",
    "host_tips = [x.name for x in host_tree.tips()]"
   ]
  },
  {
   "cell_type": "markdown",
   "metadata": {},
   "source": [
    "### Metadata"
   ]
  },
  {
   "cell_type": "code",
   "execution_count": 13,
   "metadata": {},
   "outputs": [
    {
     "name": "stderr",
     "output_type": "stream",
     "text": [
      "/home/jgsanders/.conda/envs/jupyter-qiime2-2018.11/lib/python3.5/site-packages/IPython/core/interactiveshell.py:3018: DtypeWarning: Columns (34,35,83,168) have mixed types. Specify dtype option on import or set low_memory=False.\n",
      "  interactivity=interactivity, compiler=compiler, result=result)\n"
     ]
    }
   ],
   "source": [
    "md_dir = '/projects/templeton/01-metadata'\n",
    "host_md_fp = join(md_dir, '/projects/templeton/01-metadata/eco_md-qiime_host_species_eco_metadata_by_SampleID_gut_11.28.18.txt')\n",
    "host_md = pd.read_csv(host_md_fp, sep='\\t')\n",
    "\n",
    "host_md = host_md.loc[(host_md['TimeTree_returned'].isin(host_tips))]"
   ]
  },
  {
   "cell_type": "markdown",
   "metadata": {},
   "source": [
    "### OTU table"
   ]
  },
  {
   "cell_type": "code",
   "execution_count": 12,
   "metadata": {},
   "outputs": [],
   "source": [
    "table_fp = '../tables/filtered/merged-table.in-map.nomito-nochloro.10k.qza'\n",
    "table_art = Artifact.load(table_fp)\n",
    "table = table_art.view(Table)"
   ]
  },
  {
   "cell_type": "markdown",
   "metadata": {},
   "source": [
    "### Output folder\n"
   ]
  },
  {
   "cell_type": "code",
   "execution_count": 59,
   "metadata": {},
   "outputs": [],
   "source": [
    "out_dir = '../tables/host_subsets'\n",
    "\n",
    "makedirs(out_dir, exist_ok=True)"
   ]
  },
  {
   "cell_type": "markdown",
   "metadata": {},
   "source": [
    "## Subset random sets"
   ]
  },
  {
   "cell_type": "code",
   "execution_count": 61,
   "metadata": {},
   "outputs": [],
   "source": [
    "samples = 100\n",
    "\n",
    "per_list = pd.DataFrame()\n",
    "\n",
    "for i in range(samples):\n",
    "    \n",
    "    per = host_md.groupby('TimeTree_returned').apply(lambda x: x.sample(1)).reset_index(drop=True)\n",
    "    per = per[['TimeTree_returned','SampleID']].set_index('TimeTree_returned')\n",
    "    per.columns = [i]\n",
    "    \n",
    "    per_list = pd.concat([per_list, per], axis=1)"
   ]
  },
  {
   "cell_type": "code",
   "execution_count": 62,
   "metadata": {},
   "outputs": [],
   "source": [
    "per_list_fp = join(out_dir, 'host_sp.1per.txt')\n",
    "per_list.to_csv(per_list_fp, sep='\\t')"
   ]
  },
  {
   "cell_type": "code",
   "execution_count": null,
   "metadata": {},
   "outputs": [],
   "source": []
  }
 ],
 "metadata": {
  "kernelspec": {
   "display_name": "jupyter-qiime2-2018.11",
   "language": "python",
   "name": "jupyter-qiime2-2018.11"
  },
  "language_info": {
   "codemirror_mode": {
    "name": "ipython",
    "version": 3
   },
   "file_extension": ".py",
   "mimetype": "text/x-python",
   "name": "python",
   "nbconvert_exporter": "python",
   "pygments_lexer": "ipython3",
   "version": "3.5.5"
  }
 },
 "nbformat": 4,
 "nbformat_minor": 2
}
