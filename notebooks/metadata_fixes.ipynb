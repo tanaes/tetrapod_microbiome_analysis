{
 "cells": [
  {
   "cell_type": "markdown",
   "metadata": {},
   "source": [
    "# Metadata fixing"
   ]
  },
  {
   "cell_type": "code",
   "execution_count": 1,
   "metadata": {},
   "outputs": [],
   "source": [
    "import pandas as pd"
   ]
  },
  {
   "cell_type": "code",
   "execution_count": 2,
   "metadata": {},
   "outputs": [],
   "source": [
    "md_full_fp = '../metadata/eco_md-qiime_host_species_eco_metadata_by_SampleID_gut_11.28.18.txt'\n",
    "md_5per_fp = '../metadata/5per.11.28.18.short.txt'\n",
    "md_5per_10k_fp = '../metadata/5per_10k.11.28.18.short.txt'\n"
   ]
  },
  {
   "cell_type": "code",
   "execution_count": 3,
   "metadata": {},
   "outputs": [
    {
     "name": "stderr",
     "output_type": "stream",
     "text": [
      "/home/jgsanders/.conda/envs/jupyter-qiime2-2019.1/lib/python3.6/site-packages/IPython/core/interactiveshell.py:3020: DtypeWarning: Columns (34,35,83,168) have mixed types. Specify dtype option on import or set low_memory=False.\n",
      "  interactivity=interactivity, compiler=compiler, result=result)\n"
     ]
    }
   ],
   "source": [
    "md_full = pd.read_csv(md_full_fp, sep='\\t')\n",
    "md_5per = pd.read_csv(md_5per_fp, sep='\\t')\n",
    "md_5per_10k = pd.read_csv(md_5per_10k_fp, sep='\\t')"
   ]
  },
  {
   "cell_type": "code",
   "execution_count": 4,
   "metadata": {
    "scrolled": true
   },
   "outputs": [
    {
     "data": {
      "text/html": [
       "<div>\n",
       "<style scoped>\n",
       "    .dataframe tbody tr th:only-of-type {\n",
       "        vertical-align: middle;\n",
       "    }\n",
       "\n",
       "    .dataframe tbody tr th {\n",
       "        vertical-align: top;\n",
       "    }\n",
       "\n",
       "    .dataframe thead th {\n",
       "        text-align: right;\n",
       "    }\n",
       "</style>\n",
       "<table border=\"1\" class=\"dataframe\">\n",
       "  <thead>\n",
       "    <tr style=\"text-align: right;\">\n",
       "      <th></th>\n",
       "      <th>SampleID</th>\n",
       "      <th>studyID</th>\n",
       "      <th>Orig_ID</th>\n",
       "      <th>BarcodeSequence</th>\n",
       "      <th>LinkerPrimerSequence</th>\n",
       "      <th>extracted</th>\n",
       "      <th>sequenced_se</th>\n",
       "      <th>sequenced_pe</th>\n",
       "      <th>lane_primerplate</th>\n",
       "      <th>lane</th>\n",
       "      <th>...</th>\n",
       "      <th>LAV.ln_caelen.estimate</th>\n",
       "      <th>LAV.ln_sivol.estimate</th>\n",
       "      <th>LAV.ln_nsa.estimate</th>\n",
       "      <th>LAV.ln_mass.imputed</th>\n",
       "      <th>LAV.ln_silen.imputed</th>\n",
       "      <th>LAV.ln_lilen.imputed</th>\n",
       "      <th>LAV.ln_stomas.imputed</th>\n",
       "      <th>LAV.ln_caelen.imputed</th>\n",
       "      <th>LAV.ln_sivol.imputed</th>\n",
       "      <th>LAV.ln_nsa.imputed</th>\n",
       "    </tr>\n",
       "  </thead>\n",
       "  <tbody>\n",
       "    <tr>\n",
       "      <th>0</th>\n",
       "      <td>11212.AC622</td>\n",
       "      <td>11212</td>\n",
       "      <td>AC622.blackhowler</td>\n",
       "      <td>NNNN</td>\n",
       "      <td>GTGTGCCAGCMGCCGCGGTAA</td>\n",
       "      <td>yes</td>\n",
       "      <td>yes</td>\n",
       "      <td>no</td>\n",
       "      <td>NaN</td>\n",
       "      <td>NaN</td>\n",
       "      <td>...</td>\n",
       "      <td>2.389167</td>\n",
       "      <td>5.551645</td>\n",
       "      <td>6.708361</td>\n",
       "      <td>True</td>\n",
       "      <td>True</td>\n",
       "      <td>True</td>\n",
       "      <td>True</td>\n",
       "      <td>True</td>\n",
       "      <td>True</td>\n",
       "      <td>True</td>\n",
       "    </tr>\n",
       "    <tr>\n",
       "      <th>1</th>\n",
       "      <td>11212.AC668</td>\n",
       "      <td>11212</td>\n",
       "      <td>AC668.blackhowler</td>\n",
       "      <td>NNNN</td>\n",
       "      <td>GTGTGCCAGCMGCCGCGGTAA</td>\n",
       "      <td>yes</td>\n",
       "      <td>yes</td>\n",
       "      <td>no</td>\n",
       "      <td>NaN</td>\n",
       "      <td>NaN</td>\n",
       "      <td>...</td>\n",
       "      <td>2.389167</td>\n",
       "      <td>5.551645</td>\n",
       "      <td>6.708361</td>\n",
       "      <td>True</td>\n",
       "      <td>True</td>\n",
       "      <td>True</td>\n",
       "      <td>True</td>\n",
       "      <td>True</td>\n",
       "      <td>True</td>\n",
       "      <td>True</td>\n",
       "    </tr>\n",
       "    <tr>\n",
       "      <th>2</th>\n",
       "      <td>11212.AC673</td>\n",
       "      <td>11212</td>\n",
       "      <td>AC673.blackhowler</td>\n",
       "      <td>NNNN</td>\n",
       "      <td>GTGTGCCAGCMGCCGCGGTAA</td>\n",
       "      <td>yes</td>\n",
       "      <td>yes</td>\n",
       "      <td>no</td>\n",
       "      <td>NaN</td>\n",
       "      <td>NaN</td>\n",
       "      <td>...</td>\n",
       "      <td>2.389167</td>\n",
       "      <td>5.551645</td>\n",
       "      <td>6.708361</td>\n",
       "      <td>True</td>\n",
       "      <td>True</td>\n",
       "      <td>True</td>\n",
       "      <td>True</td>\n",
       "      <td>True</td>\n",
       "      <td>True</td>\n",
       "      <td>True</td>\n",
       "    </tr>\n",
       "    <tr>\n",
       "      <th>3</th>\n",
       "      <td>11212.AC674</td>\n",
       "      <td>11212</td>\n",
       "      <td>AC674.blackhowler</td>\n",
       "      <td>NNNN</td>\n",
       "      <td>GTGTGCCAGCMGCCGCGGTAA</td>\n",
       "      <td>yes</td>\n",
       "      <td>yes</td>\n",
       "      <td>no</td>\n",
       "      <td>NaN</td>\n",
       "      <td>NaN</td>\n",
       "      <td>...</td>\n",
       "      <td>2.389167</td>\n",
       "      <td>5.551645</td>\n",
       "      <td>6.708361</td>\n",
       "      <td>True</td>\n",
       "      <td>True</td>\n",
       "      <td>True</td>\n",
       "      <td>True</td>\n",
       "      <td>True</td>\n",
       "      <td>True</td>\n",
       "      <td>True</td>\n",
       "    </tr>\n",
       "    <tr>\n",
       "      <th>4</th>\n",
       "      <td>11212.AC679</td>\n",
       "      <td>11212</td>\n",
       "      <td>AC679.blackhowler</td>\n",
       "      <td>NNNN</td>\n",
       "      <td>GTGTGCCAGCMGCCGCGGTAA</td>\n",
       "      <td>yes</td>\n",
       "      <td>yes</td>\n",
       "      <td>no</td>\n",
       "      <td>NaN</td>\n",
       "      <td>NaN</td>\n",
       "      <td>...</td>\n",
       "      <td>2.389167</td>\n",
       "      <td>5.551645</td>\n",
       "      <td>6.708361</td>\n",
       "      <td>True</td>\n",
       "      <td>True</td>\n",
       "      <td>True</td>\n",
       "      <td>True</td>\n",
       "      <td>True</td>\n",
       "      <td>True</td>\n",
       "      <td>True</td>\n",
       "    </tr>\n",
       "  </tbody>\n",
       "</table>\n",
       "<p>5 rows × 322 columns</p>\n",
       "</div>"
      ],
      "text/plain": [
       "      SampleID  studyID            Orig_ID BarcodeSequence  \\\n",
       "0  11212.AC622    11212  AC622.blackhowler            NNNN   \n",
       "1  11212.AC668    11212  AC668.blackhowler            NNNN   \n",
       "2  11212.AC673    11212  AC673.blackhowler            NNNN   \n",
       "3  11212.AC674    11212  AC674.blackhowler            NNNN   \n",
       "4  11212.AC679    11212  AC679.blackhowler            NNNN   \n",
       "\n",
       "    LinkerPrimerSequence extracted sequenced_se sequenced_pe lane_primerplate  \\\n",
       "0  GTGTGCCAGCMGCCGCGGTAA       yes          yes           no              NaN   \n",
       "1  GTGTGCCAGCMGCCGCGGTAA       yes          yes           no              NaN   \n",
       "2  GTGTGCCAGCMGCCGCGGTAA       yes          yes           no              NaN   \n",
       "3  GTGTGCCAGCMGCCGCGGTAA       yes          yes           no              NaN   \n",
       "4  GTGTGCCAGCMGCCGCGGTAA       yes          yes           no              NaN   \n",
       "\n",
       "  lane        ...          LAV.ln_caelen.estimate  LAV.ln_sivol.estimate  \\\n",
       "0  NaN        ...                        2.389167               5.551645   \n",
       "1  NaN        ...                        2.389167               5.551645   \n",
       "2  NaN        ...                        2.389167               5.551645   \n",
       "3  NaN        ...                        2.389167               5.551645   \n",
       "4  NaN        ...                        2.389167               5.551645   \n",
       "\n",
       "   LAV.ln_nsa.estimate  LAV.ln_mass.imputed  LAV.ln_silen.imputed  \\\n",
       "0             6.708361                 True                  True   \n",
       "1             6.708361                 True                  True   \n",
       "2             6.708361                 True                  True   \n",
       "3             6.708361                 True                  True   \n",
       "4             6.708361                 True                  True   \n",
       "\n",
       "   LAV.ln_lilen.imputed  LAV.ln_stomas.imputed LAV.ln_caelen.imputed  \\\n",
       "0                  True                   True                  True   \n",
       "1                  True                   True                  True   \n",
       "2                  True                   True                  True   \n",
       "3                  True                   True                  True   \n",
       "4                  True                   True                  True   \n",
       "\n",
       "  LAV.ln_sivol.imputed LAV.ln_nsa.imputed  \n",
       "0                 True               True  \n",
       "1                 True               True  \n",
       "2                 True               True  \n",
       "3                 True               True  \n",
       "4                 True               True  \n",
       "\n",
       "[5 rows x 322 columns]"
      ]
     },
     "execution_count": 4,
     "metadata": {},
     "output_type": "execute_result"
    }
   ],
   "source": [
    "md_full.head()"
   ]
  },
  {
   "cell_type": "markdown",
   "metadata": {},
   "source": [
    "## Fixes"
   ]
  },
  {
   "cell_type": "code",
   "execution_count": 5,
   "metadata": {},
   "outputs": [
    {
     "data": {
      "text/plain": [
       "6075         Balaenidae\n",
       "6076         Balaenidae\n",
       "6077         Balaenidae\n",
       "6078         Balaenidae\n",
       "6079         Balaenidae\n",
       "6080         Balaenidae\n",
       "6081         Balaenidae\n",
       "6082    Balaenopteridae\n",
       "6083    Balaenopteridae\n",
       "6084    Balaenopteridae\n",
       "6085    Balaenopteridae\n",
       "6086        Delphinidae\n",
       "6087        Delphinidae\n",
       "6088       Monodontidae\n",
       "6091        Delphinidae\n",
       "6100    Balaenopteridae\n",
       "Name: Taxonomy_Family, dtype: object"
      ]
     },
     "execution_count": 5,
     "metadata": {},
     "output_type": "execute_result"
    }
   ],
   "source": [
    "md_full.loc[md_full['Taxonomy_Order'] == 'Cetacea', 'Taxonomy_Family']"
   ]
  },
  {
   "cell_type": "markdown",
   "metadata": {},
   "source": [
    "Cetacea -> cetartiodactyla"
   ]
  },
  {
   "cell_type": "code",
   "execution_count": 6,
   "metadata": {},
   "outputs": [],
   "source": [
    "md_full.loc[md_full['Taxonomy_Order'] == 'Cetacea', 'Taxonomy_Order'] = 'Cetartiodactyla'\n",
    "md_5per.loc[md_5per['Taxonomy_Order'] == 'Cetacea', 'Taxonomy_Order'] = 'Cetartiodactyla'\n",
    "md_5per_10k.loc[md_5per_10k['Taxonomy_Order'] == 'Cetacea', 'Taxonomy_Order'] = 'Cetartiodactyla'"
   ]
  },
  {
   "cell_type": "markdown",
   "metadata": {},
   "source": [
    "Chinese water dragons -> not turtles"
   ]
  },
  {
   "cell_type": "code",
   "execution_count": 7,
   "metadata": {},
   "outputs": [],
   "source": [
    "md_full.loc[md_full['TimeTree_returned'] == 'Physignathus_cocincinus', 'Taxonomy_Class'] = 'Lepidosauria'\n",
    "md_5per.loc[md_5per['TimeTree_returned'] == 'Physignathus_cocincinus', 'Taxonomy_Class'] = 'Lepidosauria'\n",
    "md_5per_10k.loc[md_5per_10k['TimeTree_returned'] == 'Physignathus_cocincinus', 'Taxonomy_Class'] = 'Lepidosauria'"
   ]
  },
  {
   "cell_type": "markdown",
   "metadata": {},
   "source": [
    "African Spurred Tortois -> not lizard"
   ]
  },
  {
   "cell_type": "code",
   "execution_count": 8,
   "metadata": {},
   "outputs": [],
   "source": [
    "md_full.loc[md_full['TimeTree_returned'] == 'Centrochelys_sulcata', 'Taxonomy_Class'] = 'Chelonia'\n",
    "md_5per.loc[md_5per['TimeTree_returned'] == 'Centrochelys_sulcata', 'Taxonomy_Class'] = 'Chelonia'\n",
    "md_5per_10k.loc[md_5per_10k['TimeTree_returned'] == 'Centrochelys_sulcata', 'Taxonomy_Class'] = 'Chelonia'"
   ]
  },
  {
   "cell_type": "markdown",
   "metadata": {},
   "source": [
    "## Migration metadata\n",
    "\n",
    "From Kevin Winker"
   ]
  },
  {
   "cell_type": "code",
   "execution_count": 9,
   "metadata": {},
   "outputs": [],
   "source": [
    "migrate_md_fp = '../metadata/bird_species_unique_with migratory status.xlsx'\n",
    "\n",
    "migrate_md = pd.read_excel(migrate_md_fp, skipfooter=12)"
   ]
  },
  {
   "cell_type": "code",
   "execution_count": 10,
   "metadata": {},
   "outputs": [
    {
     "data": {
      "text/plain": [
       "{'Caracara plancus',\n",
       " 'Cathartes burrovianus',\n",
       " 'Cathartes melambrotus',\n",
       " 'Laniurus atrococcineus',\n",
       " 'Milvago chimachima'}"
      ]
     },
     "execution_count": 10,
     "metadata": {},
     "output_type": "execute_result"
    }
   ],
   "source": [
    "set(migrate_md['Taxonomy_Species']) - set(md_full['Taxonomy_Species'])"
   ]
  },
  {
   "cell_type": "code",
   "execution_count": 11,
   "metadata": {},
   "outputs": [
    {
     "data": {
      "text/plain": [
       "set()"
      ]
     },
     "execution_count": 11,
     "metadata": {},
     "output_type": "execute_result"
    }
   ],
   "source": [
    " set(md_full.loc[md_full['Taxonomy_Species'] == 'Aves', \n",
    "                 'NCBI_canonical_form']) - set(migrate_md['Taxonomy_Species']) "
   ]
  },
  {
   "cell_type": "markdown",
   "metadata": {},
   "source": [
    "Remove duplicates, which are always second row:"
   ]
  },
  {
   "cell_type": "code",
   "execution_count": 12,
   "metadata": {},
   "outputs": [],
   "source": [
    "migrate_md_nodup = migrate_md.groupby('Taxonomy_Species').first().reset_index()"
   ]
  },
  {
   "cell_type": "markdown",
   "metadata": {},
   "source": [
    "merge with metadata"
   ]
  },
  {
   "cell_type": "code",
   "execution_count": 13,
   "metadata": {},
   "outputs": [
    {
     "data": {
      "text/plain": [
       "Index(['Taxonomy_Species', 'Corrected Species name', 'migratory',\n",
       "       'Citation for migratory status', 'Notes', 'NCBI_name_string',\n",
       "       'NCBI_canonical_form', 'Taxonomy_Class', 'Taxonomy_Order',\n",
       "       'Taxonomy_Family', 'Taxonomy_Genus', 'Taxonomy_Subspecies',\n",
       "       'migratory.1'],\n",
       "      dtype='object')"
      ]
     },
     "execution_count": 13,
     "metadata": {},
     "output_type": "execute_result"
    }
   ],
   "source": [
    "migrate_md_nodup.columns"
   ]
  },
  {
   "cell_type": "code",
   "execution_count": 14,
   "metadata": {},
   "outputs": [
    {
     "data": {
      "text/plain": [
       "False"
      ]
     },
     "execution_count": 14,
     "metadata": {},
     "output_type": "execute_result"
    }
   ],
   "source": [
    "'Corrected Species name' in md_full.columns"
   ]
  },
  {
   "cell_type": "markdown",
   "metadata": {},
   "source": [
    "Check that we don't have any duplicates remaining"
   ]
  },
  {
   "cell_type": "code",
   "execution_count": 15,
   "metadata": {},
   "outputs": [
    {
     "data": {
      "text/plain": [
       "1"
      ]
     },
     "execution_count": 15,
     "metadata": {},
     "output_type": "execute_result"
    }
   ],
   "source": [
    "migrate_md_nodup['Taxonomy_Species'].value_counts()[0]"
   ]
  },
  {
   "cell_type": "code",
   "execution_count": 16,
   "metadata": {},
   "outputs": [],
   "source": [
    "migrate_merge  = migrate_md_nodup[['Taxonomy_Species',\n",
    "                                   'Corrected Species name', \n",
    "                                   'migratory',\n",
    "                                   'Citation for migratory status', \n",
    "                                   'Notes']]\n",
    "\n",
    "migrate_merge.columns = ['Taxonomy_Species',\n",
    "                        'Winker Corrected Species name', \n",
    "                        'migratory',\n",
    "                        'Citation for migratory status', \n",
    "                        'Migration Notes']"
   ]
  },
  {
   "cell_type": "code",
   "execution_count": 17,
   "metadata": {},
   "outputs": [],
   "source": [
    "md_full = pd.merge(left=md_full, \n",
    "                   right=migrate_merge,\n",
    "                   on='Taxonomy_Species',\n",
    "                   how='left') "
   ]
  },
  {
   "cell_type": "code",
   "execution_count": 18,
   "metadata": {},
   "outputs": [],
   "source": [
    "md_5per = pd.merge(left=md_5per, \n",
    "                   right=migrate_merge,\n",
    "                   on='Taxonomy_Species',\n",
    "                   how='left')"
   ]
  },
  {
   "cell_type": "code",
   "execution_count": 19,
   "metadata": {},
   "outputs": [],
   "source": [
    "md_5per_10k = pd.merge(left=md_5per_10k, \n",
    "                       right=migrate_merge,\n",
    "                       on='Taxonomy_Species',\n",
    "                       how='left')"
   ]
  },
  {
   "cell_type": "markdown",
   "metadata": {},
   "source": [
    "## Write new files"
   ]
  },
  {
   "cell_type": "code",
   "execution_count": 20,
   "metadata": {},
   "outputs": [],
   "source": [
    "new_md_full_fp = '../metadata/eco_md-qiime_host_species_eco_metadata_by_SampleID_gut_2.18.19.txt'\n",
    "new_md_5per_fp = '../metadata/5per.2.18.19.short.txt'\n",
    "new_md_5per_10k_fp = '../metadata/5per_10k.2.18.19.short.txt'"
   ]
  },
  {
   "cell_type": "code",
   "execution_count": 21,
   "metadata": {},
   "outputs": [],
   "source": [
    "md_full.to_csv(new_md_full_fp, sep='\\t', index=False)\n",
    "md_5per.to_csv(new_md_5per_fp, sep='\\t', index=False)\n",
    "md_5per_10k.to_csv(new_md_5per_10k_fp, sep='\\t', index=False)"
   ]
  },
  {
   "cell_type": "code",
   "execution_count": null,
   "metadata": {},
   "outputs": [],
   "source": []
  }
 ],
 "metadata": {
  "kernelspec": {
   "display_name": "jupyter-qiime2-2019.1",
   "language": "python",
   "name": "jupyter-qiime2-2019.1"
  },
  "language_info": {
   "codemirror_mode": {
    "name": "ipython",
    "version": 3
   },
   "file_extension": ".py",
   "mimetype": "text/x-python",
   "name": "python",
   "nbconvert_exporter": "python",
   "pygments_lexer": "ipython3",
   "version": "3.6.7"
  }
 },
 "nbformat": 4,
 "nbformat_minor": 2
}
