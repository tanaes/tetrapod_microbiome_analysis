{
 "cells": [
  {
   "cell_type": "markdown",
   "metadata": {},
   "source": [
    "# Calculating Beta Diversity Through Time"
   ]
  },
  {
   "cell_type": "markdown",
   "metadata": {},
   "source": [
    "This notebook organizes and exports files for calculating Beta Diversity Through Time, per [Groussin, Mazel, *et al* 2017](https://www.nature.com/articles/ncomms14319). "
   ]
  },
  {
   "cell_type": "code",
   "execution_count": 1,
   "metadata": {},
   "outputs": [],
   "source": [
    "import numpy as np\n",
    "import pandas as pd\n",
    "import skbio as sk\n",
    "from qiime2 import Artifact\n",
    "from biom import load_table, Table\n",
    "from skbio import TreeNode\n",
    "from plotnine import *\n",
    "from os.path import join, abspath\n",
    "from os import makedirs\n",
    "from biom.util import biom_open\n",
    "\n",
    "from scipy.spatial.distance import squareform, pdist"
   ]
  },
  {
   "cell_type": "markdown",
   "metadata": {},
   "source": [
    "## Calculate host diet distances"
   ]
  },
  {
   "cell_type": "markdown",
   "metadata": {},
   "source": [
    "load host tree"
   ]
  },
  {
   "cell_type": "code",
   "execution_count": 2,
   "metadata": {},
   "outputs": [],
   "source": [
    "tree_dir = abspath('../trees/')\n",
    "host_tree_fp = 'total_timetree_names.all.nwk.tre'\n",
    "\n",
    "host_tree = sk.TreeNode.read(join(tree_dir, host_tree_fp), convert_underscores=False)"
   ]
  },
  {
   "cell_type": "code",
   "execution_count": 3,
   "metadata": {},
   "outputs": [],
   "source": [
    "host_tips = [x.name for x in host_tree.tips()]"
   ]
  },
  {
   "cell_type": "markdown",
   "metadata": {},
   "source": [
    "load mapping file"
   ]
  },
  {
   "cell_type": "code",
   "execution_count": 4,
   "metadata": {},
   "outputs": [],
   "source": [
    "md_dir = abspath('/projects/templeton/01-metadata')\n",
    "host_md_fp = '5per_10k.11.28.18.short.txt'\n",
    "host_md = pd.read_csv(join(md_dir, host_md_fp), sep='\\t')"
   ]
  },
  {
   "cell_type": "code",
   "execution_count": 5,
   "metadata": {},
   "outputs": [
    {
     "data": {
      "text/plain": [
       "(2259, 63)"
      ]
     },
     "execution_count": 5,
     "metadata": {},
     "output_type": "execute_result"
    }
   ],
   "source": [
    "host_md.shape"
   ]
  },
  {
   "cell_type": "markdown",
   "metadata": {},
   "source": [
    "Calculate diet distances"
   ]
  },
  {
   "cell_type": "code",
   "execution_count": 6,
   "metadata": {},
   "outputs": [],
   "source": [
    "elton_cols = ['ET.Diet.Fruit',\n",
    "             'ET.Diet.Inv',\n",
    "             'ET.Diet.Nect',\n",
    "             'ET.Diet.PlantO',\n",
    "             'ET.Diet.Scav',\n",
    "             'ET.Diet.Seed',\n",
    "             'ET.Diet.Vect',\n",
    "             'ET.Diet.Vend',\n",
    "             'ET.Diet.Vfish',\n",
    "             'ET.Diet.Vunk']"
   ]
  },
  {
   "cell_type": "code",
   "execution_count": 7,
   "metadata": {},
   "outputs": [],
   "source": [
    "?host_md.groupby"
   ]
  },
  {
   "cell_type": "code",
   "execution_count": 8,
   "metadata": {},
   "outputs": [],
   "source": [
    "host_diet_df = host_md.loc[host_md[elton_cols].sum(axis=1) == 100,\n",
    "                           ['TimeTree_returned'] + elton_cols].dropna().groupby('TimeTree_returned').first()"
   ]
  },
  {
   "cell_type": "code",
   "execution_count": 9,
   "metadata": {},
   "outputs": [
    {
     "data": {
      "text/html": [
       "<div>\n",
       "<style scoped>\n",
       "    .dataframe tbody tr th:only-of-type {\n",
       "        vertical-align: middle;\n",
       "    }\n",
       "\n",
       "    .dataframe tbody tr th {\n",
       "        vertical-align: top;\n",
       "    }\n",
       "\n",
       "    .dataframe thead th {\n",
       "        text-align: right;\n",
       "    }\n",
       "</style>\n",
       "<table border=\"1\" class=\"dataframe\">\n",
       "  <thead>\n",
       "    <tr style=\"text-align: right;\">\n",
       "      <th></th>\n",
       "      <th>ET.Diet.Fruit</th>\n",
       "      <th>ET.Diet.Inv</th>\n",
       "      <th>ET.Diet.Nect</th>\n",
       "      <th>ET.Diet.PlantO</th>\n",
       "      <th>ET.Diet.Scav</th>\n",
       "      <th>ET.Diet.Seed</th>\n",
       "      <th>ET.Diet.Vect</th>\n",
       "      <th>ET.Diet.Vend</th>\n",
       "      <th>ET.Diet.Vfish</th>\n",
       "      <th>ET.Diet.Vunk</th>\n",
       "    </tr>\n",
       "    <tr>\n",
       "      <th>TimeTree_returned</th>\n",
       "      <th></th>\n",
       "      <th></th>\n",
       "      <th></th>\n",
       "      <th></th>\n",
       "      <th></th>\n",
       "      <th></th>\n",
       "      <th></th>\n",
       "      <th></th>\n",
       "      <th></th>\n",
       "      <th></th>\n",
       "    </tr>\n",
       "  </thead>\n",
       "  <tbody>\n",
       "    <tr>\n",
       "      <th>Accipiter_cooperii</th>\n",
       "      <td>0.0</td>\n",
       "      <td>0.0</td>\n",
       "      <td>0.0</td>\n",
       "      <td>0.0</td>\n",
       "      <td>0.0</td>\n",
       "      <td>0.0</td>\n",
       "      <td>10.0</td>\n",
       "      <td>90.0</td>\n",
       "      <td>0.0</td>\n",
       "      <td>0.0</td>\n",
       "    </tr>\n",
       "    <tr>\n",
       "      <th>Accipiter_striatus</th>\n",
       "      <td>0.0</td>\n",
       "      <td>0.0</td>\n",
       "      <td>0.0</td>\n",
       "      <td>0.0</td>\n",
       "      <td>0.0</td>\n",
       "      <td>0.0</td>\n",
       "      <td>0.0</td>\n",
       "      <td>100.0</td>\n",
       "      <td>0.0</td>\n",
       "      <td>0.0</td>\n",
       "    </tr>\n",
       "    <tr>\n",
       "      <th>Accipiter_tachiro</th>\n",
       "      <td>0.0</td>\n",
       "      <td>10.0</td>\n",
       "      <td>0.0</td>\n",
       "      <td>0.0</td>\n",
       "      <td>0.0</td>\n",
       "      <td>0.0</td>\n",
       "      <td>20.0</td>\n",
       "      <td>70.0</td>\n",
       "      <td>0.0</td>\n",
       "      <td>0.0</td>\n",
       "    </tr>\n",
       "    <tr>\n",
       "      <th>Accipiter_trivirgatus</th>\n",
       "      <td>0.0</td>\n",
       "      <td>20.0</td>\n",
       "      <td>0.0</td>\n",
       "      <td>0.0</td>\n",
       "      <td>0.0</td>\n",
       "      <td>0.0</td>\n",
       "      <td>20.0</td>\n",
       "      <td>60.0</td>\n",
       "      <td>0.0</td>\n",
       "      <td>0.0</td>\n",
       "    </tr>\n",
       "    <tr>\n",
       "      <th>Aceros_corrugatus</th>\n",
       "      <td>90.0</td>\n",
       "      <td>10.0</td>\n",
       "      <td>0.0</td>\n",
       "      <td>0.0</td>\n",
       "      <td>0.0</td>\n",
       "      <td>0.0</td>\n",
       "      <td>0.0</td>\n",
       "      <td>0.0</td>\n",
       "      <td>0.0</td>\n",
       "      <td>0.0</td>\n",
       "    </tr>\n",
       "  </tbody>\n",
       "</table>\n",
       "</div>"
      ],
      "text/plain": [
       "                       ET.Diet.Fruit  ET.Diet.Inv  ET.Diet.Nect  \\\n",
       "TimeTree_returned                                                 \n",
       "Accipiter_cooperii               0.0          0.0           0.0   \n",
       "Accipiter_striatus               0.0          0.0           0.0   \n",
       "Accipiter_tachiro                0.0         10.0           0.0   \n",
       "Accipiter_trivirgatus            0.0         20.0           0.0   \n",
       "Aceros_corrugatus               90.0         10.0           0.0   \n",
       "\n",
       "                       ET.Diet.PlantO  ET.Diet.Scav  ET.Diet.Seed  \\\n",
       "TimeTree_returned                                                   \n",
       "Accipiter_cooperii                0.0           0.0           0.0   \n",
       "Accipiter_striatus                0.0           0.0           0.0   \n",
       "Accipiter_tachiro                 0.0           0.0           0.0   \n",
       "Accipiter_trivirgatus             0.0           0.0           0.0   \n",
       "Aceros_corrugatus                 0.0           0.0           0.0   \n",
       "\n",
       "                       ET.Diet.Vect  ET.Diet.Vend  ET.Diet.Vfish  ET.Diet.Vunk  \n",
       "TimeTree_returned                                                               \n",
       "Accipiter_cooperii             10.0          90.0            0.0           0.0  \n",
       "Accipiter_striatus              0.0         100.0            0.0           0.0  \n",
       "Accipiter_tachiro              20.0          70.0            0.0           0.0  \n",
       "Accipiter_trivirgatus          20.0          60.0            0.0           0.0  \n",
       "Aceros_corrugatus               0.0           0.0            0.0           0.0  "
      ]
     },
     "execution_count": 9,
     "metadata": {},
     "output_type": "execute_result"
    }
   ],
   "source": [
    "host_diet_df.head()"
   ]
  },
  {
   "cell_type": "markdown",
   "metadata": {},
   "source": [
    "Filter down to hosts in our time tree"
   ]
  },
  {
   "cell_type": "code",
   "execution_count": 10,
   "metadata": {},
   "outputs": [],
   "source": [
    "host_diet_df = host_diet_df.loc[host_diet_df.index.isin(host_tips),]"
   ]
  },
  {
   "cell_type": "code",
   "execution_count": 11,
   "metadata": {
    "scrolled": true
   },
   "outputs": [],
   "source": [
    "diet_dm = sk.DistanceMatrix(squareform(pdist(host_diet_df.iloc[:, :], metric='braycurtis')))\n",
    "diet_dm.ids = host_diet_df.index"
   ]
  },
  {
   "cell_type": "code",
   "execution_count": 12,
   "metadata": {
    "scrolled": true
   },
   "outputs": [
    {
     "data": {
      "text/plain": [
       "(788, 788)"
      ]
     },
     "execution_count": 12,
     "metadata": {},
     "output_type": "execute_result"
    }
   ],
   "source": [
    "diet_dm.shape"
   ]
  },
  {
   "cell_type": "markdown",
   "metadata": {},
   "source": [
    "## Calculate host patristic distances"
   ]
  },
  {
   "cell_type": "markdown",
   "metadata": {},
   "source": [
    "filter host tree down to those we have diets for"
   ]
  },
  {
   "cell_type": "code",
   "execution_count": 13,
   "metadata": {},
   "outputs": [
    {
     "data": {
      "text/plain": [
       "Index(['SampleID', 'deblurred_seqs', 'pd_5k', 'shannon_5k', 'sample_type',\n",
       "       'preservative', 'sex', 'healthy', 'captive_wild', 'LIFE_STAGE',\n",
       "       'dataset', 'collector', 'country', 'Common_name', 'Species_name',\n",
       "       'date_collected', 'individual_ID', 'animal_ID', 'group_individual_ID',\n",
       "       'group_ID', 'Corrected_Species_name', 'flight_status', 'flight_type',\n",
       "       'query_name', 'ET.BodyMass.Value', 'ET.Diet.5Cat', 'ET.Diet.Fruit',\n",
       "       'ET.Diet.Inv', 'ET.Diet.Nect', 'ET.Diet.PlantO', 'ET.Diet.Scav',\n",
       "       'ET.Diet.Seed', 'ET.Diet.Vect', 'ET.Diet.Vend', 'ET.Diet.Vfish',\n",
       "       'ET.Diet.Vunk', 'Taxonomy_Class', 'Taxonomy_Family', 'Taxonomy_Genus',\n",
       "       'Taxonomy_Kingdom', 'Taxonomy_Order', 'Taxonomy_Phylum',\n",
       "       'Taxonomy_Species', 'Taxonomy_Subspecies', 'TimeTree_name',\n",
       "       'eltontraits_name', 'TimeTree_returned', 'LAV.ln_mass.estimate',\n",
       "       'LAV.ln_silen.estimate', 'LAV.ln_lilen.estimate',\n",
       "       'LAV.ln_stomas.estimate', 'LAV.ln_caelen.estimate',\n",
       "       'LAV.ln_sivol.estimate', 'LAV.ln_nsa.estimate', 'LAV.ln_mass.imputed',\n",
       "       'LAV.ln_silen.imputed', 'LAV.ln_lilen.imputed', 'LAV.ln_stomas.imputed',\n",
       "       'LAV.ln_caelen.imputed', 'LAV.ln_sivol.imputed', 'LAV.ln_nsa.imputed',\n",
       "       'pd_10k', 'shannon_10k'],\n",
       "      dtype='object')"
      ]
     },
     "execution_count": 13,
     "metadata": {},
     "output_type": "execute_result"
    }
   ],
   "source": [
    "host_md.columns"
   ]
  },
  {
   "cell_type": "code",
   "execution_count": 14,
   "metadata": {},
   "outputs": [],
   "source": [
    "hosts_diet_tree = host_tree.shear(diet_dm.ids)"
   ]
  },
  {
   "cell_type": "code",
   "execution_count": 15,
   "metadata": {
    "scrolled": true
   },
   "outputs": [],
   "source": [
    "patristic_dm = hosts_diet_tree.tip_tip_distances()"
   ]
  },
  {
   "cell_type": "code",
   "execution_count": 16,
   "metadata": {},
   "outputs": [
    {
     "data": {
      "text/plain": [
       "(788, 788)"
      ]
     },
     "execution_count": 16,
     "metadata": {},
     "output_type": "execute_result"
    }
   ],
   "source": [
    "patristic_dm.shape"
   ]
  },
  {
   "cell_type": "markdown",
   "metadata": {},
   "source": [
    "## Filter OTU tables down to just these hosts"
   ]
  },
  {
   "cell_type": "code",
   "execution_count": 17,
   "metadata": {},
   "outputs": [],
   "source": [
    "otu_filt_5k_fp = abspath('../tables/filtered/merged-table.in-map.nomito-nochloro.5k.qza')\n",
    "otu_filt_10k_fp = abspath('../tables/filtered/merged-table.in-map.nomito-nochloro.10k.qza')"
   ]
  },
  {
   "cell_type": "code",
   "execution_count": 18,
   "metadata": {},
   "outputs": [],
   "source": [
    "otu_filt_5k = Artifact.load(otu_filt_5k_fp).view(Table)\n",
    "otu_filt_10k = Artifact.load(otu_filt_10k_fp).view(Table)"
   ]
  },
  {
   "cell_type": "code",
   "execution_count": 19,
   "metadata": {},
   "outputs": [
    {
     "data": {
      "text/plain": [
       "119769 x 1979 <class 'biom.table.Table'> with 397460 nonzero entries (0% dense)"
      ]
     },
     "execution_count": 19,
     "metadata": {},
     "output_type": "execute_result"
    }
   ],
   "source": [
    "bdtt_filt_5k = otu_filt_5k.filter(host_md.loc[host_md['TimeTree_returned'].isin(diet_dm.ids),\n",
    "                                              'SampleID'],\n",
    "                                  inplace=False).remove_empty(axis='observation')\n",
    "bdtt_filt_5k"
   ]
  },
  {
   "cell_type": "code",
   "execution_count": 20,
   "metadata": {},
   "outputs": [
    {
     "data": {
      "text/plain": [
       "148522 x 1979 <class 'biom.table.Table'> with 496939 nonzero entries (0% dense)"
      ]
     },
     "execution_count": 20,
     "metadata": {},
     "output_type": "execute_result"
    }
   ],
   "source": [
    "bdtt_filt_10k = otu_filt_10k.filter(host_md.loc[host_md['TimeTree_returned'].isin(diet_dm.ids),\n",
    "                                              'SampleID'],\n",
    "                                  inplace=False).remove_empty(axis='observation')\n",
    "bdtt_filt_10k"
   ]
  },
  {
   "cell_type": "markdown",
   "metadata": {},
   "source": [
    "## Save files"
   ]
  },
  {
   "cell_type": "code",
   "execution_count": 22,
   "metadata": {},
   "outputs": [
    {
     "name": "stdout",
     "output_type": "stream",
     "text": [
      "Dir exists!\n"
     ]
    }
   ],
   "source": [
    "bdtt_dir = abspath('../bdtt')\n",
    "\n",
    "try:\n",
    "    makedirs(bdtt_dir)\n",
    "except FileExistsError:\n",
    "    print('Dir exists!')"
   ]
  },
  {
   "cell_type": "markdown",
   "metadata": {},
   "source": [
    "### Save filtered tree"
   ]
  },
  {
   "cell_type": "code",
   "execution_count": 23,
   "metadata": {},
   "outputs": [
    {
     "data": {
      "text/plain": [
       "'/home/jgsanders/projects/templeton/201811/bdtt/total_timetree_names.bdtt-filt.nwk.tre'"
      ]
     },
     "execution_count": 23,
     "metadata": {},
     "output_type": "execute_result"
    }
   ],
   "source": [
    "bdtt_host_tree_fp = join(bdtt_dir, 'total_timetree_names.bdtt-filt.nwk.tre')\n",
    "\n",
    "hosts_diet_tree.write(bdtt_host_tree_fp)"
   ]
  },
  {
   "cell_type": "markdown",
   "metadata": {},
   "source": [
    "### Save diet dm"
   ]
  },
  {
   "cell_type": "code",
   "execution_count": 31,
   "metadata": {},
   "outputs": [
    {
     "data": {
      "text/plain": [
       "'/home/jgsanders/projects/templeton/201811/bdtt/diet_distances.bdtt.txt'"
      ]
     },
     "execution_count": 31,
     "metadata": {},
     "output_type": "execute_result"
    }
   ],
   "source": [
    "diet_dm_fp = join(bdtt_dir, 'diet_distances.bdtt.txt')\n",
    "diet_dm.write(diet_dm_fp)"
   ]
  },
  {
   "cell_type": "markdown",
   "metadata": {},
   "source": [
    "### Save patristic dm"
   ]
  },
  {
   "cell_type": "code",
   "execution_count": 32,
   "metadata": {},
   "outputs": [
    {
     "data": {
      "text/plain": [
       "'/home/jgsanders/projects/templeton/201811/bdtt/patristic_distances.bdtt.txt'"
      ]
     },
     "execution_count": 32,
     "metadata": {},
     "output_type": "execute_result"
    }
   ],
   "source": [
    "patristic_dm_fp = join(bdtt_dir, 'patristic_distances.bdtt.txt')\n",
    "patristic_dm.write(patristic_dm_fp)"
   ]
  },
  {
   "cell_type": "markdown",
   "metadata": {},
   "source": [
    "### Save filtered OTU tables"
   ]
  },
  {
   "cell_type": "code",
   "execution_count": 27,
   "metadata": {},
   "outputs": [],
   "source": [
    "bdtt_filt_5k_fp = join(bdtt_dir, 'merged-table.in-map.nomito-nochloro.5k.bdtt.hdf5.biom')\n",
    "\n",
    "with biom_open(bdtt_filt_5k_fp, 'w') as f:\n",
    "    bdtt_filt_5k.to_hdf5(f, \"5k rarefied biom filtered for bdtt\")"
   ]
  },
  {
   "cell_type": "code",
   "execution_count": 29,
   "metadata": {},
   "outputs": [],
   "source": [
    "bdtt_filt_10k_fp = join(bdtt_dir, 'merged-table.in-map.nomito-nochloro.10k.bdtt.hdf5.biom')\n",
    "\n",
    "with biom_open(bdtt_filt_10k_fp, 'w') as f:\n",
    "    bdtt_filt_10k.to_hdf5(f, \"10k rarefied biom filtered for bdtt\")"
   ]
  },
  {
   "cell_type": "markdown",
   "metadata": {},
   "source": [
    "### Filter and save OTU tree"
   ]
  },
  {
   "cell_type": "code",
   "execution_count": 38,
   "metadata": {},
   "outputs": [],
   "source": [
    "otus = set(bdtt_filt_5k.ids(axis='observation')).union(set(bdtt_filt_10k.ids(axis='observation')))"
   ]
  },
  {
   "cell_type": "code",
   "execution_count": 39,
   "metadata": {},
   "outputs": [
    {
     "data": {
      "text/plain": [
       "148522"
      ]
     },
     "execution_count": 39,
     "metadata": {},
     "output_type": "execute_result"
    }
   ],
   "source": [
    "len(set(bdtt_filt_10k.ids(axis='observation')))"
   ]
  },
  {
   "cell_type": "code",
   "execution_count": 40,
   "metadata": {},
   "outputs": [
    {
     "data": {
      "text/plain": [
       "160788"
      ]
     },
     "execution_count": 40,
     "metadata": {},
     "output_type": "execute_result"
    }
   ],
   "source": [
    "len(otus)"
   ]
  },
  {
   "cell_type": "code",
   "execution_count": 41,
   "metadata": {},
   "outputs": [],
   "source": [
    "sepp_tree_fp = abspath('../trees/insertion-tree.qza')\n",
    "\n",
    "sepp_tree = Artifact.load(sepp_tree_fp).view(TreeNode)"
   ]
  },
  {
   "cell_type": "code",
   "execution_count": 42,
   "metadata": {},
   "outputs": [],
   "source": [
    "sepp_tree_bdtt = sepp_tree.shear(otus)"
   ]
  },
  {
   "cell_type": "code",
   "execution_count": 43,
   "metadata": {},
   "outputs": [
    {
     "data": {
      "text/plain": [
       "'/home/jgsanders/projects/templeton/201811/bdtt/otu.insertion-tree.bdtt.nwk.tre'"
      ]
     },
     "execution_count": 43,
     "metadata": {},
     "output_type": "execute_result"
    }
   ],
   "source": [
    "sepp_tree_bdtt_fp = join(bdtt_dir, 'otu.insertion-tree.bdtt.nwk.tre')\n",
    "sepp_tree_bdtt.write(sepp_tree_bdtt_fp)"
   ]
  },
  {
   "cell_type": "markdown",
   "metadata": {},
   "source": [
    "### Export table mapping samples to species"
   ]
  },
  {
   "cell_type": "code",
   "execution_count": 50,
   "metadata": {},
   "outputs": [],
   "source": [
    "hosts = set(bdtt_filt_10k.ids(axis='sample')).union(set(bdtt_filt_5k.ids(axis='sample')))\n",
    "\n",
    "host_table = host_md.loc[host_md['SampleID'].isin(hosts),['SampleID','TimeTree_returned']]"
   ]
  },
  {
   "cell_type": "code",
   "execution_count": 51,
   "metadata": {},
   "outputs": [],
   "source": [
    "host_table_fp = join(bdtt_dir, 'SampleID_to_host.txt')\n",
    "\n",
    "host_table.to_csv(host_table_fp, index=False)"
   ]
  },
  {
   "cell_type": "markdown",
   "metadata": {},
   "source": [
    "### Tar files for sending"
   ]
  },
  {
   "cell_type": "code",
   "execution_count": 52,
   "metadata": {},
   "outputs": [
    {
     "name": "stdout",
     "output_type": "stream",
     "text": [
      "tar: Removing leading `/' from member names\n",
      "/home/jgsanders/projects/templeton/201811/bdtt/\n",
      "/home/jgsanders/projects/templeton/201811/bdtt/merged-table.in-map.nomito-nochloro.5k.bdtt.hdf5.biom\n",
      "/home/jgsanders/projects/templeton/201811/bdtt/total_timetree_names.bdtt-filt.nwk.tre\n",
      "/home/jgsanders/projects/templeton/201811/bdtt/SampleID_to_host.txt\n",
      "/home/jgsanders/projects/templeton/201811/bdtt/patristic_distances.bdtt.txt\n",
      "/home/jgsanders/projects/templeton/201811/bdtt/diet_distances.bdtt.txt\n",
      "/home/jgsanders/projects/templeton/201811/bdtt/otu.insertion-tree.bdtt.nwk.tre\n",
      "/home/jgsanders/projects/templeton/201811/bdtt/merged-table.in-map.nomito-nochloro.10k.bdtt.hdf5.biom\n"
     ]
    }
   ],
   "source": [
    "!tar -czvf ../bdtt_files.tar.gz {bdtt_dir}"
   ]
  },
  {
   "cell_type": "code",
   "execution_count": 57,
   "metadata": {},
   "outputs": [
    {
     "data": {
      "text/plain": [
       "'/home/jgsanders/projects/templeton/201811/bdtt_files.tar.gz'"
      ]
     },
     "execution_count": 57,
     "metadata": {},
     "output_type": "execute_result"
    }
   ],
   "source": [
    "abspath('../bdtt_files.tar.gz')"
   ]
  },
  {
   "cell_type": "code",
   "execution_count": 53,
   "metadata": {},
   "outputs": [
    {
     "name": "stdout",
     "output_type": "stream",
     "text": [
      "total 5012\r\n",
      "drwxr-xr-x 3 jgsanders knightlab        7 Dec  5 09:03 adiv\r\n",
      "drwxr-xr-x 4 jgsanders knightlab       10 Dec  7 07:32 bdiv\r\n",
      "drwxr-xr-x 2 jgsanders knightlab        9 Dec 11 15:15 bdtt\r\n",
      "-rw-r--r-- 1 jgsanders knightlab 13532329 Dec 11 15:15 bdtt_files.tar.gz\r\n",
      "drwxr-xr-x 4 jgsanders knightlab       14 Dec 11 15:14 notebooks\r\n",
      "drwxr-xr-x 4 jgsanders knightlab        5 Dec  7 09:32 phylosymbiosis\r\n",
      "drwxr-xr-x 2 jgsanders knightlab        7 Dec  5 09:04 picrust\r\n",
      "drwxr-xr-x 4 jgsanders knightlab        4 Dec  5 09:04 tables\r\n",
      "drwxr-xr-x 2 jgsanders knightlab        7 Dec  5 09:04 taxonomy\r\n",
      "drwxr-xr-x 2 jgsanders knightlab        7 Dec  5 09:04 trees\r\n"
     ]
    }
   ],
   "source": [
    "!ls -l ../"
   ]
  },
  {
   "cell_type": "code",
   "execution_count": 54,
   "metadata": {},
   "outputs": [
    {
     "name": "stdout",
     "output_type": "stream",
     "text": [
      "total 29377\r\n",
      "-rw-r--r-- 1 jgsanders knightlab  2513523 Dec 11 15:06 diet_distances.bdtt.txt\r\n",
      "-rw-r--r-- 1 jgsanders knightlab 21278796 Dec 11 15:05 merged-table.in-map.nomito-nochloro.10k.bdtt.hdf5.biom\r\n",
      "-rw-r--r-- 1 jgsanders knightlab 17113813 Dec 11 15:05 merged-table.in-map.nomito-nochloro.5k.bdtt.hdf5.biom\r\n",
      "-rw-r--r-- 1 jgsanders knightlab 20000197 Dec 11 15:12 otu.insertion-tree.bdtt.nwk.tre\r\n",
      "-rw-r--r-- 1 jgsanders knightlab  8735835 Dec 11 15:06 patristic_distances.bdtt.txt\r\n",
      "-rw-r--r-- 1 jgsanders knightlab    76489 Dec 11 15:15 SampleID_to_host.txt\r\n",
      "-rw-r--r-- 1 jgsanders knightlab    36256 Dec 11 15:04 total_timetree_names.bdtt-filt.nwk.tre\r\n"
     ]
    }
   ],
   "source": [
    "!ls -l ../bdtt/"
   ]
  }
 ],
 "metadata": {
  "kernelspec": {
   "display_name": "jupyter-qiime2-2018.11",
   "language": "python",
   "name": "jupyter-qiime2-2018.11"
  },
  "language_info": {
   "codemirror_mode": {
    "name": "ipython",
    "version": 3
   },
   "file_extension": ".py",
   "mimetype": "text/x-python",
   "name": "python",
   "nbconvert_exporter": "python",
   "pygments_lexer": "ipython3",
   "version": "3.5.5"
  }
 },
 "nbformat": 4,
 "nbformat_minor": 2
}
