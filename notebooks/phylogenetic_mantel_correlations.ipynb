{
 "cells": [
  {
   "cell_type": "markdown",
   "metadata": {},
   "source": [
    "# Calculating Mantel correlations across the host phylogeny"
   ]
  },
  {
   "cell_type": "markdown",
   "metadata": {},
   "source": [
    "The purpose of this notebook is to calculate Mantel correlations between phylogenetic distance and microbiome dissimilarity at each node of the host phylogenetic tree.\n",
    "\n",
    "The resulting significance value (and correlation coefficient) can then be plotted against the host phylogeny to visualize changes in the strength of phylosymbiosis across the host phylogeny."
   ]
  },
  {
   "cell_type": "markdown",
   "metadata": {},
   "source": [
    "## Algorithm\n",
    "\n",
    "- preorder traverse tree\n",
    "- for each node:\n",
    "  - grab tips associated with node\n",
    "  - filter dm to those tips\n",
    "  - grab patristic dm from those tips\n",
    "  - calculate mantel\n",
    "  - store values on node\n"
   ]
  },
  {
   "cell_type": "code",
   "execution_count": 3,
   "metadata": {},
   "outputs": [],
   "source": [
    "import skbio as skb\n",
    "import numpy as np\n",
    "import pandas as pd\n",
    "import seaborn as sns\n",
    "from ecopy import Mantel\n",
    "\n",
    "from matplotlib import pyplot as plt\n",
    "import pylab as pl\n",
    "from qiime2 import Artifact\n",
    "from skbio import TreeNode\n",
    "from skbio.stats.distance import mantel\n",
    "from scipy.stats import linregress\n",
    "from scipy.spatial.distance import squareform, pdist\n",
    "from os.path import abspath, join\n",
    "from os import makedirs"
   ]
  },
  {
   "cell_type": "markdown",
   "metadata": {},
   "source": [
    "## Import data"
   ]
  },
  {
   "cell_type": "markdown",
   "metadata": {},
   "source": [
    "### Host Tree"
   ]
  },
  {
   "cell_type": "code",
   "execution_count": 4,
   "metadata": {},
   "outputs": [],
   "source": [
    "tree_dir = abspath('../trees')\n",
    "host_tree_fp = join(tree_dir, 'total_timetree_names.all.nwk.tre')\n",
    "host_tree= skb.io.read(host_tree_fp, format='newick', \n",
    "                       into=TreeNode,\n",
    "                       convert_underscores=False)\n",
    "\n",
    "host_tips = [x.name for x in host_tree.tips()]"
   ]
  },
  {
   "cell_type": "markdown",
   "metadata": {},
   "source": [
    "### Metadata"
   ]
  },
  {
   "cell_type": "code",
   "execution_count": 5,
   "metadata": {},
   "outputs": [
    {
     "name": "stderr",
     "output_type": "stream",
     "text": [
      "/home/jgsanders/.conda/envs/jupyter-qiime2-2019.1/lib/python3.6/site-packages/IPython/core/interactiveshell.py:3020: DtypeWarning: Columns (34,35,83,168) have mixed types. Specify dtype option on import or set low_memory=False.\n",
      "  interactivity=interactivity, compiler=compiler, result=result)\n"
     ]
    }
   ],
   "source": [
    "md_dir = '../metadata'\n",
    "host_md_fp = join(md_dir, 'eco_md-qiime_host_species_eco_metadata_by_SampleID_gut_2.18.19.txt')\n",
    "host_md = pd.read_csv(host_md_fp, sep='\\t')\n",
    "\n",
    "host_md = host_md.loc[(host_md['TimeTree_returned'].isin(host_tips))]\n",
    "\n",
    "# filter to just tetrapods\n",
    "include_classes = ['Amphibia',\n",
    "                    'Mammalia',\n",
    "                    'Aves',\n",
    "                    'Crocodylomorpha',\n",
    "                    'Lepidosauria',\n",
    "                    'Chelonia']\n",
    "\n",
    "host_md = host_md.loc[host_md['Taxonomy_Class'].isin(include_classes)]"
   ]
  },
  {
   "cell_type": "markdown",
   "metadata": {},
   "source": [
    "### Microbial distance matrix"
   ]
  },
  {
   "cell_type": "code",
   "execution_count": 6,
   "metadata": {},
   "outputs": [],
   "source": [
    "dm_dir = abspath('../bdiv')\n",
    "dm_fp = join(dm_dir, 'jaccard.merged-table.in-map.nomito-nochloro.10k.qza')\n",
    "dm_art = Artifact.load(dm_fp)\n",
    "dm = dm_art.view(skb.DistanceMatrix)"
   ]
  },
  {
   "cell_type": "markdown",
   "metadata": {},
   "source": [
    "### Filter metadata, dm, and tree to same samples and species"
   ]
  },
  {
   "cell_type": "code",
   "execution_count": 7,
   "metadata": {},
   "outputs": [],
   "source": [
    "md_ids = set(host_md['SampleID'])\n",
    "\n",
    "dm_ids = set(dm.ids)\n",
    "\n",
    "shared_ids = dm_ids & md_ids"
   ]
  },
  {
   "cell_type": "code",
   "execution_count": 8,
   "metadata": {},
   "outputs": [
    {
     "data": {
      "text/plain": [
       "4817"
      ]
     },
     "execution_count": 8,
     "metadata": {},
     "output_type": "execute_result"
    }
   ],
   "source": [
    "len(dm_ids)"
   ]
  },
  {
   "cell_type": "code",
   "execution_count": 9,
   "metadata": {},
   "outputs": [
    {
     "data": {
      "text/plain": [
       "5684"
      ]
     },
     "execution_count": 9,
     "metadata": {},
     "output_type": "execute_result"
    }
   ],
   "source": [
    "len(md_ids)"
   ]
  },
  {
   "cell_type": "code",
   "execution_count": 10,
   "metadata": {},
   "outputs": [
    {
     "data": {
      "text/plain": [
       "4488"
      ]
     },
     "execution_count": 10,
     "metadata": {},
     "output_type": "execute_result"
    }
   ],
   "source": [
    "len(shared_ids)"
   ]
  },
  {
   "cell_type": "markdown",
   "metadata": {},
   "source": [
    "Filter dm and metadata:"
   ]
  },
  {
   "cell_type": "code",
   "execution_count": 11,
   "metadata": {},
   "outputs": [],
   "source": [
    "host_md = host_md.loc[host_md['SampleID'].isin(shared_ids)]\n",
    "dm = dm.filter(list(shared_ids))"
   ]
  },
  {
   "cell_type": "code",
   "execution_count": 12,
   "metadata": {},
   "outputs": [
    {
     "data": {
      "text/plain": [
       "(4488, 322)"
      ]
     },
     "execution_count": 12,
     "metadata": {},
     "output_type": "execute_result"
    }
   ],
   "source": [
    "host_md.shape"
   ]
  },
  {
   "cell_type": "code",
   "execution_count": 13,
   "metadata": {},
   "outputs": [
    {
     "data": {
      "text/plain": [
       "(4488, 4488)"
      ]
     },
     "execution_count": 13,
     "metadata": {},
     "output_type": "execute_result"
    }
   ],
   "source": [
    "dm.shape"
   ]
  },
  {
   "cell_type": "markdown",
   "metadata": {},
   "source": [
    "Prune tree:"
   ]
  },
  {
   "cell_type": "code",
   "execution_count": 14,
   "metadata": {},
   "outputs": [],
   "source": [
    "host_tree = host_tree.shear(host_md['TimeTree_returned'])\n",
    "host_tips = [x.name for x in host_tree.tips()]"
   ]
  },
  {
   "cell_type": "markdown",
   "metadata": {},
   "source": [
    "## Test: overall mantel"
   ]
  },
  {
   "cell_type": "markdown",
   "metadata": {},
   "source": [
    "First, we'll subset the host tree. For testing purposes, we can set subset to `True` to pull 100 random host species."
   ]
  },
  {
   "cell_type": "code",
   "execution_count": 15,
   "metadata": {},
   "outputs": [],
   "source": [
    "subset = False"
   ]
  },
  {
   "cell_type": "code",
   "execution_count": 16,
   "metadata": {},
   "outputs": [],
   "source": [
    "# subset the tree if desired\n",
    "if subset:\n",
    "    host_subset = np.random.choice(host_tips, size=100, replace=False)\n",
    "else:\n",
    "    host_subset = host_tips\n",
    "\n",
    "host_tree_subset = host_tree.shear(host_subset)\n",
    "\n",
    "host_ids_subset = host_md.loc[host_md['TimeTree_returned'].isin(host_subset), 'SampleID']"
   ]
  },
  {
   "cell_type": "code",
   "execution_count": 17,
   "metadata": {},
   "outputs": [
    {
     "data": {
      "text/plain": [
       "4488"
      ]
     },
     "execution_count": 17,
     "metadata": {},
     "output_type": "execute_result"
    }
   ],
   "source": [
    "len(host_ids_subset)"
   ]
  },
  {
   "cell_type": "markdown",
   "metadata": {},
   "source": [
    "Within-species comparisons can artificially inflate the signal of 'phylosymbiosis' because they tend to be more similar for a host of reasons, and have a branch length of 0. Since we only care about between-species comparisons, we will subset to a single arbitrarily-chosen individual per species (if `one_per_sp == True`)."
   ]
  },
  {
   "cell_type": "code",
   "execution_count": 18,
   "metadata": {},
   "outputs": [],
   "source": [
    "one_per_sp = True"
   ]
  },
  {
   "cell_type": "code",
   "execution_count": 19,
   "metadata": {},
   "outputs": [],
   "source": [
    "if one_per_sp:\n",
    "    host_md = host_md.loc[(host_md['SampleID'].isin(host_ids_subset)) &\n",
    "                          (host_md['SampleID'].isin(dm.ids)),].groupby('TimeTree_returned').first()\n",
    "    host_md =  host_md.loc[(host_md['SampleID'].isin(host_ids_subset)) &\n",
    "                          (host_md['SampleID'].isin(dm.ids)),].groupby('TimeTree_returned').first().reset_index()\n",
    "    host_ids_subset = list(set(host_ids_subset) & set(host_md['SampleID']))"
   ]
  },
  {
   "cell_type": "code",
   "execution_count": 20,
   "metadata": {
    "scrolled": true
   },
   "outputs": [
    {
     "data": {
      "text/plain": [
       "868"
      ]
     },
     "execution_count": 20,
     "metadata": {},
     "output_type": "execute_result"
    }
   ],
   "source": [
    "len(host_ids_subset)"
   ]
  },
  {
   "cell_type": "markdown",
   "metadata": {},
   "source": [
    "### Calculate patristic distances"
   ]
  },
  {
   "cell_type": "code",
   "execution_count": 21,
   "metadata": {},
   "outputs": [],
   "source": [
    "patristic_dm = host_tree_subset.tip_tip_distances()"
   ]
  },
  {
   "cell_type": "code",
   "execution_count": 22,
   "metadata": {},
   "outputs": [
    {
     "data": {
      "text/plain": [
       "(868, 868)"
      ]
     },
     "execution_count": 22,
     "metadata": {},
     "output_type": "execute_result"
    }
   ],
   "source": [
    "patristic_dm.shape"
   ]
  },
  {
   "cell_type": "markdown",
   "metadata": {},
   "source": [
    "### Add diet distances"
   ]
  },
  {
   "cell_type": "code",
   "execution_count": 23,
   "metadata": {},
   "outputs": [],
   "source": [
    "elton_cols = ['ET.Diet.Fruit',\n",
    "             'ET.Diet.Inv',\n",
    "             'ET.Diet.Nect',\n",
    "             'ET.Diet.PlantO',\n",
    "             'ET.Diet.Scav',\n",
    "             'ET.Diet.Seed',\n",
    "             'ET.Diet.Vect',\n",
    "             'ET.Diet.Vend',\n",
    "             'ET.Diet.Vfish',\n",
    "             'ET.Diet.Vunk']"
   ]
  },
  {
   "cell_type": "code",
   "execution_count": 24,
   "metadata": {},
   "outputs": [],
   "source": [
    "host_diet_df = host_md.loc[host_md[elton_cols].sum(axis=1) == 100,\n",
    "                           ['SampleID'] + elton_cols].dropna()"
   ]
  },
  {
   "cell_type": "code",
   "execution_count": 25,
   "metadata": {},
   "outputs": [],
   "source": [
    "host_diet_df.set_index('SampleID', inplace=True)"
   ]
  },
  {
   "cell_type": "code",
   "execution_count": 26,
   "metadata": {},
   "outputs": [
    {
     "name": "stderr",
     "output_type": "stream",
     "text": [
      "/home/jgsanders/.conda/envs/jupyter-qiime2-2019.1/lib/python3.6/site-packages/pandas/core/indexing.py:1472: FutureWarning: \n",
      "Passing list-likes to .loc or [] with any missing label will raise\n",
      "KeyError in the future, you can use .reindex() as an alternative.\n",
      "\n",
      "See the documentation here:\n",
      "https://pandas.pydata.org/pandas-docs/stable/indexing.html#deprecate-loc-reindex-listlike\n",
      "  return self._getitem_tuple(key)\n"
     ]
    }
   ],
   "source": [
    "host_diet_df = host_diet_df.loc[host_ids_subset,:].dropna()"
   ]
  },
  {
   "cell_type": "code",
   "execution_count": 27,
   "metadata": {
    "scrolled": true
   },
   "outputs": [
    {
     "data": {
      "text/html": [
       "<div>\n",
       "<style scoped>\n",
       "    .dataframe tbody tr th:only-of-type {\n",
       "        vertical-align: middle;\n",
       "    }\n",
       "\n",
       "    .dataframe tbody tr th {\n",
       "        vertical-align: top;\n",
       "    }\n",
       "\n",
       "    .dataframe thead th {\n",
       "        text-align: right;\n",
       "    }\n",
       "</style>\n",
       "<table border=\"1\" class=\"dataframe\">\n",
       "  <thead>\n",
       "    <tr style=\"text-align: right;\">\n",
       "      <th></th>\n",
       "      <th>ET.Diet.Fruit</th>\n",
       "      <th>ET.Diet.Inv</th>\n",
       "      <th>ET.Diet.Nect</th>\n",
       "      <th>ET.Diet.PlantO</th>\n",
       "      <th>ET.Diet.Scav</th>\n",
       "      <th>ET.Diet.Seed</th>\n",
       "      <th>ET.Diet.Vect</th>\n",
       "      <th>ET.Diet.Vend</th>\n",
       "      <th>ET.Diet.Vfish</th>\n",
       "      <th>ET.Diet.Vunk</th>\n",
       "    </tr>\n",
       "    <tr>\n",
       "      <th>SampleID</th>\n",
       "      <th></th>\n",
       "      <th></th>\n",
       "      <th></th>\n",
       "      <th></th>\n",
       "      <th></th>\n",
       "      <th></th>\n",
       "      <th></th>\n",
       "      <th></th>\n",
       "      <th></th>\n",
       "      <th></th>\n",
       "    </tr>\n",
       "  </thead>\n",
       "  <tbody>\n",
       "    <tr>\n",
       "      <th>11166.fmnh.1059</th>\n",
       "      <td>20.0</td>\n",
       "      <td>60.0</td>\n",
       "      <td>0.0</td>\n",
       "      <td>0.0</td>\n",
       "      <td>0.0</td>\n",
       "      <td>20.0</td>\n",
       "      <td>0.0</td>\n",
       "      <td>0.0</td>\n",
       "      <td>0.0</td>\n",
       "      <td>0.0</td>\n",
       "    </tr>\n",
       "    <tr>\n",
       "      <th>11815.PWW.3559.FecalFTA</th>\n",
       "      <td>0.0</td>\n",
       "      <td>100.0</td>\n",
       "      <td>0.0</td>\n",
       "      <td>0.0</td>\n",
       "      <td>0.0</td>\n",
       "      <td>0.0</td>\n",
       "      <td>0.0</td>\n",
       "      <td>0.0</td>\n",
       "      <td>0.0</td>\n",
       "      <td>0.0</td>\n",
       "    </tr>\n",
       "    <tr>\n",
       "      <th>11166.fmnh.2814</th>\n",
       "      <td>10.0</td>\n",
       "      <td>80.0</td>\n",
       "      <td>0.0</td>\n",
       "      <td>0.0</td>\n",
       "      <td>0.0</td>\n",
       "      <td>10.0</td>\n",
       "      <td>0.0</td>\n",
       "      <td>0.0</td>\n",
       "      <td>0.0</td>\n",
       "      <td>0.0</td>\n",
       "    </tr>\n",
       "    <tr>\n",
       "      <th>10684.weampp11B12</th>\n",
       "      <td>20.0</td>\n",
       "      <td>60.0</td>\n",
       "      <td>0.0</td>\n",
       "      <td>0.0</td>\n",
       "      <td>0.0</td>\n",
       "      <td>10.0</td>\n",
       "      <td>10.0</td>\n",
       "      <td>0.0</td>\n",
       "      <td>0.0</td>\n",
       "      <td>0.0</td>\n",
       "    </tr>\n",
       "    <tr>\n",
       "      <th>11166.fmnh.162</th>\n",
       "      <td>0.0</td>\n",
       "      <td>10.0</td>\n",
       "      <td>0.0</td>\n",
       "      <td>20.0</td>\n",
       "      <td>0.0</td>\n",
       "      <td>70.0</td>\n",
       "      <td>0.0</td>\n",
       "      <td>0.0</td>\n",
       "      <td>0.0</td>\n",
       "      <td>0.0</td>\n",
       "    </tr>\n",
       "  </tbody>\n",
       "</table>\n",
       "</div>"
      ],
      "text/plain": [
       "                         ET.Diet.Fruit  ET.Diet.Inv  ET.Diet.Nect  \\\n",
       "SampleID                                                            \n",
       "11166.fmnh.1059                   20.0         60.0           0.0   \n",
       "11815.PWW.3559.FecalFTA            0.0        100.0           0.0   \n",
       "11166.fmnh.2814                   10.0         80.0           0.0   \n",
       "10684.weampp11B12                 20.0         60.0           0.0   \n",
       "11166.fmnh.162                     0.0         10.0           0.0   \n",
       "\n",
       "                         ET.Diet.PlantO  ET.Diet.Scav  ET.Diet.Seed  \\\n",
       "SampleID                                                              \n",
       "11166.fmnh.1059                     0.0           0.0          20.0   \n",
       "11815.PWW.3559.FecalFTA             0.0           0.0           0.0   \n",
       "11166.fmnh.2814                     0.0           0.0          10.0   \n",
       "10684.weampp11B12                   0.0           0.0          10.0   \n",
       "11166.fmnh.162                     20.0           0.0          70.0   \n",
       "\n",
       "                         ET.Diet.Vect  ET.Diet.Vend  ET.Diet.Vfish  \\\n",
       "SampleID                                                             \n",
       "11166.fmnh.1059                   0.0           0.0            0.0   \n",
       "11815.PWW.3559.FecalFTA           0.0           0.0            0.0   \n",
       "11166.fmnh.2814                   0.0           0.0            0.0   \n",
       "10684.weampp11B12                10.0           0.0            0.0   \n",
       "11166.fmnh.162                    0.0           0.0            0.0   \n",
       "\n",
       "                         ET.Diet.Vunk  \n",
       "SampleID                               \n",
       "11166.fmnh.1059                   0.0  \n",
       "11815.PWW.3559.FecalFTA           0.0  \n",
       "11166.fmnh.2814                   0.0  \n",
       "10684.weampp11B12                 0.0  \n",
       "11166.fmnh.162                    0.0  "
      ]
     },
     "execution_count": 27,
     "metadata": {},
     "output_type": "execute_result"
    }
   ],
   "source": [
    "host_diet_df.head()"
   ]
  },
  {
   "cell_type": "code",
   "execution_count": 28,
   "metadata": {},
   "outputs": [],
   "source": [
    "diet_dm = skb.DistanceMatrix(squareform(pdist(host_diet_df.iloc[:, :], metric='braycurtis')))\n",
    "diet_dm.ids = host_diet_df.index"
   ]
  },
  {
   "cell_type": "code",
   "execution_count": 29,
   "metadata": {},
   "outputs": [
    {
     "data": {
      "text/plain": [
       "(788, 788)"
      ]
     },
     "execution_count": 29,
     "metadata": {},
     "output_type": "execute_result"
    }
   ],
   "source": [
    "diet_dm.shape"
   ]
  },
  {
   "cell_type": "code",
   "execution_count": null,
   "metadata": {},
   "outputs": [],
   "source": []
  },
  {
   "cell_type": "code",
   "execution_count": 30,
   "metadata": {},
   "outputs": [],
   "source": [
    "rename_df = host_md.loc[host_md['SampleID'].isin(diet_dm.ids),\n",
    "                             ['SampleID','TimeTree_returned']].set_index('SampleID')\n",
    "rename = [rename_df.loc[x, 'TimeTree_returned'] for x in diet_dm.ids]"
   ]
  },
  {
   "cell_type": "code",
   "execution_count": 31,
   "metadata": {},
   "outputs": [],
   "source": [
    "diet_dm.ids = rename"
   ]
  },
  {
   "cell_type": "markdown",
   "metadata": {},
   "source": [
    "### Subset DM to remaining hosts and rename by tree"
   ]
  },
  {
   "cell_type": "code",
   "execution_count": 32,
   "metadata": {},
   "outputs": [],
   "source": [
    "dm_subset = dm.filter(list(host_ids_subset))"
   ]
  },
  {
   "cell_type": "code",
   "execution_count": 33,
   "metadata": {},
   "outputs": [
    {
     "data": {
      "text/plain": [
       "(868, 868)"
      ]
     },
     "execution_count": 33,
     "metadata": {},
     "output_type": "execute_result"
    }
   ],
   "source": [
    "dm_subset.shape"
   ]
  },
  {
   "cell_type": "code",
   "execution_count": 34,
   "metadata": {},
   "outputs": [],
   "source": [
    "rename_df = host_md.loc[host_md['SampleID'].isin(dm_subset.ids),\n",
    "                             ['SampleID','TimeTree_returned']].set_index('SampleID')\n",
    "rename = [rename_df.loc[x, 'TimeTree_returned'] for x in dm_subset.ids]"
   ]
  },
  {
   "cell_type": "code",
   "execution_count": 35,
   "metadata": {},
   "outputs": [],
   "source": [
    "dm_subset.ids = rename"
   ]
  },
  {
   "cell_type": "code",
   "execution_count": 36,
   "metadata": {},
   "outputs": [
    {
     "data": {
      "text/plain": [
       "True"
      ]
     },
     "execution_count": 36,
     "metadata": {},
     "output_type": "execute_result"
    }
   ],
   "source": [
    "set(dm_subset.ids) == set(patristic_dm.ids)"
   ]
  },
  {
   "cell_type": "markdown",
   "metadata": {},
   "source": [
    "# Method to run mantel iteratively across tree"
   ]
  },
  {
   "cell_type": "code",
   "execution_count": 37,
   "metadata": {},
   "outputs": [],
   "source": [
    "def recursive_mantel(tree, dm1, dm2, min_size=7, **kwargs):\n",
    "    i = 0\n",
    "    nodes = tree.count(tips=True) * 2 - 1\n",
    "    tree.assign_ids()\n",
    "    node_dict = {}\n",
    "    for n in tree.postorder():\n",
    "        label = n.name\n",
    "        i += 1\n",
    "        # see if you're below minimum clade size\n",
    "        if n.count(tips=True) < min_size:\n",
    "            continue\n",
    "        # if not, run mantel\n",
    "        else:\n",
    "            tips = [t.name for t in n.tips()]\n",
    "            dm1_s = dm1.filter(tips)\n",
    "            dm2_s = dm2.filter(tips)\n",
    "            corr, p, _ = mantel(dm1_s, dm2_s, **kwargs)\n",
    "            node_dict[n.name] = (corr, p)\n",
    "    \n",
    "        pct = (i / nodes)\n",
    "        \n",
    "        if np.round(pct * 100) % 10 == 0:\n",
    "            print(pct)\n",
    "    return(node_dict)"
   ]
  },
  {
   "cell_type": "code",
   "execution_count": 38,
   "metadata": {},
   "outputs": [],
   "source": [
    "def recursive_mantel_ecopy(tree, dm1, dm2, min_size=7, **kwargs):\n",
    "    i = 0\n",
    "    nodes = tree.count(tips=True) * 2 - 1\n",
    "    tree.assign_ids()\n",
    "    node_dict = {}\n",
    "    for n in tree.postorder():\n",
    "        label = n.name\n",
    "        i += 1\n",
    "        # see if you're below minimum clade size\n",
    "        if n.count(tips=True) < min_size:\n",
    "            continue\n",
    "        # if not, run mantel\n",
    "        else:\n",
    "            tips = [t.name for t in n.tips()]\n",
    "            dm1_s = dm1.filter(tips)\n",
    "            dm2_s = dm2.filter(tips)\n",
    "            res = Mantel(dm1_s.data, dm2_s.data, **kwargs)\n",
    "            \n",
    "            node_dict[n.name] = (res.r_obs, res.pval)\n",
    "    \n",
    "        pct = (i / nodes)\n",
    "        \n",
    "        if np.round(pct * 100) % 10 == 0:\n",
    "            print(pct)\n",
    "    return(node_dict)"
   ]
  },
  {
   "cell_type": "code",
   "execution_count": 39,
   "metadata": {},
   "outputs": [],
   "source": [
    "def recursive_partial_mantel_ecopy(tree, dm1, dm2, dmc, min_size=7, **kwargs):\n",
    "    i = 0\n",
    "    nodes = tree.count(tips=True) * 2 - 1\n",
    "    tree.assign_ids()\n",
    "    node_dict = {}\n",
    "    for n in tree.postorder():\n",
    "        label = n.name\n",
    "        i += 1\n",
    "        # see if you're below minimum clade size\n",
    "        if n.count(tips=True) < min_size:\n",
    "            continue\n",
    "        # if not, run mantel\n",
    "        else:\n",
    "            tips = [t.name for t in n.tips()]\n",
    "            dm1_s = dm1.filter(tips)\n",
    "            dm2_s = dm2.filter(tips)\n",
    "            dmc_s = dmc.filter(tips)\n",
    "            res = Mantel(dm1_s.data, dm2_s.data, d_condition=dmc_s.data, **kwargs)\n",
    "            \n",
    "            node_dict[n.name] = (res.r_obs, res.pval)\n",
    "    \n",
    "        pct = (i / nodes)\n",
    "        \n",
    "        if np.round(pct * 100) % 10 == 0:\n",
    "            print(pct)\n",
    "    return(node_dict)"
   ]
  },
  {
   "cell_type": "code",
   "execution_count": 40,
   "metadata": {},
   "outputs": [],
   "source": [
    "# assign internal node names, non-integer\n",
    "\n",
    "host_tree_subset.assign_ids()\n",
    "\n",
    "for n in host_tree_subset.postorder():\n",
    "    if n.is_tip():\n",
    "        continue\n",
    "    elif n.name[0].isdigit(): \n",
    "        n.name = \"node%s\" % n.name"
   ]
  },
  {
   "cell_type": "code",
   "execution_count": 41,
   "metadata": {},
   "outputs": [],
   "source": [
    "tips = set(patristic_dm.ids) & set(dm_subset.ids) & set(diet_dm.ids)"
   ]
  },
  {
   "cell_type": "code",
   "execution_count": 42,
   "metadata": {},
   "outputs": [
    {
     "data": {
      "text/plain": [
       "788"
      ]
     },
     "execution_count": 42,
     "metadata": {},
     "output_type": "execute_result"
    }
   ],
   "source": [
    "len(tips)"
   ]
  },
  {
   "cell_type": "markdown",
   "metadata": {},
   "source": [
    "Change `run` to `True` if re-calculating values"
   ]
  },
  {
   "cell_type": "code",
   "execution_count": 43,
   "metadata": {},
   "outputs": [],
   "source": [
    "run = False"
   ]
  },
  {
   "cell_type": "code",
   "execution_count": 44,
   "metadata": {
    "scrolled": true
   },
   "outputs": [],
   "source": [
    "if run:\n",
    "    node_dict_spearman = recursive_mantel(host_tree_subset, patristic_dm, dm_subset, method='spearman')"
   ]
  },
  {
   "cell_type": "code",
   "execution_count": 45,
   "metadata": {
    "scrolled": false
   },
   "outputs": [],
   "source": [
    "if run:\n",
    "    node_dict_pearson = recursive_mantel(host_tree_subset, patristic_dm, dm_subset, method='pearson')"
   ]
  },
  {
   "cell_type": "markdown",
   "metadata": {},
   "source": [
    "### Run partial Mantel tests, conditioned on diet"
   ]
  },
  {
   "cell_type": "code",
   "execution_count": 46,
   "metadata": {
    "scrolled": false
   },
   "outputs": [],
   "source": [
    "if run:\n",
    "    node_dict_spearman_partial = recursive_partial_mantel_ecopy(host_tree_subset.shear(tips),\n",
    "                                      patristic_dm.filter(tips),\n",
    "                                      dm_subset.filter(tips),\n",
    "                                      diet_dm.filter(tips),\n",
    "                                      test='spearman')"
   ]
  },
  {
   "cell_type": "code",
   "execution_count": 47,
   "metadata": {
    "scrolled": false
   },
   "outputs": [],
   "source": [
    "if run:\n",
    "    node_dict_pearson_partial = recursive_partial_mantel_ecopy(host_tree_subset.shear(tips),\n",
    "                                      patristic_dm.filter(tips),\n",
    "                                      dm_subset.filter(tips),\n",
    "                                      diet_dm.filter(tips),\n",
    "                                      test='pearson')"
   ]
  },
  {
   "cell_type": "markdown",
   "metadata": {},
   "source": [
    "## Write to file"
   ]
  },
  {
   "cell_type": "code",
   "execution_count": 48,
   "metadata": {},
   "outputs": [],
   "source": [
    "out_dir = '../phylosymbiosis/mantel'"
   ]
  },
  {
   "cell_type": "code",
   "execution_count": 49,
   "metadata": {},
   "outputs": [],
   "source": [
    "makedirs(out_dir, exist_ok=True)"
   ]
  },
  {
   "cell_type": "code",
   "execution_count": 50,
   "metadata": {},
   "outputs": [],
   "source": [
    "if run:\n",
    "    host_tree_subset.write(join(out_dir,'annotated_host_tree.tre'), format='newick')"
   ]
  },
  {
   "cell_type": "code",
   "execution_count": 51,
   "metadata": {
    "scrolled": true
   },
   "outputs": [],
   "source": [
    "if run:\n",
    "    node_df_pearson = pd.DataFrame.from_dict(node_dict_pearson, orient='index')\n",
    "    node_df_pearson.columns = ['r','p']\n",
    "    node_df_pearson.to_csv(join(out_dir, 'mantel.jaccard.pearson.csv'))"
   ]
  },
  {
   "cell_type": "code",
   "execution_count": 52,
   "metadata": {},
   "outputs": [],
   "source": [
    "if run:\n",
    "    node_df_spearman =  pd.DataFrame.from_dict(node_dict_spearman, orient='index')\n",
    "    node_df_spearman.columns = ['r','p']\n",
    "    node_df_spearman.to_csv(join(out_dir, 'mantel.jaccard.spearman.csv'))"
   ]
  },
  {
   "cell_type": "code",
   "execution_count": 53,
   "metadata": {},
   "outputs": [],
   "source": [
    "if run:\n",
    "    node_df_pearson_partial = pd.DataFrame.from_dict(node_dict_pearson_partial, orient='index')\n",
    "    node_df_pearson_partial.columns = ['r','p']\n",
    "    node_df_pearson_partial.to_csv(join(out_dir, 'mantel_partial.jaccard.pearson.csv'))"
   ]
  },
  {
   "cell_type": "code",
   "execution_count": 54,
   "metadata": {},
   "outputs": [],
   "source": [
    "if run:\n",
    "    node_df_spearman_partial =  pd.DataFrame.from_dict(node_dict_spearman_partial, orient='index')\n",
    "    node_df_spearman_partial.columns = ['r','p']\n",
    "    node_df_spearman_partial.to_csv(join(out_dir, 'mantel_partial.jaccard.spearman.csv'))"
   ]
  },
  {
   "cell_type": "markdown",
   "metadata": {},
   "source": [
    "## Calculate values for particular nodes"
   ]
  },
  {
   "cell_type": "code",
   "execution_count": 55,
   "metadata": {},
   "outputs": [],
   "source": [
    "host_tree_subset = TreeNode.read(join(out_dir,'annotated_host_tree.tre'))"
   ]
  },
  {
   "cell_type": "code",
   "execution_count": 56,
   "metadata": {
    "scrolled": true
   },
   "outputs": [],
   "source": [
    "node_df_pearson = pd.read_csv(join(out_dir, 'mantel.jaccard.pearson.csv'), index_col=0)\n",
    "node_df_spearman = pd.read_csv(join(out_dir, 'mantel.jaccard.spearman.csv'), index_col=0)\n",
    "node_df_pearson_partial = pd.read_csv(join(out_dir, 'mantel_partial.jaccard.pearson.csv'), index_col=0)\n",
    "node_df_spearman_partial = pd.read_csv(join(out_dir, 'mantel_partial.jaccard.spearman.csv'), index_col=0)"
   ]
  },
  {
   "cell_type": "code",
   "execution_count": 66,
   "metadata": {},
   "outputs": [],
   "source": [
    "def node_values(tips, tree, node_df, tree_dm, dist_dm):\n",
    "    node_name = tree.lca(tips).name\n",
    "    \n",
    "    r = node_df_pearson.loc[node_name, 'r']\n",
    "    p = node_df_pearson.loc[node_name, 'p']\n",
    "    \n",
    "    pats = patristic_dm.filter(tips)\n",
    "    dsts = dm_subset.filter(tips)\n",
    "\n",
    "    x = pats.to_series()\n",
    "    y = dsts.to_series()\n",
    "\n",
    "    slope, _, _, _, _ = linregress(x, y)\n",
    "    \n",
    "    plot = sns.lmplot('x',\n",
    "                      'y',\n",
    "                      pd.DataFrame({'x': x, 'y': y}).reset_index(),\n",
    "                      scatter_kws={'alpha':0.1})\n",
    "    plt.ylim(0.5, 1.05)\n",
    "\n",
    "    print((\"r: {r}\\n\"\n",
    "       \"p: {p}\\n\"\n",
    "       \"m: {m:8.7f}\\n\").format(r=r, p=p, m=slope))\n",
    "    \n",
    "#     plot"
   ]
  },
  {
   "cell_type": "markdown",
   "metadata": {},
   "source": [
    "### Mammals"
   ]
  },
  {
   "cell_type": "code",
   "execution_count": 67,
   "metadata": {},
   "outputs": [
    {
     "name": "stdout",
     "output_type": "stream",
     "text": [
      "r: 0.4023749236203191\n",
      "p: 0.001\n",
      "m: 0.0002610\n",
      "\n"
     ]
    },
    {
     "data": {
      "image/png": "[encoded data removed]",
      "text/plain": [
       "<Figure size 360x360 with 1 Axes>"
      ]
     },
     "metadata": {
      "needs_background": "light"
     },
     "output_type": "display_data"
    }
   ],
   "source": [
    "tips = set(host_md.loc[host_md['Taxonomy_Class'] == 'Mammalia','TimeTree_returned']) & set(host_subset)\n",
    "\n",
    "node_values(tips, host_tree_subset, node_df_pearson, patristic_dm, dm_subset)"
   ]
  },
  {
   "cell_type": "markdown",
   "metadata": {},
   "source": [
    "### Birds"
   ]
  },
  {
   "cell_type": "code",
   "execution_count": 68,
   "metadata": {},
   "outputs": [
    {
     "name": "stdout",
     "output_type": "stream",
     "text": [
      "r: 0.1416411096900261\n",
      "p: 0.001\n",
      "m: 0.0000892\n",
      "\n"
     ]
    },
    {
     "data": {
      "image/png": "[encoded data removed]",
      "text/plain": [
       "<Figure size 360x360 with 1 Axes>"
      ]
     },
     "metadata": {
      "needs_background": "light"
     },
     "output_type": "display_data"
    }
   ],
   "source": [
    "tips = set(host_md.loc[host_md['Taxonomy_Class'] == 'Aves','TimeTree_returned']) & set(host_subset)\n",
    "\n",
    "node_values(tips, host_tree_subset, node_df_pearson, patristic_dm, dm_subset)"
   ]
  },
  {
   "cell_type": "markdown",
   "metadata": {},
   "source": [
    "### Bats"
   ]
  },
  {
   "cell_type": "code",
   "execution_count": 69,
   "metadata": {},
   "outputs": [
    {
     "name": "stdout",
     "output_type": "stream",
     "text": [
      "r: 0.0996615272451906\n",
      "p: 0.032\n",
      "m: 0.0001426\n",
      "\n"
     ]
    },
    {
     "data": {
      "image/png": "[encoded data removed]",
      "text/plain": [
       "<Figure size 360x360 with 1 Axes>"
      ]
     },
     "metadata": {
      "needs_background": "light"
     },
     "output_type": "display_data"
    }
   ],
   "source": [
    "tips = set(host_md.loc[host_md['Taxonomy_Order'] == 'Chiroptera',\n",
    "                       'TimeTree_returned']) & set(host_subset)\n",
    "\n",
    "node_values(tips, host_tree_subset, node_df_pearson, patristic_dm, dm_subset)"
   ]
  },
  {
   "cell_type": "markdown",
   "metadata": {},
   "source": [
    "### Cetartiodactyla"
   ]
  },
  {
   "cell_type": "code",
   "execution_count": 70,
   "metadata": {},
   "outputs": [
    {
     "name": "stdout",
     "output_type": "stream",
     "text": [
      "r: 0.678464908738545\n",
      "p: 0.001\n",
      "m: 0.0016716\n",
      "\n"
     ]
    },
    {
     "data": {
      "image/png": "[encoded data removed]",
      "text/plain": [
       "<Figure size 360x360 with 1 Axes>"
      ]
     },
     "metadata": {
      "needs_background": "light"
     },
     "output_type": "display_data"
    }
   ],
   "source": [
    "tips = set(host_md.loc[host_md['Taxonomy_Order'] == 'Cetartiodactyla',\n",
    "                       'TimeTree_returned']) & set(host_subset)\n",
    "\n",
    "node_values(tips, host_tree_subset, node_df_pearson, patristic_dm, dm_subset)"
   ]
  },
  {
   "cell_type": "markdown",
   "metadata": {},
   "source": [
    "### Perissodactyla"
   ]
  },
  {
   "cell_type": "code",
   "execution_count": 71,
   "metadata": {},
   "outputs": [
    {
     "name": "stdout",
     "output_type": "stream",
     "text": [
      "r: 0.5559052082324161\n",
      "p: 0.016\n",
      "m: 0.0007564\n",
      "\n"
     ]
    },
    {
     "data": {
      "image/png": "[encoded data removed]",
      "text/plain": [
       "<Figure size 360x360 with 1 Axes>"
      ]
     },
     "metadata": {
      "needs_background": "light"
     },
     "output_type": "display_data"
    }
   ],
   "source": [
    "tips = set(host_md.loc[host_md['Taxonomy_Order'] == 'Perissodactyla',\n",
    "                       'TimeTree_returned']) & set(host_subset)\n",
    "\n",
    "node_values(tips, host_tree_subset, node_df_pearson, patristic_dm, dm_subset)"
   ]
  },
  {
   "cell_type": "markdown",
   "metadata": {},
   "source": [
    "### Primates"
   ]
  },
  {
   "cell_type": "code",
   "execution_count": 72,
   "metadata": {},
   "outputs": [
    {
     "name": "stdout",
     "output_type": "stream",
     "text": [
      "r: 0.4598538762562362\n",
      "p: 0.001\n",
      "m: 0.0005292\n",
      "\n"
     ]
    },
    {
     "data": {
      "image/png": "[encoded data removed]",
      "text/plain": [
       "<Figure size 360x360 with 1 Axes>"
      ]
     },
     "metadata": {
      "needs_background": "light"
     },
     "output_type": "display_data"
    }
   ],
   "source": [
    "tips = set(host_md.loc[host_md['Taxonomy_Order'] == 'Primates',\n",
    "                       'TimeTree_returned']) & set(host_subset)\n",
    "\n",
    "node_values(tips, host_tree_subset, node_df_pearson, patristic_dm, dm_subset)"
   ]
  },
  {
   "cell_type": "markdown",
   "metadata": {},
   "source": [
    "### Carnivora"
   ]
  },
  {
   "cell_type": "code",
   "execution_count": 73,
   "metadata": {},
   "outputs": [
    {
     "name": "stdout",
     "output_type": "stream",
     "text": [
      "r: 0.3281452746527036\n",
      "p: 0.001\n",
      "m: 0.0007018\n",
      "\n"
     ]
    },
    {
     "data": {
      "image/png": "[encoded data removed]",
      "text/plain": [
       "<Figure size 360x360 with 1 Axes>"
      ]
     },
     "metadata": {
      "needs_background": "light"
     },
     "output_type": "display_data"
    }
   ],
   "source": [
    "tips = set(host_md.loc[host_md['Taxonomy_Order'] == 'Carnivora',\n",
    "                       'TimeTree_returned']) & set(host_subset)\n",
    "\n",
    "node_values(tips, host_tree_subset, node_df_pearson, patristic_dm, dm_subset)"
   ]
  },
  {
   "cell_type": "markdown",
   "metadata": {},
   "source": [
    "### Rodentia"
   ]
  },
  {
   "cell_type": "code",
   "execution_count": 74,
   "metadata": {},
   "outputs": [
    {
     "name": "stdout",
     "output_type": "stream",
     "text": [
      "r: 0.28984398548612905\n",
      "p: 0.001\n",
      "m: 0.0001673\n",
      "\n"
     ]
    },
    {
     "data": {
      "image/png": "[encoded data removed]",
      "text/plain": [
       "<Figure size 360x360 with 1 Axes>"
      ]
     },
     "metadata": {
      "needs_background": "light"
     },
     "output_type": "display_data"
    }
   ],
   "source": [
    "tips = set(host_md.loc[host_md['Taxonomy_Order'] == 'Rodentia',\n",
    "                       'TimeTree_returned']) & set(host_subset)\n",
    "\n",
    "node_values(tips, host_tree_subset, node_df_pearson, patristic_dm, dm_subset)"
   ]
  },
  {
   "cell_type": "markdown",
   "metadata": {},
   "source": [
    "# Write tree color file"
   ]
  },
  {
   "cell_type": "code",
   "execution_count": 107,
   "metadata": {},
   "outputs": [],
   "source": [
    "itol_dir = '../phylosymbiosis/itol'"
   ]
  },
  {
   "cell_type": "code",
   "execution_count": 108,
   "metadata": {},
   "outputs": [],
   "source": [
    "makedirs(itol_dir, exist_ok=True)"
   ]
  },
  {
   "cell_type": "code",
   "execution_count": 171,
   "metadata": {},
   "outputs": [],
   "source": [
    "import matplotlib as mpl"
   ]
  },
  {
   "cell_type": "code",
   "execution_count": 172,
   "metadata": {},
   "outputs": [
    {
     "data": {
      "text/plain": [
       "0.865743525232451"
      ]
     },
     "execution_count": 172,
     "metadata": {},
     "output_type": "execute_result"
    }
   ],
   "source": [
    "node_df_pearson['r'].max()"
   ]
  },
  {
   "cell_type": "code",
   "execution_count": 173,
   "metadata": {
    "scrolled": true
   },
   "outputs": [
    {
     "data": {
      "text/plain": [
       "0.8140991732819016"
      ]
     },
     "execution_count": 173,
     "metadata": {},
     "output_type": "execute_result"
    }
   ],
   "source": [
    "node_df_spearman['r'].max()"
   ]
  },
  {
   "cell_type": "code",
   "execution_count": 174,
   "metadata": {},
   "outputs": [
    {
     "data": {
      "text/plain": [
       "0.865743525232451"
      ]
     },
     "execution_count": 174,
     "metadata": {},
     "output_type": "execute_result"
    }
   ],
   "source": [
    "node_df_pearson_partial['r'].max()"
   ]
  },
  {
   "cell_type": "code",
   "execution_count": 175,
   "metadata": {},
   "outputs": [
    {
     "data": {
      "text/plain": [
       "0.7374618389586242"
      ]
     },
     "execution_count": 175,
     "metadata": {},
     "output_type": "execute_result"
    }
   ],
   "source": [
    "node_df_spearman_partial['r'].max()"
   ]
  },
  {
   "cell_type": "code",
   "execution_count": 235,
   "metadata": {
    "scrolled": true
   },
   "outputs": [
    {
     "data": {
      "text/plain": [
       "<matplotlib.colorbar.Colorbar at 0x7f1cef3b76d8>"
      ]
     },
     "execution_count": 235,
     "metadata": {},
     "output_type": "execute_result"
    },
    {
     "data": {
      "image/png": "[encoded data removed]",
      "text/plain": [
       "<Figure size 432x288 with 2 Axes>"
      ]
     },
     "metadata": {
      "needs_background": "light"
     },
     "output_type": "display_data"
    }
   ],
   "source": [
    "# create dummy invisible image\n",
    "# (use the colormap you want to have on the colorbar)\n",
    "cmax = node_df_pearson['r'].max()\n",
    "img = plt.imshow(np.array([[0,cmax]]), cmap=mpl.cm.plasma)\n",
    "img.set_visible(False)\n",
    "\n",
    "plt.colorbar(orientation=\"vertical\")\n",
    "\n",
    "# add any other things you want to the figure.\n",
    "# plt.plot(np.random.rand(30))"
   ]
  },
  {
   "cell_type": "code",
   "execution_count": 284,
   "metadata": {},
   "outputs": [],
   "source": [
    "def colorbar(fp,\n",
    "             cmax=1,\n",
    "             size=(4,.7)):\n",
    "    a = np.array([[0,cmax]])\n",
    "    pl.figure(figsize=size)\n",
    "    img = pl.imshow(a, cmap=mpl.cm.plasma)\n",
    "    pl.gca().set_visible(False)\n",
    "    cax = pl.axes([0.1, 0.4, 0.8, 0.5])\n",
    "    pl.colorbar(orientation='horizontal', cax=cax)\n",
    "    pl.savefig(fp)\n",
    "    "
   ]
  },
  {
   "cell_type": "code",
   "execution_count": 294,
   "metadata": {
    "scrolled": true
   },
   "outputs": [
    {
     "data": {
      "image/png": "[encoded data removed]",
      "text/plain": [
       "<Figure size 180x43.2 with 2 Axes>"
      ]
     },
     "metadata": {
      "needs_background": "light"
     },
     "output_type": "display_data"
    }
   ],
   "source": [
    "colorbar(join(itol_dir, 'mantel.jaccard.pearson.itol-r_colorbar.pdf'),\n",
    "         cmax=node_df_pearson['r'].max(),\n",
    "         size=(2.5,.6))"
   ]
  },
  {
   "cell_type": "code",
   "execution_count": 298,
   "metadata": {},
   "outputs": [
    {
     "data": {
      "image/png": "[encoded data removed]",
      "text/plain": [
       "<Figure size 180x43.2 with 2 Axes>"
      ]
     },
     "metadata": {
      "needs_background": "light"
     },
     "output_type": "display_data"
    }
   ],
   "source": [
    "colorbar(join(itol_dir, 'mantel.jaccard.spearman.itol-r_colorbar.pdf'),\n",
    "         cmax=node_df_spearman['r'].max(),\n",
    "         size=(2.5,.6))"
   ]
  },
  {
   "cell_type": "code",
   "execution_count": 297,
   "metadata": {},
   "outputs": [
    {
     "data": {
      "image/png": "[encoded data removed]",
      "text/plain": [
       "<Figure size 180x43.2 with 2 Axes>"
      ]
     },
     "metadata": {
      "needs_background": "light"
     },
     "output_type": "display_data"
    }
   ],
   "source": [
    "colorbar(join(itol_dir, 'mantel_partial.jaccard.pearson.itol-r_colorbar.pdf'),\n",
    "         cmax=node_df_pearson_partial['r'].max(),\n",
    "         size=(2.5,.6))"
   ]
  },
  {
   "cell_type": "code",
   "execution_count": 299,
   "metadata": {},
   "outputs": [
    {
     "data": {
      "image/png": "[encoded data removed]",
      "text/plain": [
       "<Figure size 180x43.2 with 2 Axes>"
      ]
     },
     "metadata": {
      "needs_background": "light"
     },
     "output_type": "display_data"
    }
   ],
   "source": [
    "colorbar(join(itol_dir, 'mantel_partial.jaccard.spearman.itol-r_colorbar.pdf'),\n",
    "         cmax=node_df_spearman_partial['r'].max(),\n",
    "         size=(2.5,.6))"
   ]
  },
  {
   "cell_type": "code",
   "execution_count": 176,
   "metadata": {},
   "outputs": [],
   "source": [
    "def get_colors(vals, col, cmap=mpl.cm.plasma):\n",
    "    norm = mpl.colors.Normalize(vmin=0, vmax=np.max(vals))\n",
    "    \n",
    "    colors = []\n",
    "    \n",
    "    for i in vals:\n",
    "        rgb = mpl.cm.ScalarMappable(norm=norm,\n",
    "                                    cmap=cmap).to_rgba(i)\n",
    "        hex_val = mpl.colors.rgb2hex(rgb)\n",
    "        colors.append(hex_val)\n",
    "\n",
    "    return(colors)\n",
    "\n",
    "def write_itol_colors(node_df, col, fp, label='branch_colors'):\n",
    "    out = ('DATASET_STYLE\\n\\n'\n",
    "           'SEPARATOR SPACE\\n\\n'\n",
    "           'COLOR #ffff00\\n\\n'\n",
    "           'DATASET_LABEL %s\\n\\n'\n",
    "           'DATA\\n'\n",
    "           '#NODE_ID TYPE COLOR LABEL_OR_STYLE SIZE_FACTOR\\n' % label)\n",
    "\n",
    "    for i, row in node_df.iterrows():\n",
    "        out += '{0} branch node {1} 2 normal\\n'.format(i, row[col])\n",
    "\n",
    "    with open(fp, 'w') as f:\n",
    "        f.write(out)"
   ]
  },
  {
   "cell_type": "code",
   "execution_count": null,
   "metadata": {},
   "outputs": [],
   "source": [
    "#LEGEND_TITLE,Dataset legend\n",
    "#LEGEND_SHAPES,1,2,3\n",
    "#LEGEND_COLORS,#ff0000,#00ff00,#0000ff\n",
    "#LEGEND_LABELS,value1,value2,value3"
   ]
  },
  {
   "cell_type": "code",
   "execution_count": 86,
   "metadata": {},
   "outputs": [],
   "source": [
    "node_df_pearson['r_color'] = get_colors(node_df_pearson['r'], col='r')\n",
    "node_df_spearman['r_color'] = get_colors(node_df_spearman['r'], col='r')"
   ]
  },
  {
   "cell_type": "code",
   "execution_count": 87,
   "metadata": {},
   "outputs": [],
   "source": [
    "node_df_pearson_partial['r_color'] = get_colors(node_df_pearson_partial['r'], col='r')\n",
    "node_df_spearman_partial['r_color'] = get_colors(node_df_spearman_partial['r'], col='r')"
   ]
  },
  {
   "cell_type": "code",
   "execution_count": 88,
   "metadata": {},
   "outputs": [],
   "source": [
    "write_itol_colors(node_df_pearson, \n",
    "                  'r_color', \n",
    "                  join(itol_dir, 'mantel.jaccard.pearson.itol-r_colors.txt'),\n",
    "                  label='pearson_r')\n",
    "write_itol_colors(node_df_spearman, \n",
    "                  'r_color',\n",
    "                  join(itol_dir, 'mantel.jaccard.spearman.itol-r_colors.txt'),\n",
    "                  label='spearman_r')\n"
   ]
  },
  {
   "cell_type": "code",
   "execution_count": 89,
   "metadata": {},
   "outputs": [],
   "source": [
    "write_itol_colors(node_df_pearson_partial, \n",
    "                  'r_color', \n",
    "                  join(itol_dir, 'mantel_partial.jaccard.pearson.itol-r_colors.txt'),\n",
    "                  label='pearson_r_partial')\n",
    "write_itol_colors(node_df_spearman_partial, \n",
    "                  'r_color',\n",
    "                  join(itol_dir, 'mantel_partial.jaccard.spearman.itol-r_colors.txt'),\n",
    "                  label='spearman_r_partial')"
   ]
  },
  {
   "cell_type": "markdown",
   "metadata": {},
   "source": [
    "### Write pie chart p-val indicator file"
   ]
  },
  {
   "cell_type": "code",
   "execution_count": 90,
   "metadata": {},
   "outputs": [],
   "source": [
    "# 9132,0,50,11000\n",
    "def write_pval_pies(node_df, col, fp, label='p-vals', breaks = [0.001, 0.01, 0.05]):\n",
    "    header = (\"DATASET_PIECHART\\n\"\n",
    "              \"SEPARATOR SPACE\\n\"\n",
    "              \"DATASET_LABEL %s\\n\"\n",
    "              \"COLOR #ff0000\\n\"\n",
    "              \"FIELD_COLORS #ff0000\\n\"\n",
    "              \"FIELD_LABELS p-value\\n\"\n",
    "              \"MAXIMUM_SIZE 30\\n\"\n",
    "              \"BORDER_WIDTH 0\\n\"\n",
    "              \"DATA\\n\" % label)\n",
    "    \n",
    "    break_sizes = [int(30 - i/len(breaks)*30) for i, x in enumerate(breaks)]\n",
    "    pies = []\n",
    "    for i, row in node_df.iterrows():\n",
    "        size = 0\n",
    "        for s, b in enumerate(breaks):\n",
    "            if row[col] > b:\n",
    "                continue\n",
    "            else:\n",
    "                size = break_sizes[s]\n",
    "                break\n",
    "        if size > 0:\n",
    "            pies.append(\"{0} 0 {1} 1\".format(i, size))\n",
    "    \n",
    "    out = header + '\\n'.join(pies)\n",
    "    \n",
    "    with open(fp, 'w') as f:\n",
    "        f.write(out)\n",
    "            "
   ]
  },
  {
   "cell_type": "code",
   "execution_count": 91,
   "metadata": {},
   "outputs": [],
   "source": [
    "write_pval_pies(node_df_pearson, \n",
    "                'p', \n",
    "                join(itol_dir, 'mantel.jaccard.pearson.itol-p_pies.txt'), \n",
    "                label='pearson_p')\n",
    "write_pval_pies(node_df_spearman, \n",
    "                'p', \n",
    "                join(itol_dir, 'mantel.jaccard.spearman.itol-p_pies.txt'),\n",
    "                label='spearman_p')"
   ]
  },
  {
   "cell_type": "code",
   "execution_count": 92,
   "metadata": {},
   "outputs": [],
   "source": [
    "write_pval_pies(node_df_pearson_partial, \n",
    "                'p',\n",
    "                join(itol_dir, 'mantel_partial.jaccard.pearson.itol-p_pies.txt'),\n",
    "                label='pearson_p_partial')\n",
    "write_pval_pies(node_df_spearman_partial, \n",
    "                'p',\n",
    "                join(itol_dir, 'mantel_partial.jaccard.spearman.itol-p_pies.txt'),\n",
    "                label='spearman_p_partial')"
   ]
  },
  {
   "cell_type": "markdown",
   "metadata": {},
   "source": [
    "### Write clade highlighting\n",
    "\n",
    "    "
   ]
  },
  {
   "cell_type": "code",
   "execution_count": 183,
   "metadata": {},
   "outputs": [],
   "source": [
    "def write_clade_highlights(md_df, tree, tax_col, tree_col, fp,\n",
    "                           label='clade_highlights',\n",
    "                           colors=None, alpha=0.4, cmap=mpl.cm.Set3):\n",
    "    out = ('DATASET_COLORSTRIP\\n\\n'\n",
    "           'SEPARATOR SPACE\\n\\n'\n",
    "           'COLOR #b2df8a\\n\\n'\n",
    "           'DATASET_LABEL %s\\n\\n'% label)\n",
    "    \n",
    "    taxa = md_df[tax_col].unique()\n",
    "    \n",
    "    if colors is None:\n",
    "        clist = cmap(range(len(taxa)), alpha=alpha)\n",
    "        rgblist = ['rgba(%s,%s,%s,%s)' % (int(x[0]*255),\n",
    "                                          int(x[1]*255),\n",
    "                                          int(x[2]*255),\n",
    "                                          x[3]) for x in clist]\n",
    "        colors = {x: rgblist[i] for i, x in enumerate(taxa)}\n",
    "    \n",
    "    legend_shapes = ' '.join(['1']*len(taxa))\n",
    "    legend_colors = ''\n",
    "    legend_labels = ''\n",
    "    \n",
    "    for x in colors:\n",
    "        legend_colors += ' %s' % colors[x]\n",
    "        legend_labels += ' %s' % x\n",
    "    \n",
    "    out += ('LEGEND_TITLE host_colors\\n'\n",
    "            'LEGEND_SHAPES {0}\\n'\n",
    "            'LEGEND_COLORS{1}\\n'\n",
    "            'LEGEND_LABELS{2}\\n\\nDATA\\n').format(legend_shapes,\n",
    "                                            legend_colors,\n",
    "                                            legend_labels)\n",
    "        \n",
    "    for taxon in taxa:\n",
    "        tips = set(md_df.loc[md_df[tax_col] == taxon, tree_col])\n",
    "        node = tree.lowest_common_ancestor(tips)\n",
    "        \n",
    "        out += \"{0} {1}\\n\".format(node.name, colors[taxon])\n",
    "#         out += \"{0} range {1} {2}\\n\".format(node.name, colors[taxon], taxon)\n",
    "        \n",
    "    with open(fp, 'w') as f:\n",
    "        f.write(out)\n"
   ]
  },
  {
   "cell_type": "code",
   "execution_count": 232,
   "metadata": {},
   "outputs": [],
   "source": [
    "class_colors = {'Amphibia': '#b2df8a',\n",
    "                 'Chelonia': '#33a02c',\n",
    "                 'Lepidosauria': '#fb9a99',\n",
    "                 'Crocodylomorpha': '#e31a1c',\n",
    "                 'Aves': '#EACB47',\n",
    "                 'Mammalia': '#6a3d9a'}\n",
    "\n",
    "write_clade_highlights(host_md, \n",
    "                       host_tree_subset, \n",
    "                       'Taxonomy_Class', \n",
    "                       'TimeTree_returned',\n",
    "                       join(itol_dir, 'mantel.itol-Class_colors.txt'),\n",
    "                       colors=class_colors)"
   ]
  },
  {
   "cell_type": "code",
   "execution_count": 233,
   "metadata": {
    "scrolled": true
   },
   "outputs": [
    {
     "name": "stdout",
     "output_type": "stream",
     "text": [
      "DATASET_COLORSTRIP\r\n",
      "\r\n",
      "SEPARATOR SPACE\r\n",
      "\r\n",
      "COLOR #b2df8a\r\n",
      "\r\n",
      "DATASET_LABEL clade_highlights\r\n",
      "\r\n",
      "LEGEND_TITLE host_colors\r\n",
      "LEGEND_SHAPES 1 1 1 1 1 1\r\n",
      "LEGEND_COLORS #b2df8a #33a02c #fb9a99 #e31a1c #EACB47 #6a3d9a\r\n",
      "LEGEND_LABELS Amphibia Chelonia Lepidosauria Crocodylomorpha Aves Mammalia\r\n",
      "\r\n",
      "DATA\r\n",
      "node1659 #EACB47\r\n",
      "node2688 #6a3d9a\r\n",
      "node1688 #33a02c\r\n",
      "node1655 #e31a1c\r\n",
      "node56 #b2df8a\r\n",
      "node139 #fb9a99\r\n"
     ]
    }
   ],
   "source": [
    "!head -n 20 ../phylosymbiosis/itol/mantel.itol-Class_colors.txt"
   ]
  },
  {
   "cell_type": "markdown",
   "metadata": {},
   "source": [
    "### Write flight annotations"
   ]
  },
  {
   "cell_type": "code",
   "execution_count": 222,
   "metadata": {},
   "outputs": [],
   "source": [
    "def write_binary_colorstrip(md_df, col, tree_col, fp,\n",
    "                           label='categorical_colorstrip',\n",
    "                           colors=None, alpha=1, cmap=mpl.cm.Set3):\n",
    "    out = ('DATASET_COLORSTRIP\\n\\n'\n",
    "           'SEPARATOR SPACE\\n\\n'\n",
    "           'COLOR #8ab2df\\n\\n'\n",
    "           'DATASET_LABEL %s\\n\\n'% label)\n",
    "    \n",
    "    values = md_df[col].unique()\n",
    "    \n",
    "    if colors is None:\n",
    "        clist = cmap(range(len(values)), alpha=alpha)\n",
    "        rgblist = ['rgba(%s,%s,%s,%s)' % (int(x[0]*255),\n",
    "                                          int(x[1]*255),\n",
    "                                          int(x[2]*255),\n",
    "                                          x[3]) for x in clist]\n",
    "        colors = {x: rgblist[i] for i, x in enumerate(values)}\n",
    "    \n",
    "    legend_shapes = ' '.join(['1']*len(values))\n",
    "    legend_colors = ''\n",
    "    legend_labels = ''\n",
    "    \n",
    "    for x in colors:\n",
    "        legend_colors += ' %s' % colors[x]\n",
    "        legend_labels += ' %s' % x\n",
    "    \n",
    "    out += ('LEGEND_TITLE {0}\\n'\n",
    "            'LEGEND_SHAPES {1}\\n'\n",
    "            'LEGEND_COLORS{2}\\n'\n",
    "            'LEGEND_LABELS{3}\\n\\nDATA\\n').format(label,\n",
    "                                            legend_shapes,\n",
    "                                            legend_colors,\n",
    "                                            legend_labels)\n",
    "        \n",
    "    for taxon in md_df[tree_col]:\n",
    "        \n",
    "        out += \"{0} {1}\\n\".format(taxon, colors[md_df.loc[md_df[tree_col] == taxon,\n",
    "                                                          col].values[0]])\n",
    "    \n",
    "    with open(fp, 'w') as f:\n",
    "        f.write(out)\n",
    "\n"
   ]
  },
  {
   "cell_type": "code",
   "execution_count": 224,
   "metadata": {},
   "outputs": [],
   "source": [
    "flight_colors = {'flighted': '#000000',\n",
    "                 'flightless': '#FFFFFF'}\n",
    "\n",
    "write_binary_colorstrip(host_md, \n",
    "                        'flight_status', \n",
    "                        'TimeTree_returned', \n",
    "                        join(itol_dir, 'mantel.itol-flight_colors.txt'),\n",
    "                        colors=flight_colors)"
   ]
  },
  {
   "cell_type": "markdown",
   "metadata": {},
   "source": [
    "### Write diet barcharts"
   ]
  },
  {
   "cell_type": "code",
   "execution_count": 96,
   "metadata": {},
   "outputs": [],
   "source": [
    "def get_qualitative_colors(fields, cmap=mpl.cm.Set3, alpha=0.4):\n",
    "    clist = cmap(range(len(taxa)), alpha=alpha)\n",
    "    rgblist = ['rgba(%s,%s,%s,%s)' % (int(x[0]*255),\n",
    "                                      int(x[1]*255),\n",
    "                                      int(x[2]*255),\n",
    "                                      x[3]) for x in clist]\n",
    "    return(rgblist)\n",
    "\n",
    "def format_iTOL_multibar(fields, md, \n",
    "                         tree_ref_col=None, \n",
    "                         field_colors=None, \n",
    "                         field_labels=None, \n",
    "                         dataset_label='Multibar Chart', \n",
    "                         dataset_color=None, \n",
    "                         legend=True, \n",
    "                         unstacked=False,\n",
    "                         width=1000, \n",
    "                         margin=0,\n",
    "                         alpha=0.8,\n",
    "                        ):\n",
    "    \"\"\"\n",
    "    fields: array of columns titles in [metadata] to chart\n",
    "    metadata: pd.df containing samples to graph and data\n",
    "    \"\"\"\n",
    "    \n",
    "    if field_labels is None:\n",
    "        field_labels=fields\n",
    "    \n",
    "    if field_colors is None:\n",
    "        field_colors=get_qualitative_colors(fields, alpha=alpha)\n",
    "    \n",
    "    if tree_ref_col is None:\n",
    "        tree_ref_col=metadata.columns[0]\n",
    "\n",
    "    if dataset_color is None:\n",
    "        dataset_color = \"#00FF00\"\n",
    "\n",
    "    # remove nans\n",
    "    metadata = md.loc[:,fields + [tree_ref_col]].dropna()\n",
    "    \n",
    "    outstring = ''\n",
    "    \n",
    "    outstring += 'DATASET_MULTIBAR\\n'\n",
    "    outstring += 'SEPARATOR TAB\\n'\n",
    "    outstring += 'DATASET_LABEL\\t%s\\n' % dataset_label\n",
    "    outstring += 'COLOR\\t%s\\n' % dataset_color\n",
    "    outstring += 'FIELD_COLORS\\t%s\\n' % '\\t'.join(field_colors)\n",
    "    outstring += 'FIELD_LABELS\\t%s\\n' % '\\t'.join(field_labels)    \n",
    "    \n",
    "    if legend:\n",
    "        outstring += 'LEGEND_TITLE\\tDataset legend\\n'\n",
    "        outstring += 'LEGEND_SHAPES\\t%s\\n' % '\\t'.join(['1']*len(fields))\n",
    "        outstring += 'LEGEND_COLORS\\t%s\\n' % '\\t'.join(field_colors)\n",
    "        outstring += 'LEGEND_LABELS\\t%s\\n' % '\\t'.join(field_labels)\n",
    "    \n",
    "    outstring += 'MARGIN\\t%s\\n' % margin\n",
    "    outstring += 'WIDTH\\t%s\\n' % width\n",
    "\n",
    "    if unstacked:\n",
    "        outstring += 'ALIGN_FIELDS\\t1\\n'\n",
    "        \n",
    "    outstring += 'DATA\\n'\n",
    "    for index, row in metadata.iterrows():\n",
    "        outstring += row[tree_ref_col].replace(' ', '_') + '\\t%s\\n' % '\\t'.join([str(row[x]) for x in fields])\n",
    "\n",
    "    return(outstring)\n"
   ]
  },
  {
   "cell_type": "code",
   "execution_count": 97,
   "metadata": {},
   "outputs": [],
   "source": [
    "fields = ['ET.Diet.Fruit',\n",
    " 'ET.Diet.Inv',\n",
    " 'ET.Diet.Nect',\n",
    " 'ET.Diet.PlantO',\n",
    " 'ET.Diet.Scav',\n",
    " 'ET.Diet.Seed',\n",
    " 'ET.Diet.Vect',\n",
    " 'ET.Diet.Vend',\n",
    " 'ET.Diet.Vfish',\n",
    " 'ET.Diet.Vunk']\n",
    "\n",
    "bar = format_iTOL_multibar(fields, \n",
    "                     host_md, \n",
    "                     tree_ref_col='TimeTree_name', \n",
    "                     field_colors=['#a6cee3',\n",
    "                                   '#cab2d6',\n",
    "                                   '#1f78b4',\n",
    "                                   '#33a02c',\n",
    "                                   '#6a3d9a',\n",
    "                                   '#b2df8a',\n",
    "                                   '#fb9a99',\n",
    "                                   '#e31a1c',\n",
    "                                   '#ff7f00',\n",
    "                                   '#fdbf6f'], \n",
    "                     field_labels=['Fruit',\n",
    "                                   'Invertebrates',\n",
    "                                   'Nectar',\n",
    "                                   'Plants',\n",
    "                                   'Scavenging',\n",
    "                                   'Seeds',\n",
    "                                   'Meat (Ectotherms)',\n",
    "                                   'Meat (Endotherms)',\n",
    "                                   'Meat (Fish)',\n",
    "                                   'Meat (Unknown)'], \n",
    "                     dataset_label='Diet Barchart', \n",
    "                     dataset_color=None, \n",
    "                     legend=True,\n",
    "                     width=200, \n",
    "                     alpha=1.0)\n",
    "\n",
    "with open(join(itol_dir, 'mantel.itol-diet_bar.txt'), 'w') as f:\n",
    "    f.write(bar)"
   ]
  },
  {
   "cell_type": "code",
   "execution_count": 98,
   "metadata": {},
   "outputs": [
    {
     "name": "stdout",
     "output_type": "stream",
     "text": [
      "DATASET_MULTIBAR\r\n",
      "SEPARATOR TAB\r\n",
      "DATASET_LABEL\tDiet Barchart\r\n",
      "COLOR\t#00FF00\r\n",
      "FIELD_COLORS\t#a6cee3\t#cab2d6\t#1f78b4\t#33a02c\t#6a3d9a\t#b2df8a\t#fb9a99\t#e31a1c\t#ff7f00\t#fdbf6f\r\n",
      "FIELD_LABELS\tFruit\tInvertebrates\tNectar\tPlants\tScavenging\tSeeds\tMeat (Ectotherms)\tMeat (Endotherms)\tMeat (Fish)\tMeat (Unknown)\r\n",
      "LEGEND_TITLE\tDataset legend\r\n",
      "LEGEND_SHAPES\t1\t1\t1\t1\t1\t1\t1\t1\t1\t1\r\n",
      "LEGEND_COLORS\t#a6cee3\t#cab2d6\t#1f78b4\t#33a02c\t#6a3d9a\t#b2df8a\t#fb9a99\t#e31a1c\t#ff7f00\t#fdbf6f\r\n",
      "LEGEND_LABELS\tFruit\tInvertebrates\tNectar\tPlants\tScavenging\tSeeds\tMeat (Ectotherms)\tMeat (Endotherms)\tMeat (Fish)\tMeat (Unknown)\r\n",
      "MARGIN\t0\r\n",
      "WIDTH\t200\r\n",
      "DATA\r\n",
      "Accipiter_cooperii\t0.0\t0.0\t0.0\t0.0\t0.0\t0.0\t10.0\t90.0\t0.0\t0.0\r\n",
      "Accipiter_striatus\t0.0\t0.0\t0.0\t0.0\t0.0\t0.0\t0.0\t100.0\t0.0\t0.0\r\n",
      "Accipiter_tachiro\t0.0\t10.0\t0.0\t0.0\t0.0\t0.0\t20.0\t70.0\t0.0\t0.0\r\n",
      "Accipiter_trivirgatus\t0.0\t20.0\t0.0\t0.0\t0.0\t0.0\t20.0\t60.0\t0.0\t0.0\r\n",
      "Aceros_corrugatus\t90.0\t10.0\t0.0\t0.0\t0.0\t0.0\t0.0\t0.0\t0.0\t0.0\r\n",
      "Acinonyx_jubatus\t0.0\t0.0\t0.0\t0.0\t0.0\t0.0\t0.0\t100.0\t0.0\t0.0\r\n",
      "Acrocephalus_arundinaceus\t10.0\t70.0\t0.0\t0.0\t0.0\t0.0\t20.0\t0.0\t0.0\t0.0\r\n"
     ]
    }
   ],
   "source": [
    "!head -n 20 ../phylosymbiosis/itol/mantel.itol-diet_bar.txt"
   ]
  },
  {
   "cell_type": "code",
   "execution_count": null,
   "metadata": {},
   "outputs": [],
   "source": []
  },
  {
   "cell_type": "code",
   "execution_count": null,
   "metadata": {},
   "outputs": [],
   "source": []
  },
  {
   "cell_type": "code",
   "execution_count": null,
   "metadata": {},
   "outputs": [],
   "source": []
  }
 ],
 "metadata": {
  "kernelspec": {
   "display_name": "jupyter-qiime2-2019.1",
   "language": "python",
   "name": "jupyter-qiime2-2019.1"
  },
  "language_info": {
   "codemirror_mode": {
    "name": "ipython",
    "version": 3
   },
   "file_extension": ".py",
   "mimetype": "text/x-python",
   "name": "python",
   "nbconvert_exporter": "python",
   "pygments_lexer": "ipython3",
   "version": "3.6.7"
  }
 },
 "nbformat": 4,
 "nbformat_minor": 2
}
