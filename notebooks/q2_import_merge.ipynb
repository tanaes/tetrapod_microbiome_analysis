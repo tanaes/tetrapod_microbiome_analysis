{
 "cells": [
  {
   "cell_type": "code",
   "execution_count": 2,
   "metadata": {},
   "outputs": [],
   "source": [
    "%matplotlib inline\n",
    "from IPython.display import Image\n",
    "import os\n",
    "import pandas as pd\n",
    "from qiime2 import Artifact\n",
    "from skbio import DistanceMatrix"
   ]
  },
  {
   "cell_type": "markdown",
   "metadata": {},
   "source": [
    "# Qiime2 import and merging of qiita files, basic adiv/bdiv analysis\n",
    "\n",
    "This notebook captures the steps in Qiime2 (version 2018.11) used to import, merge, and filter repseq and biom files from QIITA, rarefy, and perform initial alpha and beta diversity analyses."
   ]
  },
  {
   "cell_type": "code",
   "execution_count": 3,
   "metadata": {},
   "outputs": [],
   "source": [
    "anal_dir = '/projects/templeton/analyses/201811'\n",
    "curr_dir = '/projects/templeton/analyses/201811/notebooks'\n",
    "qiita_dir = '/projects/templeton/qiita_files'"
   ]
  },
  {
   "cell_type": "code",
   "execution_count": null,
   "metadata": {},
   "outputs": [],
   "source": [
    "!mkdir {anal_dir}/trees\n",
    "!mkdir {anal_dir}/taxonomy\n",
    "!mkdir {anal_dir}/tables"
   ]
  },
  {
   "cell_type": "markdown",
   "metadata": {},
   "source": [
    "## Import biom and repseq fasta files to .qza files"
   ]
  },
  {
   "cell_type": "code",
   "execution_count": null,
   "metadata": {},
   "outputs": [],
   "source": [
    "!for i in /projects/templeton/qiita_files/* ; \\\n",
    "do qiime tools import \\\n",
    "  --input-path ${i}/reference-hit.biom \\\n",
    "  --type 'FeatureTable[Frequency]' \\\n",
    "  --input-format BIOMV210Format \\\n",
    "  --output-path ${i}/reference-hit.qza ; done"
   ]
  },
  {
   "cell_type": "code",
   "execution_count": null,
   "metadata": {},
   "outputs": [],
   "source": [
    "!for i in /projects/templeton/qiita_files/* ; \\\n",
    "do qiime tools import \\\n",
    "  --input-path ${i}/reference-hit.seqs.fa \\\n",
    "  --type 'FeatureData[Sequence]' \\\n",
    "  --output-path ${i}/repseq.qza ; done"
   ]
  },
  {
   "cell_type": "markdown",
   "metadata": {},
   "source": [
    "## Merge feature tables together and repseq files together"
   ]
  },
  {
   "cell_type": "code",
   "execution_count": null,
   "metadata": {},
   "outputs": [],
   "source": [
    "!echo \"qiime feature-table merge \\\n",
    "  --i-tables /projects/templeton/qiita_files/4935/reference-hit.qza \\\n",
    "  --i-tables /projects/templeton/qiita_files/4936/reference-hit.qza \\\n",
    "  --i-tables /projects/templeton/qiita_files/4940/reference-hit.qza \\\n",
    "  --i-tables /projects/templeton/qiita_files/4946/reference-hit.qza \\\n",
    "  --i-tables /projects/templeton/qiita_files/4950/reference-hit.qza \\\n",
    "  --i-tables /projects/templeton/qiita_files/4986/reference-hit.qza \\\n",
    "  --i-tables /projects/templeton/qiita_files/5075_NZ_2016HS/reference-hit.qza \\\n",
    "  --i-tables /projects/templeton/qiita_files/5082_2016MS/reference-hit.qza \\\n",
    "  --i-tables /projects/templeton/qiita_files/5200_Lutz_rodents/reference-hit.qza \\\n",
    "  --i-tables /projects/templeton/qiita_files/Amato_3370/reference-hit.qza \\\n",
    "  --i-tables /projects/templeton/qiita_files/CRbats_70/reference-hit.qza \\\n",
    "  --i-tables /projects/templeton/qiita_files/Davalos_56/reference-hit.qza \\\n",
    "  --i-tables /projects/templeton/qiita_files/Delsuc_19/reference-hit.qza \\\n",
    "  --i-tables /projects/templeton/qiita_files/Ezenwa_57/reference-hit.qza \\\n",
    "  --i-tables /projects/templeton/qiita_files/Garcia_61/reference-hit.qza \\\n",
    "  --i-tables /projects/templeton/qiita_files/Hale_47/reference-hit.qza \\\n",
    "  --i-tables /projects/templeton/qiita_files/Hale_66/reference-hit.qza \\\n",
    "  --i-tables /projects/templeton/qiita_files/iguanas_103/reference-hit.qza \\\n",
    "  --i-tables /projects/templeton/qiita_files/Komodo_59/reference-hit.qza \\\n",
    "  --i-tables /projects/templeton/qiita_files/Levin_1769/reference-hit.qza \\\n",
    "  --i-tables /projects/templeton/qiita_files/Lutz_4931/reference-hit.qza \\\n",
    "  --i-tables /projects/templeton/qiita_files/Muegge_1324/reference-hit.qza \\\n",
    "  --i-tables /projects/templeton/qiita_files/phorse_392/reference-hit.qza \\\n",
    "  --i-tables /projects/templeton/qiita_files/Sanders_whales_5247/reference-hit.qza \\\n",
    "  --i-tables /projects/templeton/qiita_files/Seger_69/reference-hit.qza \\\n",
    "  --i-tables /projects/templeton/qiita_files/Songfish_100/reference-hit.qza \\\n",
    "  --i-tables /projects/templeton/qiita_files/Williams_2583/reference-hit.qza \\\n",
    "  --i-tables /projects/templeton/qiita_files/Winker_4381/reference-hit.qza \\\n",
    "  --o-merged-table /projects/templeton/qiita_files/merged-table.qza \\\n",
    "  --p-overlap-method sum\" | qsub -k eo -N merge -l pmem=64gb -l walltime=24:00:00 -V"
   ]
  },
  {
   "cell_type": "code",
   "execution_count": null,
   "metadata": {},
   "outputs": [],
   "source": [
    "!echo \"qiime feature-table merge-seqs \\\n",
    "  --i-data /projects/templeton/qiita_files/4935/repseq.qza \\\n",
    "  --i-data /projects/templeton/qiita_files/4936/repseq.qza \\\n",
    "  --i-data /projects/templeton/qiita_files/4940/repseq.qza \\\n",
    "  --i-data  /projects/templeton/qiita_files/4946/repseq.qza \\\n",
    "  --i-data /projects/templeton/qiita_files/4950/repseq.qza \\\n",
    "  --i-data /projects/templeton/qiita_files/4986/repseq.qza \\\n",
    "  --i-data /projects/templeton/qiita_files/5075_NZ_2016HS/repseq.qza \\\n",
    "  --i-data /projects/templeton/qiita_files/5082_2016MS/repseq.qza \\\n",
    "  --i-data /projects/templeton/qiita_files/5200_Lutz_rodents/repseq.qza \\\n",
    "  --i-data /projects/templeton/qiita_files/Amato_3370/repseq.qza \\\n",
    "  --i-data /projects/templeton/qiita_files/CRbats_70/repseq.qza \\\n",
    "  --i-data /projects/templeton/qiita_files/Davalos_56/repseq.qza \\\n",
    "  --i-data /projects/templeton/qiita_files/Delsuc_19/repseq.qza \\\n",
    "  --i-data /projects/templeton/qiita_files/Ezenwa_57/repseq.qza \\\n",
    "  --i-data /projects/templeton/qiita_files/Garcia_61/repseq.qza \\\n",
    "  --i-data /projects/templeton/qiita_files/Hale_47/repseq.qza \\\n",
    "  --i-data /projects/templeton/qiita_files/Hale_66/repseq.qza \\\n",
    "  --i-data /projects/templeton/qiita_files/iguanas_103/repseq.qza \\\n",
    "  --i-data /projects/templeton/qiita_files/Komodo_59/repseq.qza \\\n",
    "  --i-data /projects/templeton/qiita_files/Levin_1769/repseq.qza \\\n",
    "  --i-data /projects/templeton/qiita_files/Lutz_4931/repseq.qza \\\n",
    "  --i-data /projects/templeton/qiita_files/Muegge_1324/repseq.qza \\\n",
    "  --i-data /projects/templeton/qiita_files/phorse_392/repseq.qza \\\n",
    "  --i-data /projects/templeton/qiita_files/Sanders_whales_5247/repseq.qza \\\n",
    "  --i-data /projects/templeton/qiita_files/Seger_69/repseq.qza \\\n",
    "  --i-data /projects/templeton/qiita_files/Songfish_100/repseq.qza \\\n",
    "  --i-data /projects/templeton/qiita_files/Williams_2583/repseq.qza \\\n",
    "  --i-data /projects/templeton/qiita_files/Winker_4381/repseq.qza \\\n",
    "  --o-merged-data /projects/templeton/qiita_files/merged-repseqs.qza\" | qsub -k eo -N merge_seqs -l pmem=64gb -l walltime=24:00:00 -V"
   ]
  },
  {
   "cell_type": "code",
   "execution_count": 4,
   "metadata": {},
   "outputs": [],
   "source": [
    "#set pathnames\n",
    "map_fp = os.path.abspath('../../../01-metadata/eco_md-qiime_host_species_eco_metadata_by_SampleID_gut_11.28.18.txt')\n",
    "host_md_5per_fp = os.path.abspath('../../../01-metadata/5per_10k.11.28.18.short.txt')\n",
    "otu_orig = os.path.abspath('../../../qiita_files/merged-table.qza')\n",
    "seqs = os.path.abspath('../../../qiita_files/merged-repseqs.qza')\n",
    "tree = os.path.abspath('../trees/insertion-tree.qza')\n",
    "placements = os.path.abspath('../trees/insertion-placements.qza')\n",
    "nb_gg_ref_tax = os.path.abspath('../taxonomy/gg-13-8-99-515-806-nb-classifier.qza')\n",
    "nb_silva_ref_tax = os.path.abspath('../taxonomy/silva-132-99-515-806-nb-classifier.qza')\n",
    "sepp_ref_tax = os.path.abspath('../taxonomy/taxonomy_gg99.qza')\n",
    "sk_gg_tax = os.path.abspath('../taxonomy/sk.gg.taxonomy.qza')\n",
    "sk_silva_tax = os.path.abspath('../taxonomy/sk.silva.taxonomy.qza')\n",
    "sepp_tax = os.path.abspath('../taxonomy/sepp.taxonomy.qza')\n",
    "otu_filt = os.path.abspath('../tables/filtered/merged-table.in-map.qza')\n",
    "seq_filt = os.path.abspath('../tables/filtered/merged-repseqs.in-map.qza')\n",
    "otu_filt_mitochloro = os.path.abspath('../tables/filtered/merged-table.in-map.nomito-nochloro.qza')\n",
    "otu_filt_5k = os.path.abspath('../tables/filtered/merged-table.in-map.nomito-nochloro.5k.qza')\n",
    "otu_filt_10k = os.path.abspath('../tables/filtered/merged-table.in-map.nomito-nochloro.10k.qza')\n",
    "pd_10k = os.path.abspath('../adiv/pd_10k.qza')\n",
    "pd_5k = os.path.abspath('../adiv/pd_5k.qza')\n",
    "shannon_10k = os.path.abspath('../adiv/shannon_10k.qza')\n",
    "shannon_5k = os.path.abspath('../adiv/shannon_5k.qza')\n",
    "observed_10k = os.path.abspath('../adiv/observed_10k.qza')\n",
    "observed_5k = os.path.abspath('../adiv/observed_5k.qza')\n",
    "bdiv_unifrac = os.path.abspath('../bdiv/unifrac_unw.merged-table.in-map.nomito-nochloro.10k.qza')\n",
    "bdiv_unifrac_w = os.path.abspath('../bdiv/unifrac_w.merged-table.in-map.nomito-nochloro.10k.qza')\n",
    "bdiv_jacc = os.path.abspath('../bdiv/jaccard.merged-table.in-map.nomito-nochloro.10k.qza')"
   ]
  },
  {
   "cell_type": "code",
   "execution_count": null,
   "metadata": {},
   "outputs": [],
   "source": [
    "!qiime feature-table summarize \\\n",
    "  --i-table {otu_orig} \\\n",
    "  --o-visualization /projects/templeton/qiita_files/merged-table-summary.qzv"
   ]
  },
  {
   "cell_type": "code",
   "execution_count": null,
   "metadata": {},
   "outputs": [],
   "source": [
    "#verify that all the seqs are the 100nt trimmed ones\n",
    "!qiime tools export \\\n",
    "  --input-path {seqs} \\\n",
    "  --output-path {qiita_dir}\n",
    "\n",
    "!cat /projects/templeton/qiita_files/dna-sequences.fasta | awk '{if(NR%4==2) print length($1)}' | sort | uniq -c"
   ]
  },
  {
   "cell_type": "code",
   "execution_count": null,
   "metadata": {},
   "outputs": [],
   "source": [
    "# filter feature table and repseq files to samples that match those in mapping file\n",
    "!mkdir -p ../tables/filtered\n",
    "\n",
    "!qiime feature-table filter-samples \\\n",
    "  --i-table {otu_orig} \\\n",
    "  --m-metadata-file /projects/templeton/01-metadata/samples_to_retain.txt \\\n",
    "  --o-filtered-table {otu_filt}\n",
    "\n",
    "!qiime feature-table filter-seqs \\\n",
    "  --i-table {otu_filt} \\\n",
    "  --i-data {seqs} \\\n",
    "  --o-filtered-data {seq_filt}\n"
   ]
  },
  {
   "cell_type": "markdown",
   "metadata": {},
   "source": [
    "## Phylogenetic tree construction using q2-fragment-insertion (SEPP)"
   ]
  },
  {
   "cell_type": "code",
   "execution_count": null,
   "metadata": {},
   "outputs": [],
   "source": [
    "!echo \"qiime fragment-insertion sepp \\\n",
    "  --i-representative-sequences {seq_filt} \\\n",
    "  --o-tree {tree} \\\n",
    "  --o-placements {placements} \\\n",
    "  --p-threads 20\" | qsub -k eo -N temptree_ins -l nodes=1:ppn=20 -l mem=160gb -l walltime=100:00:00 -V"
   ]
  },
  {
   "cell_type": "markdown",
   "metadata": {},
   "source": [
    "## Taxonomy assignment"
   ]
  },
  {
   "cell_type": "code",
   "execution_count": null,
   "metadata": {},
   "outputs": [],
   "source": [
    "# get naive-bayes pre-trained classifiers\n",
    "# we should try out q2-clawback at some point to see if we get improvement in tax assignment resolution\n",
    "\n",
    "# Naive Bayes classifier, trained on Greengenes reference sequences trimmed to the EMP primer region we sequenced\n",
    "#!wget -o ../taxonomy/gg-13-8-99-515-806-nb-classifier.qza https://data.qiime2.org/2018.11/common/gg-13-8-99-515-806-nb-classifier.qza\n",
    "# Naive Bayes classifier, trained on Silva reference sequences trimmed to the EMP primer region we sequenced\n",
    "#!wget -o ../taxonomy/silva-132-99-515-806-nb-classifier.qza https://data.qiime2.org/2018.11/common/silva-132-99-515-806-nb-classifier.qza    \n",
    "# insertion training taxonomy\n",
    "#!wget -o ../taxonomy/taxonomy_gg99.qza https://raw.githubusercontent.com/biocore/q2-fragment-insertion/master/taxonomy_gg99.qza    "
   ]
  },
  {
   "cell_type": "code",
   "execution_count": null,
   "metadata": {},
   "outputs": [],
   "source": [
    "!echo \"qiime feature-classifier classify-sklearn \\\n",
    "  --i-classifier {nb_gg_ref_tax} \\\n",
    "  --i-reads {seq_filt} \\\n",
    "  --o-classification {sk_gg_tax}\" | qsub -k eo -N vert_nb -l mem=32gb -l walltime=24:00:00 -V"
   ]
  },
  {
   "cell_type": "code",
   "execution_count": null,
   "metadata": {},
   "outputs": [],
   "source": [
    "!echo \"qiime feature-classifier classify-sklearn \\\n",
    "  --i-classifier {nb_silva_ref_tax} \\\n",
    "  --i-reads {seq_filt} \\\n",
    "  --o-classification {sk_silva_tax}\" | qsub -k eo -N vert_silva -l mem=32gb -l walltime=24:00:00 -V"
   ]
  },
  {
   "cell_type": "code",
   "execution_count": null,
   "metadata": {},
   "outputs": [],
   "source": [
    "!echo \"qiime fragment-insertion classify-otus-experimental \\\n",
    "  --i-representative-sequences {seq_filt} \\\n",
    "  --i-tree {tree} \\\n",
    "  --i-reference-taxonomy {sepp_ref_tax} \\\n",
    "  --o-classification {sepp_tax}\" | qsub -k eo -N vert_sepp -l mem=32gb -l walltime=24:00:00 -V"
   ]
  },
  {
   "cell_type": "markdown",
   "metadata": {},
   "source": [
    "## Filter chloroplast and mitochondria from feature table"
   ]
  },
  {
   "cell_type": "code",
   "execution_count": null,
   "metadata": {},
   "outputs": [],
   "source": [
    "!echo \"qiime taxa filter-table \\\n",
    "  --i-table {otu_filt} \\\n",
    "  --i-taxonomy {sk_gg_tax} \\\n",
    "  --p-exclude mitochondria,chloroplast \\\n",
    "  --o-filtered-table {otu_filt_mitochloro}\" | qsub -k eo -N filter -l pmem=4gb -l walltime=24:00:00 -V"
   ]
  },
  {
   "cell_type": "markdown",
   "metadata": {},
   "source": [
    "## Feature table summaries"
   ]
  },
  {
   "cell_type": "markdown",
   "metadata": {},
   "source": [
    "Import deblurred and upper-cased Biom file as a qiime2 artifact"
   ]
  },
  {
   "cell_type": "code",
   "execution_count": null,
   "metadata": {},
   "outputs": [],
   "source": [
    "ls ../tables/filtered"
   ]
  },
  {
   "cell_type": "code",
   "execution_count": null,
   "metadata": {},
   "outputs": [],
   "source": [
    "!qiime feature-table summarize \\\n",
    "  --i-table {otu_filt_mitochloro} \\\n",
    "  --o-visualization ../tables/filtered/merged-table.in-map.nomito-nochloro.qzv \\\n",
    "  --m-sample-metadata-file {map_fp}\n",
    "\n",
    "!qiime feature-table tabulate-seqs \\\n",
    "  --i-data {seq_filt} \\\n",
    "  --o-visualization ../tables/filtered/merged-repseqs.in-map.qzv"
   ]
  },
  {
   "cell_type": "code",
   "execution_count": null,
   "metadata": {},
   "outputs": [],
   "source": [
    "Image(filename='../tables/filtered/samples_10k_depth.png')"
   ]
  },
  {
   "cell_type": "code",
   "execution_count": null,
   "metadata": {},
   "outputs": [],
   "source": [
    "Image(filename='../tables/filtered/samples_5k_depth.png')"
   ]
  },
  {
   "cell_type": "markdown",
   "metadata": {},
   "source": [
    "## Alpha and Beta Diversity analysis"
   ]
  },
  {
   "cell_type": "code",
   "execution_count": null,
   "metadata": {},
   "outputs": [],
   "source": [
    "otu_filt_5k = os.path.abspath('../tables/filtered/merged-table.in-map.nomito-nochloro.5k.qza')\n",
    "otu_filt_10k = os.path.abspath('../tables/filtered/merged-table.in-map.nomito-nochloro.10k.qza')\n",
    "\n",
    "!echo \"qiime feature-table rarefy \\\n",
    "  --i-table {otu_filt} \\\n",
    "  --p-sampling-depth 5000 \\\n",
    "  --o-rarefied-table {otu_filt_5k}\" | qsub -k eo -N rarefy -l pmem=16gb -l walltime=10:00:00 -V\n",
    "\n",
    "!echo \"qiime feature-table rarefy \\\n",
    "  --i-table {otu_filt} \\\n",
    "  --p-sampling-depth 10000 \\\n",
    "  --o-rarefied-table {otu_filt_10k}\" | qsub -k eo -N rarefy2 -l pmem=16gb -l walltime=10:00:00 -V\n"
   ]
  },
  {
   "cell_type": "code",
   "execution_count": null,
   "metadata": {},
   "outputs": [],
   "source": [
    "!mkdir ../adiv"
   ]
  },
  {
   "cell_type": "code",
   "execution_count": null,
   "metadata": {},
   "outputs": [],
   "source": [
    "pd_10k = os.path.abspath('../adiv/pd_10k.qza')\n",
    "pd_5k = os.path.abspath('../adiv/pd_5k.qza')\n",
    "\n",
    "!echo \"qiime diversity alpha-phylogenetic \\\n",
    "  --i-table {otu_filt_5k} \\\n",
    "  --i-phylogeny {tree} \\\n",
    "  --p-metric faith_pd \\\n",
    "  --o-alpha-diversity {pd_5k}\" \\\n",
    " | qsub -k eo -N pd -l pmem=32gb -l walltime=20:00:00 -V\n",
    "        \n",
    "!echo \"qiime diversity alpha-phylogenetic \\\n",
    "  --i-table {otu_filt_10k} \\\n",
    "  --i-phylogeny {tree} \\\n",
    "  --p-metric faith_pd \\\n",
    "  --o-alpha-diversity {pd_10k}\" \\\n",
    " | qsub -k eo -N pd2 -l pmem=32gb -l walltime=20:00:00 -V"
   ]
  },
  {
   "cell_type": "code",
   "execution_count": null,
   "metadata": {},
   "outputs": [],
   "source": [
    "shannon_10k = os.path.abspath('../adiv/shannon_10k.qza')\n",
    "shannon_5k = os.path.abspath('../adiv/shannon_5k.qza')\n",
    "\n",
    "!echo \"qiime diversity alpha \\\n",
    "  --i-table {otu_filt_5k} \\\n",
    "  --p-metric shannon \\\n",
    "  --o-alpha-diversity {shannon_5k}\" \\\n",
    " | qsub -k eo -N shannon -l pmem=32gb -l walltime=20:00:00 -V\n",
    "        \n",
    "!echo \"qiime diversity alpha \\\n",
    "  --i-table {otu_filt_10k} \\\n",
    "  --p-metric shannon \\\n",
    "  --o-alpha-diversity {shannon_10k}\" \\\n",
    " | qsub -k eo -N shannon2 -l pmem=32gb -l walltime=20:00:00 -V"
   ]
  },
  {
   "cell_type": "code",
   "execution_count": 10,
   "metadata": {},
   "outputs": [
    {
     "name": "stdout",
     "output_type": "stream",
     "text": [
      "1156239.barnacle.ucsd.edu\n",
      "1156240.barnacle.ucsd.edu\n"
     ]
    }
   ],
   "source": [
    "observed_10k = os.path.abspath('../adiv/observed_10k.qza')\n",
    "observed_5k = os.path.abspath('../adiv/observed_5k.qza')\n",
    "\n",
    "!echo \"qiime diversity alpha \\\n",
    "  --i-table {otu_filt_5k} \\\n",
    "  --p-metric observed_otus \\\n",
    "  --o-alpha-diversity {observed_5k}\" \\\n",
    " | qsub -k eo -N observed_otus -l pmem=32gb -l walltime=20:00:00 -V\n",
    "        \n",
    "!echo \"qiime diversity alpha \\\n",
    "  --i-table {otu_filt_10k} \\\n",
    "  --p-metric observed_otus \\\n",
    "  --o-alpha-diversity {observed_10k}\" \\\n",
    " | qsub -k eo -N observed_otus -l pmem=32gb -l walltime=20:00:00 -V"
   ]
  },
  {
   "cell_type": "code",
   "execution_count": null,
   "metadata": {},
   "outputs": [],
   "source": [
    "!mkdir ../bdiv"
   ]
  },
  {
   "cell_type": "code",
   "execution_count": null,
   "metadata": {
    "scrolled": true
   },
   "outputs": [],
   "source": [
    "bdiv_unifrac = os.path.abspath('../bdiv/unifrac_unw.merged-table.in-map.nomito-nochloro.10k.qza')\n",
    "\n",
    "!echo \"qiime diversity beta-phylogenetic \\\n",
    "  --i-phylogeny {tree} \\\n",
    "  --i-table {otu_filt_10k} \\\n",
    "  --p-metric unweighted_unifrac \\\n",
    "  --o-distance-matrix {bdiv_unifrac}\" \\\n",
    " | qsub -k eo -N uu -l pmem=64gb -l walltime=60:00:00 -V\n",
    "        \n",
    "!echo \"qiime diversity beta-phylogenetic \\\n",
    "  --i-phylogeny {tree} \\\n",
    "  --i-table {otu_filt_5k} \\\n",
    "  --p-metric unweighted_unifrac \\\n",
    "  --o-distance-matrix ../bdiv/unifrac_unw.merged-table.in-map.nomito-nochloro.5k.qza\" \\\n",
    " | qsub -k eo -N uu5k -l pmem=64gb -l walltime=60:00:00 -V\n"
   ]
  },
  {
   "cell_type": "code",
   "execution_count": null,
   "metadata": {},
   "outputs": [],
   "source": [
    "bdiv_unifrac_w = os.path.abspath('../bdiv/unifrac_w.merged-table.in-map.nomito-nochloro.10k.qza')\n",
    "\n",
    "!echo \"qiime diversity beta-phylogenetic \\\n",
    "  --i-phylogeny {tree} \\\n",
    "  --i-table {otu_filt_10k} \\\n",
    "  --p-metric weighted_unifrac \\\n",
    "  --p-n-jobs 16 \\\n",
    "  --o-distance-matrix {bdiv_unifrac_w}\" \\\n",
    " | qsub -k eo -N wu -l nodes=1:ppn=16 -l mem=64gb -l walltime=60:00:00 -V\n",
    "            \n",
    "!echo \"qiime diversity beta-phylogenetic \\\n",
    "  --i-phylogeny {tree} \\\n",
    "  --i-table {otu_filt_5k} \\\n",
    "  --p-metric weighted_unifrac \\\n",
    "  --p-n-jobs 16 \\\n",
    "  --o-distance-matrix ../bdiv/unifrac_w.merged-table.in-map.nomito-nochloro.5k.qza\" \\\n",
    " | qsub -k eo -N wu5k -l nodes=1:ppn=16 -l mem=64gb -l walltime=60:00:00 -V\n"
   ]
  },
  {
   "cell_type": "code",
   "execution_count": null,
   "metadata": {},
   "outputs": [],
   "source": [
    "bdiv_jacc = os.path.abspath('../bdiv/jaccard.merged-table.in-map.nomito-nochloro.10k.qza')\n",
    "\n",
    "!echo \"qiime diversity beta \\\n",
    "  --i-table {otu_filt_10k} \\\n",
    "  --p-metric jaccard \\\n",
    "  --p-n-jobs 16 \\\n",
    "  --o-distance-matrix {bdiv_jacc}\" \\\n",
    " | qsub -k eo -N jacc -l nodes=1:ppn=16 -l mem=64gb -l walltime=60:00:00 -V\n",
    "            \n",
    "!echo \"qiime diversity beta \\\n",
    "  --i-table {otu_filt_5k} \\\n",
    "  --p-metric jaccard \\\n",
    "  --p-n-jobs 16 \\\n",
    "  --o-distance-matrix ../bdiv/jaccard.merged-table.in-map.nomito-nochloro.5k.qza\" \\\n",
    " | qsub -k eo -N jacc -l nodes=1:ppn=16 -l mem=64gb -l walltime=60:00:00 -V\n"
   ]
  },
  {
   "cell_type": "code",
   "execution_count": null,
   "metadata": {},
   "outputs": [],
   "source": [
    "!qiime diversity beta --hel"
   ]
  },
  {
   "cell_type": "code",
   "execution_count": null,
   "metadata": {},
   "outputs": [],
   "source": [
    "bdiv_bc = os.path.abspath('../bdiv/bray-curtis.merged-table.in-map.nomito-nochloro.10k.qza')\n",
    "\n",
    "!echo \"qiime diversity beta \\\n",
    "  --i-table {otu_filt_10k} \\\n",
    "  --p-metric bray \\\n",
    "  --p-n-jobs 16 \\\n",
    "  --o-distance-matrix {bdiv_jacc}\" \\\n",
    " | qsub -k eo -N jacc -l nodes=1:ppn=16 -l mem=64gb -l walltime=60:00:00 -V\n",
    "            \n",
    "!echo \"qiime diversity beta \\\n",
    "  --i-table {otu_filt_5k} \\\n",
    "  --p-metric jaccard \\\n",
    "  --p-n-jobs 16 \\\n",
    "  --o-distance-matrix ../bdiv/jaccard.merged-table.in-map.nomito-nochloro.5k.qza\" \\\n",
    " | qsub -k eo -N jacc -l nodes=1:ppn=16 -l mem=64gb -l walltime=60:00:00 -V"
   ]
  },
  {
   "cell_type": "markdown",
   "metadata": {},
   "source": [
    "### Filter distance matrices to list of 5 individuals per species"
   ]
  },
  {
   "cell_type": "code",
   "execution_count": null,
   "metadata": {
    "scrolled": true
   },
   "outputs": [],
   "source": [
    "!ls ../bdiv"
   ]
  },
  {
   "cell_type": "code",
   "execution_count": null,
   "metadata": {},
   "outputs": [],
   "source": [
    "!mkdir -p ../bdiv/filtered_dist"
   ]
  },
  {
   "cell_type": "code",
   "execution_count": null,
   "metadata": {},
   "outputs": [],
   "source": [
    "host_md_5per_fp = os.path.abspath('../../../01-metadata/5per_10k.11.28.18.short.txt')\n",
    "host_md_5per = pd.read_csv(host_md_5per_fp,\n",
    "                           sep='\\t')"
   ]
  },
  {
   "cell_type": "code",
   "execution_count": null,
   "metadata": {},
   "outputs": [],
   "source": [
    "host_md_5per"
   ]
  },
  {
   "cell_type": "code",
   "execution_count": null,
   "metadata": {
    "scrolled": true
   },
   "outputs": [],
   "source": [
    "host_md_5per['sample_type'].value_counts()"
   ]
  },
  {
   "cell_type": "code",
   "execution_count": null,
   "metadata": {},
   "outputs": [],
   "source": [
    "host_md_5per['Taxonomy_Class'].value_counts()"
   ]
  },
  {
   "cell_type": "code",
   "execution_count": null,
   "metadata": {},
   "outputs": [],
   "source": [
    "bdiv_unifrac_5per = os.path.abspath(\"../bdiv/filtered_dist/unifrac_unw.10k.5per.qza\")\n",
    "bdiv_unifrac_w_5per = os.path.abspath(\"../bdiv/filtered_dist/unifrac_w.10k.5per.qza\")\n",
    "bdiv_jaccard_5per = os.path.abspath(\"../bdiv/filtered_dist/jaccard.10k.5per.qza\")"
   ]
  },
  {
   "cell_type": "code",
   "execution_count": null,
   "metadata": {},
   "outputs": [],
   "source": [
    "!qiime diversity filter-distance-matrix \\\n",
    "    --i-distance-matrix {bdiv_unifrac} \\\n",
    "    --m-metadata-file {host_md_5per_fp} \\\n",
    "    --o-filtered-distance-matrix {bdiv_unifrac_5per}"
   ]
  },
  {
   "cell_type": "code",
   "execution_count": null,
   "metadata": {},
   "outputs": [],
   "source": [
    "!qiime diversity filter-distance-matrix \\\n",
    "  --i-distance-matrix '../bdiv/unifrac_unw.merged-table.in-map.nomito-nochloro.5k.qza' \\\n",
    "  --m-metadata-file '/projects/templeton/01-metadata/5per.11.28.18.short.txt' \\\n",
    "  --o-filtered-distance-matrix '../bdiv/filtered_dist/unifrac_unw.5k.5per.qza'\n",
    "  \n",
    "!qiime diversity filter-distance-matrix \\\n",
    "  --i-distance-matrix '../bdiv/unifrac_w.merged-table.in-map.nomito-nochloro.5k.qza' \\\n",
    "  --m-metadata-file '/projects/templeton/01-metadata/5per.11.28.18.short.txt' \\\n",
    "  --o-filtered-distance-matrix '../bdiv/filtered_dist/unifrac_w.5k.5per.qza'\n",
    "\n",
    "!qiime diversity filter-distance-matrix \\\n",
    "  --i-distance-matrix '../bdiv/jaccard.merged-table.in-map.nomito-nochloro.5k.qza' \\\n",
    "  --m-metadata-file '/projects/templeton/01-metadata/5per.11.28.18.short.txt' \\\n",
    "  --o-filtered-distance-matrix '../bdiv/filtered_dist/jaccard.5k.5per.qza'"
   ]
  },
  {
   "cell_type": "code",
   "execution_count": null,
   "metadata": {},
   "outputs": [],
   "source": [
    "!mkdir ../bdiv/filtered_dist/emperor"
   ]
  },
  {
   "cell_type": "markdown",
   "metadata": {},
   "source": [
    "### Filtered PCoA of everything: 5-per map"
   ]
  },
  {
   "cell_type": "code",
   "execution_count": null,
   "metadata": {},
   "outputs": [],
   "source": [
    "o_dm = bdiv_unifrac_5per\n",
    "o_pca = os.path.abspath('../bdiv/filtered_dist/unifrac_unw.10k.5per.pcoa.qza')\n",
    "o_viz = os.path.abspath('../bdiv/filtered_dist/emperor/unifrac_unw.10k.5per.qzv')"
   ]
  },
  {
   "cell_type": "code",
   "execution_count": null,
   "metadata": {},
   "outputs": [],
   "source": [
    "!qiime diversity pcoa \\\n",
    "  --i-distance-matrix {o_dm} \\\n",
    "  --o-pcoa {o_pca}\n",
    "\n",
    "!qiime emperor plot \\\n",
    "  --i-pcoa {o_pca} \\\n",
    "  --m-metadata-file {host_md_5per_fp} \\\n",
    "  --output-dir {o_viz}"
   ]
  },
  {
   "cell_type": "code",
   "execution_count": null,
   "metadata": {},
   "outputs": [],
   "source": [
    "!qiime diversity pcoa \\\n",
    "  --i-distance-matrix '../bdiv/filtered_dist/unifrac_unw.5k.5per.qza' \\\n",
    "  --o-pcoa '../bdiv/filtered_dist/unifrac_unw.5k.5per.pcoa.qza'\n",
    "\n",
    "!qiime emperor plot \\\n",
    "  --i-pcoa '../bdiv/filtered_dist/unifrac_unw.5k.5per.pcoa.qza' \\\n",
    "  --m-metadata-file '/projects/templeton/01-metadata/5per.11.28.18.short.txt' \\\n",
    "  --output-dir '../bdiv/filtered_dist/emperor/unifrac_unw.5k.5per.qzv'"
   ]
  },
  {
   "cell_type": "markdown",
   "metadata": {},
   "source": [
    "### Filtered PCoAs of birds and mammals"
   ]
  },
  {
   "cell_type": "code",
   "execution_count": 2,
   "metadata": {},
   "outputs": [
    {
     "name": "stdout",
     "output_type": "stream",
     "text": [
      "q2cli version 2018.8.0\r\n",
      "Run `qiime info` for more version details.\r\n"
     ]
    }
   ],
   "source": [
    "!qiime --version"
   ]
  },
  {
   "cell_type": "code",
   "execution_count": 1,
   "metadata": {},
   "outputs": [
    {
     "name": "stdout",
     "output_type": "stream",
     "text": [
      "Traceback (most recent call last):\r\n",
      "  File \"/opt/miniconda3/envs/jupyter_qiime/bin/qiime\", line 11, in <module>\r\n",
      "    sys.exit(qiime())\r\n",
      "  File \"/opt/miniconda3/envs/jupyter_qiime/lib/python3.5/site-packages/click/core.py\", line 722, in __call__\r\n",
      "    return self.main(*args, **kwargs)\r\n",
      "  File \"/opt/miniconda3/envs/jupyter_qiime/lib/python3.5/site-packages/click/core.py\", line 697, in main\r\n",
      "    rv = self.invoke(ctx)\r\n",
      "  File \"/opt/miniconda3/envs/jupyter_qiime/lib/python3.5/site-packages/click/core.py\", line 1066, in invoke\r\n",
      "    return _process_result(sub_ctx.command.invoke(sub_ctx))\r\n",
      "  File \"/opt/miniconda3/envs/jupyter_qiime/lib/python3.5/site-packages/click/core.py\", line 1066, in invoke\r\n",
      "    return _process_result(sub_ctx.command.invoke(sub_ctx))\r\n",
      "  File \"/opt/miniconda3/envs/jupyter_qiime/lib/python3.5/site-packages/click/core.py\", line 895, in invoke\r\n",
      "    return ctx.invoke(self.callback, **ctx.params)\r\n",
      "  File \"/opt/miniconda3/envs/jupyter_qiime/lib/python3.5/site-packages/click/core.py\", line 535, in invoke\r\n",
      "    return callback(*args, **kwargs)\r\n",
      "  File \"/opt/miniconda3/envs/jupyter_qiime/lib/python3.5/site-packages/q2cli/commands.py\", line 244, in __call__\r\n",
      "    arguments, missing_in, verbose, quiet = self.handle_in_params(kwargs)\r\n",
      "  File \"/opt/miniconda3/envs/jupyter_qiime/lib/python3.5/site-packages/q2cli/commands.py\", line 326, in handle_in_params\r\n",
      "    kwargs, fallback=cmd_fallback)\r\n",
      "  File \"/opt/miniconda3/envs/jupyter_qiime/lib/python3.5/site-packages/q2cli/handlers.py\", line 375, in get_value\r\n",
      "    artifact = qiime2.sdk.Result.load(path)\r\n",
      "  File \"/opt/miniconda3/envs/jupyter_qiime/lib/python3.5/site-packages/qiime2/sdk/result.py\", line 65, in load\r\n",
      "    archiver = archive.Archiver.load(filepath)\r\n",
      "  File \"/opt/miniconda3/envs/jupyter_qiime/lib/python3.5/site-packages/qiime2/core/archive/archiver.py\", line 296, in load\r\n",
      "    cls._futuristic_archive_error(filepath, archive)\r\n",
      "  File \"/opt/miniconda3/envs/jupyter_qiime/lib/python3.5/site-packages/qiime2/core/archive/archiver.py\", line 268, in _futuristic_archive_error\r\n",
      "    archive.version))\r\n",
      "ValueError: ../bdiv/unifrac_unw.merged-table.in-map.nomito-nochloro.5k.qza was created by 'QIIME 2018.11.0'. The currently installed framework cannot interpret archive version '5'.\r\n"
     ]
    }
   ],
   "source": [
    "!qiime diversity filter-distance-matrix \\\n",
    "  --i-distance-matrix '../bdiv/unifrac_unw.merged-table.in-map.nomito-nochloro.5k.qza' \\\n",
    "  --m-metadata-file '/projects/templeton/01-metadata/5per.11.28.18.short.txt' \\\n",
    "  --p-where \"Taxonomy_Class='Mammalia'\" \\\n",
    "  --o-filtered-distance-matrix '../bdiv/filtered_dist/unifrac_unw.5k.5per.Mammalia.qza' \n"
   ]
  },
  {
   "cell_type": "code",
   "execution_count": 1,
   "metadata": {},
   "outputs": [
    {
     "name": "stdout",
     "output_type": "stream",
     "text": [
      "\u001b[33mQIIME is caching your current deployment for improved performance. This may take a few moments and should only happen once per deployment.\u001b[0m\n",
      "Usage: qiime diversity filter-distance-matrix [OPTIONS]\n",
      "\n",
      "  Filter samples from a distance matrix, retaining only the samples matching\n",
      "  search criteria specified by `metadata` and `where` parameters (or\n",
      "  retaining only the samples not matching that criteria, if `exclude_ids` is\n",
      "  True). See the filtering tutorial on https://docs.qiime2.org for\n",
      "  additional details.\n",
      "\n",
      "Options:\n",
      "  --i-distance-matrix ARTIFACT PATH DistanceMatrix\n",
      "                                  Distance matrix to filter by sample.\n",
      "                                  [required]\n",
      "  --m-metadata-file MULTIPLE PATH\n",
      "                                  Metadata file or artifact viewable as\n",
      "                                  metadata. This option may be supplied\n",
      "                                  multiple times to merge metadata. Sample\n",
      "                                  metadata used with `where` parameter when\n",
      "                                  selecting samples to retain, or with\n",
      "                                  `exclude_ids` when selecting samples to\n",
      "                                  discard.  [required]\n",
      "  --p-where TEXT                  SQLite WHERE clause specifying sample\n",
      "                                  metadata criteria that must be met to be\n",
      "                                  included in the filtered distance matrix. If\n",
      "                                  not provided, all samples in `metadata` that\n",
      "                                  are also in the input distance matrix will\n",
      "                                  be retained.  [optional]\n",
      "  --p-exclude-ids / --p-no-exclude-ids\n",
      "                                  If `True`, the samples selected by\n",
      "                                  `metadata` or `where` parameters will be\n",
      "                                  excluded from the filtered distance matrix\n",
      "                                  instead of being retained.  [default: False]\n",
      "  --o-filtered-distance-matrix ARTIFACT PATH DistanceMatrix\n",
      "                                  Distance matrix filtered to include samples\n",
      "                                  matching search criteria  [required if not\n",
      "                                  passing --output-dir]\n",
      "  --output-dir DIRECTORY          Output unspecified results to a directory\n",
      "  --cmd-config PATH               Use config file for command options\n",
      "  --verbose                       Display verbose output to stdout and/or\n",
      "                                  stderr during execution of this action.\n",
      "                                  [default: False]\n",
      "  --quiet                         Silence output if execution is successful\n",
      "                                  (silence is golden).  [default: False]\n",
      "  --citations                     Show citations and exit.\n",
      "  --help                          Show this message and exit.\n"
     ]
    }
   ],
   "source": [
    "!qiime diversity filter-distance-matrix --help"
   ]
  },
  {
   "cell_type": "code",
   "execution_count": null,
   "metadata": {},
   "outputs": [],
   "source": []
  }
 ],
 "metadata": {
  "kernelspec": {
   "display_name": "jupyter-qiime2-2018.11",
   "language": "python",
   "name": "jupyter-qiime2-2018.11"
  },
  "language_info": {
   "codemirror_mode": {
    "name": "ipython",
    "version": 3
   },
   "file_extension": ".py",
   "mimetype": "text/x-python",
   "name": "python",
   "nbconvert_exporter": "python",
   "pygments_lexer": "ipython3",
   "version": "3.5.5"
  }
 },
 "nbformat": 4,
 "nbformat_minor": 2
}
