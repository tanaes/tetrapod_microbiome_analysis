{
 "cells": [
  {
   "cell_type": "markdown",
   "metadata": {},
   "source": [
    "# Calculating microbiome divergence rates"
   ]
  },
  {
   "cell_type": "markdown",
   "metadata": {},
   "source": [
    "This notebook reimplements functions and ideas derived from [Nishida et al](https://onlinelibrary.wiley.com/doi/abs/10.1111/mec.14473), comparing evolutionary diversification among mammals to dissimilarities in their microbiomes. "
   ]
  },
  {
   "cell_type": "code",
   "execution_count": 1,
   "metadata": {},
   "outputs": [],
   "source": [
    "import numpy as np\n",
    "import pandas as pd\n",
    "import skbio as sk\n",
    "from qiime2 import Artifact\n",
    "from skbio import TreeNode\n",
    "from plotnine import *\n",
    "from os.path import join, abspath\n",
    "from os import makedirs\n",
    "\n",
    "from scipy.spatial.distance import squareform, pdist"
   ]
  },
  {
   "cell_type": "markdown",
   "metadata": {},
   "source": [
    "## Calculate distance matrices\n",
    "\n",
    "Calculate pairwise distance matrices (Qiime2?)\n",
    "- Bray-Curtis\n",
    "- Jaccard\n",
    "- UniFrac, unweighted\n",
    "- UniFrac, weighted\n",
    "\n",
    "Load dissimilarity matrices"
   ]
  },
  {
   "cell_type": "code",
   "execution_count": 2,
   "metadata": {},
   "outputs": [],
   "source": [
    "dm_dir = abspath('../bdiv')\n",
    "\n",
    "dm_fps = {'Unweighted_UniFrac': 'unifrac_unw.merged-table.in-map.nomito-nochloro.10k.qza',\n",
    "       'Weighted_UniFrac': 'unifrac_w.merged-table.in-map.nomito-nochloro.10k.qza',\n",
    "       'Jaccard': 'jaccard.merged-table.in-map.nomito-nochloro.10k.qza'}\n",
    "\n",
    "dms = {}"
   ]
  },
  {
   "cell_type": "code",
   "execution_count": 3,
   "metadata": {},
   "outputs": [],
   "source": [
    "for metric in dm_fps:\n",
    "    dm_art = Artifact.load(join(dm_dir, dm_fps[metric]))\n",
    "    dms[metric] = dm_art.view(sk.DistanceMatrix)"
   ]
  },
  {
   "cell_type": "markdown",
   "metadata": {},
   "source": [
    "load mapping file"
   ]
  },
  {
   "cell_type": "code",
   "execution_count": 5,
   "metadata": {},
   "outputs": [],
   "source": [
    "md_dir = abspath('../metadata')\n",
    "host_md_fp = '5per_10k.2.18.19.short.txt'\n",
    "host_md = pd.read_csv(join(md_dir, host_md_fp), sep='\\t')"
   ]
  },
  {
   "cell_type": "code",
   "execution_count": 6,
   "metadata": {},
   "outputs": [
    {
     "data": {
      "text/plain": [
       "(2259, 67)"
      ]
     },
     "execution_count": 6,
     "metadata": {},
     "output_type": "execute_result"
    }
   ],
   "source": [
    "host_md.shape"
   ]
  },
  {
   "cell_type": "markdown",
   "metadata": {},
   "source": [
    "#### Subset tree and DMs to same tips"
   ]
  },
  {
   "cell_type": "code",
   "execution_count": 7,
   "metadata": {},
   "outputs": [],
   "source": [
    "tree_dir = abspath('../trees/')\n",
    "host_tree_fp = 'total_timetree_names.all.nwk.tre'\n",
    "\n",
    "host_tree = sk.TreeNode.read(join(tree_dir, host_tree_fp), convert_underscores=False)"
   ]
  },
  {
   "cell_type": "code",
   "execution_count": 8,
   "metadata": {},
   "outputs": [],
   "source": [
    "host_tips = [x.name for x in host_tree.tips()]"
   ]
  },
  {
   "cell_type": "markdown",
   "metadata": {},
   "source": [
    "if subset, shear tree down to the subset:"
   ]
  },
  {
   "cell_type": "code",
   "execution_count": 9,
   "metadata": {},
   "outputs": [],
   "source": [
    "subset = False\n",
    "\n",
    "if subset:\n",
    "    host_subset = np.random.choice(host_tips, size=100, replace=False)\n",
    "else:\n",
    "    host_subset = host_tips\n",
    "\n",
    "host_tree_subset = host_tree.shear(host_subset)"
   ]
  },
  {
   "cell_type": "code",
   "execution_count": 10,
   "metadata": {},
   "outputs": [
    {
     "data": {
      "text/plain": [
       "1333"
      ]
     },
     "execution_count": 10,
     "metadata": {},
     "output_type": "execute_result"
    }
   ],
   "source": [
    "len([x.name for x in host_tree_subset.tips()])"
   ]
  },
  {
   "cell_type": "code",
   "execution_count": 11,
   "metadata": {},
   "outputs": [],
   "source": [
    "host_ids_subset = host_md.loc[host_md['TimeTree_returned'].isin(host_subset), 'SampleID']"
   ]
  },
  {
   "cell_type": "code",
   "execution_count": 12,
   "metadata": {},
   "outputs": [
    {
     "data": {
      "text/plain": [
       "2151"
      ]
     },
     "execution_count": 12,
     "metadata": {},
     "output_type": "execute_result"
    }
   ],
   "source": [
    "len(host_ids_subset)"
   ]
  },
  {
   "cell_type": "code",
   "execution_count": 13,
   "metadata": {},
   "outputs": [],
   "source": [
    "one_per_sp = False\n",
    "\n",
    "if one_per_sp:\n",
    "    host_md = host_md.loc[(host_md['SampleID'].isin(host_ids_subset)) &\n",
    "                          (host_md['SampleID'].isin(unw_dm_subset.ids)),].groupby('TimeTree_returned').first()\n",
    "    host_md =  host_md.loc[(host_md['SampleID'].isin(host_ids_subset)) &\n",
    "                          (host_md['SampleID'].isin(unw_dm_subset.ids)),].groupby('TimeTree_returned').first().reset_index()\n",
    "    host_ids_subset = list(set(host_ids_subset)) & set(host_md['SampleID'])"
   ]
  },
  {
   "cell_type": "markdown",
   "metadata": {},
   "source": [
    "Filter distance matrices:"
   ]
  },
  {
   "cell_type": "code",
   "execution_count": 14,
   "metadata": {},
   "outputs": [],
   "source": [
    "for dm in dms:\n",
    "    host_ids_subset_dm = list(set(host_ids_subset) & set(dms[dm].ids))\n",
    "    dms[dm] = dms[dm].filter(host_ids_subset_dm)"
   ]
  },
  {
   "cell_type": "markdown",
   "metadata": {},
   "source": [
    "## Parse distance matrices\n",
    "\n",
    "Subsample (group; pick arbitrary sample)\n",
    "\n",
    "Convert to paired diagonal\n",
    "\n",
    "Merge distance types\n",
    "\n",
    "Add diet distances\n",
    "\n",
    "Add phylo distances\n",
    "\n",
    "Add taxonomic labels (S1, S2)\n",
    "\n",
    "Add 'within' and 'between' taxonomic comparison columns"
   ]
  },
  {
   "cell_type": "markdown",
   "metadata": {},
   "source": [
    "#### Subsample (group; pick arbitrary sample)\n",
    "\n",
    "We don't want to confound this with within-species differences; subset matrix to one individual per species."
   ]
  },
  {
   "cell_type": "markdown",
   "metadata": {},
   "source": [
    "#### Convert to paired diagonal\n",
    "\n",
    "We want a reduced form of the distance matrix that we can use for plotting."
   ]
  },
  {
   "cell_type": "markdown",
   "metadata": {},
   "source": [
    "#### Add diet distances\n",
    "\n",
    "Let's get diet distances from our metadata"
   ]
  },
  {
   "cell_type": "code",
   "execution_count": 15,
   "metadata": {},
   "outputs": [],
   "source": [
    "elton_cols = ['ET.Diet.Fruit',\n",
    "             'ET.Diet.Inv',\n",
    "             'ET.Diet.Nect',\n",
    "             'ET.Diet.PlantO',\n",
    "             'ET.Diet.Scav',\n",
    "             'ET.Diet.Seed',\n",
    "             'ET.Diet.Vect',\n",
    "             'ET.Diet.Vend',\n",
    "             'ET.Diet.Vfish',\n",
    "             'ET.Diet.Vunk']"
   ]
  },
  {
   "cell_type": "code",
   "execution_count": 16,
   "metadata": {},
   "outputs": [],
   "source": [
    "host_diet_df = host_md.loc[host_md[elton_cols].sum(axis=1) == 100,\n",
    "                           ['SampleID'] + elton_cols].dropna()"
   ]
  },
  {
   "cell_type": "code",
   "execution_count": 17,
   "metadata": {},
   "outputs": [],
   "source": [
    "host_diet_df.set_index('SampleID', inplace=True)"
   ]
  },
  {
   "cell_type": "code",
   "execution_count": 18,
   "metadata": {},
   "outputs": [
    {
     "data": {
      "text/html": [
       "<div>\n",
       "<style scoped>\n",
       "    .dataframe tbody tr th:only-of-type {\n",
       "        vertical-align: middle;\n",
       "    }\n",
       "\n",
       "    .dataframe tbody tr th {\n",
       "        vertical-align: top;\n",
       "    }\n",
       "\n",
       "    .dataframe thead th {\n",
       "        text-align: right;\n",
       "    }\n",
       "</style>\n",
       "<table border=\"1\" class=\"dataframe\">\n",
       "  <thead>\n",
       "    <tr style=\"text-align: right;\">\n",
       "      <th></th>\n",
       "      <th>ET.Diet.Fruit</th>\n",
       "      <th>ET.Diet.Inv</th>\n",
       "      <th>ET.Diet.Nect</th>\n",
       "      <th>ET.Diet.PlantO</th>\n",
       "      <th>ET.Diet.Scav</th>\n",
       "      <th>ET.Diet.Seed</th>\n",
       "      <th>ET.Diet.Vect</th>\n",
       "      <th>ET.Diet.Vend</th>\n",
       "      <th>ET.Diet.Vfish</th>\n",
       "      <th>ET.Diet.Vunk</th>\n",
       "    </tr>\n",
       "    <tr>\n",
       "      <th>SampleID</th>\n",
       "      <th></th>\n",
       "      <th></th>\n",
       "      <th></th>\n",
       "      <th></th>\n",
       "      <th></th>\n",
       "      <th></th>\n",
       "      <th></th>\n",
       "      <th></th>\n",
       "      <th></th>\n",
       "      <th></th>\n",
       "    </tr>\n",
       "  </thead>\n",
       "  <tbody>\n",
       "    <tr>\n",
       "      <th>10684.weampp14D11</th>\n",
       "      <td>0.0</td>\n",
       "      <td>50.0</td>\n",
       "      <td>0.0</td>\n",
       "      <td>10.0</td>\n",
       "      <td>0.0</td>\n",
       "      <td>0.0</td>\n",
       "      <td>20.0</td>\n",
       "      <td>0.0</td>\n",
       "      <td>20.0</td>\n",
       "      <td>0.0</td>\n",
       "    </tr>\n",
       "    <tr>\n",
       "      <th>10684.weampp11B10</th>\n",
       "      <td>0.0</td>\n",
       "      <td>50.0</td>\n",
       "      <td>0.0</td>\n",
       "      <td>10.0</td>\n",
       "      <td>0.0</td>\n",
       "      <td>0.0</td>\n",
       "      <td>20.0</td>\n",
       "      <td>0.0</td>\n",
       "      <td>20.0</td>\n",
       "      <td>0.0</td>\n",
       "    </tr>\n",
       "    <tr>\n",
       "      <th>10684.weampp09H11</th>\n",
       "      <td>0.0</td>\n",
       "      <td>50.0</td>\n",
       "      <td>0.0</td>\n",
       "      <td>10.0</td>\n",
       "      <td>0.0</td>\n",
       "      <td>0.0</td>\n",
       "      <td>20.0</td>\n",
       "      <td>0.0</td>\n",
       "      <td>20.0</td>\n",
       "      <td>0.0</td>\n",
       "    </tr>\n",
       "    <tr>\n",
       "      <th>10684.weampp10A08</th>\n",
       "      <td>0.0</td>\n",
       "      <td>50.0</td>\n",
       "      <td>0.0</td>\n",
       "      <td>10.0</td>\n",
       "      <td>0.0</td>\n",
       "      <td>0.0</td>\n",
       "      <td>20.0</td>\n",
       "      <td>0.0</td>\n",
       "      <td>20.0</td>\n",
       "      <td>0.0</td>\n",
       "    </tr>\n",
       "    <tr>\n",
       "      <th>10684.weampp06A02</th>\n",
       "      <td>0.0</td>\n",
       "      <td>50.0</td>\n",
       "      <td>0.0</td>\n",
       "      <td>10.0</td>\n",
       "      <td>0.0</td>\n",
       "      <td>0.0</td>\n",
       "      <td>20.0</td>\n",
       "      <td>0.0</td>\n",
       "      <td>20.0</td>\n",
       "      <td>0.0</td>\n",
       "    </tr>\n",
       "  </tbody>\n",
       "</table>\n",
       "</div>"
      ],
      "text/plain": [
       "                   ET.Diet.Fruit  ET.Diet.Inv  ET.Diet.Nect  ET.Diet.PlantO  \\\n",
       "SampleID                                                                      \n",
       "10684.weampp14D11            0.0         50.0           0.0            10.0   \n",
       "10684.weampp11B10            0.0         50.0           0.0            10.0   \n",
       "10684.weampp09H11            0.0         50.0           0.0            10.0   \n",
       "10684.weampp10A08            0.0         50.0           0.0            10.0   \n",
       "10684.weampp06A02            0.0         50.0           0.0            10.0   \n",
       "\n",
       "                   ET.Diet.Scav  ET.Diet.Seed  ET.Diet.Vect  ET.Diet.Vend  \\\n",
       "SampleID                                                                    \n",
       "10684.weampp14D11           0.0           0.0          20.0           0.0   \n",
       "10684.weampp11B10           0.0           0.0          20.0           0.0   \n",
       "10684.weampp09H11           0.0           0.0          20.0           0.0   \n",
       "10684.weampp10A08           0.0           0.0          20.0           0.0   \n",
       "10684.weampp06A02           0.0           0.0          20.0           0.0   \n",
       "\n",
       "                   ET.Diet.Vfish  ET.Diet.Vunk  \n",
       "SampleID                                        \n",
       "10684.weampp14D11           20.0           0.0  \n",
       "10684.weampp11B10           20.0           0.0  \n",
       "10684.weampp09H11           20.0           0.0  \n",
       "10684.weampp10A08           20.0           0.0  \n",
       "10684.weampp06A02           20.0           0.0  "
      ]
     },
     "execution_count": 18,
     "metadata": {},
     "output_type": "execute_result"
    }
   ],
   "source": [
    "host_diet_df.head()"
   ]
  },
  {
   "cell_type": "code",
   "execution_count": 19,
   "metadata": {
    "scrolled": true
   },
   "outputs": [],
   "source": [
    "diet_dm = sk.DistanceMatrix(squareform(pdist(host_diet_df.iloc[:, :], metric='braycurtis')))\n",
    "diet_dm.ids = host_diet_df.index"
   ]
  },
  {
   "cell_type": "code",
   "execution_count": 20,
   "metadata": {
    "scrolled": false
   },
   "outputs": [
    {
     "data": {
      "text/plain": [
       "(2053, 2053)"
      ]
     },
     "execution_count": 20,
     "metadata": {},
     "output_type": "execute_result"
    }
   ],
   "source": [
    "diet_dm.shape"
   ]
  },
  {
   "cell_type": "code",
   "execution_count": 21,
   "metadata": {},
   "outputs": [],
   "source": [
    "diet_art = Artifact.import_data('DistanceMatrix', diet_dm)"
   ]
  },
  {
   "cell_type": "code",
   "execution_count": 22,
   "metadata": {},
   "outputs": [
    {
     "name": "stdout",
     "output_type": "stream",
     "text": [
      "adiv\r\n",
      "bdiv\r\n",
      "bdtt\r\n",
      "bdtt_files.tar.gz\r\n",
      "bugbase\r\n",
      "diet_distances.qza\r\n",
      "eco_md-qiime_host_species_eco_metadata_by_SampleID_gut_11.28.18.txt\r\n",
      "metadata\r\n",
      "notebooks\r\n",
      "pcoa_figs\r\n",
      "phylosymbiosis\r\n",
      "picrust\r\n",
      "qiime2-2019.1-py36-linux-conda.yml\r\n",
      "specificity_barcharts\r\n",
      "specificity_stats\r\n",
      "tables\r\n",
      "taxonomy\r\n",
      "testdm.qza\r\n",
      "test_flight_group.qzv\r\n",
      "trees\r\n"
     ]
    }
   ],
   "source": [
    "!ls ../"
   ]
  },
  {
   "cell_type": "code",
   "execution_count": 23,
   "metadata": {},
   "outputs": [
    {
     "data": {
      "text/plain": [
       "'../diet_distances.qza'"
      ]
     },
     "execution_count": 23,
     "metadata": {},
     "output_type": "execute_result"
    }
   ],
   "source": [
    "diet_art.save('../diet_distances.qza')"
   ]
  },
  {
   "cell_type": "code",
   "execution_count": 24,
   "metadata": {},
   "outputs": [
    {
     "name": "stdout",
     "output_type": "stream",
     "text": [
      "/home/jgsanders/projects/templeton/201811/diet_distances.qza\r\n"
     ]
    }
   ],
   "source": [
    "!readlink -f ../diet_distances.qza"
   ]
  },
  {
   "cell_type": "markdown",
   "metadata": {},
   "source": [
    "### Add taxonomic info"
   ]
  },
  {
   "cell_type": "code",
   "execution_count": 25,
   "metadata": {},
   "outputs": [],
   "source": [
    "host_lookup = {x['SampleID']: x['TimeTree_returned'] for i, x in host_md.iterrows()}"
   ]
  },
  {
   "cell_type": "code",
   "execution_count": 26,
   "metadata": {},
   "outputs": [],
   "source": [
    "diet_dm_paired = diet_dm.to_series().reset_index()\n",
    "diet_dm_paired.columns = ['host_1_id','host_2_id','diet_bc']"
   ]
  },
  {
   "cell_type": "code",
   "execution_count": 27,
   "metadata": {
    "scrolled": false
   },
   "outputs": [
    {
     "data": {
      "text/html": [
       "<div>\n",
       "<style scoped>\n",
       "    .dataframe tbody tr th:only-of-type {\n",
       "        vertical-align: middle;\n",
       "    }\n",
       "\n",
       "    .dataframe tbody tr th {\n",
       "        vertical-align: top;\n",
       "    }\n",
       "\n",
       "    .dataframe thead th {\n",
       "        text-align: right;\n",
       "    }\n",
       "</style>\n",
       "<table border=\"1\" class=\"dataframe\">\n",
       "  <thead>\n",
       "    <tr style=\"text-align: right;\">\n",
       "      <th></th>\n",
       "      <th>host_1_id</th>\n",
       "      <th>host_2_id</th>\n",
       "      <th>diet_bc</th>\n",
       "    </tr>\n",
       "  </thead>\n",
       "  <tbody>\n",
       "    <tr>\n",
       "      <th>0</th>\n",
       "      <td>10684.weampp14D11</td>\n",
       "      <td>10684.weampp11B10</td>\n",
       "      <td>0.0</td>\n",
       "    </tr>\n",
       "    <tr>\n",
       "      <th>1</th>\n",
       "      <td>10684.weampp14D11</td>\n",
       "      <td>10684.weampp09H11</td>\n",
       "      <td>0.0</td>\n",
       "    </tr>\n",
       "    <tr>\n",
       "      <th>2</th>\n",
       "      <td>10684.weampp14D11</td>\n",
       "      <td>10684.weampp10A08</td>\n",
       "      <td>0.0</td>\n",
       "    </tr>\n",
       "    <tr>\n",
       "      <th>3</th>\n",
       "      <td>10684.weampp14D11</td>\n",
       "      <td>10684.weampp06A02</td>\n",
       "      <td>0.0</td>\n",
       "    </tr>\n",
       "    <tr>\n",
       "      <th>4</th>\n",
       "      <td>10684.weampp14D11</td>\n",
       "      <td>10684.weampp05C04</td>\n",
       "      <td>0.3</td>\n",
       "    </tr>\n",
       "  </tbody>\n",
       "</table>\n",
       "</div>"
      ],
      "text/plain": [
       "           host_1_id          host_2_id  diet_bc\n",
       "0  10684.weampp14D11  10684.weampp11B10      0.0\n",
       "1  10684.weampp14D11  10684.weampp09H11      0.0\n",
       "2  10684.weampp14D11  10684.weampp10A08      0.0\n",
       "3  10684.weampp14D11  10684.weampp06A02      0.0\n",
       "4  10684.weampp14D11  10684.weampp05C04      0.3"
      ]
     },
     "execution_count": 27,
     "metadata": {},
     "output_type": "execute_result"
    }
   ],
   "source": [
    "diet_dm_paired.head()"
   ]
  },
  {
   "cell_type": "code",
   "execution_count": 28,
   "metadata": {},
   "outputs": [],
   "source": [
    "host_lookup = {x['SampleID']: x['TimeTree_returned'] for i, x in host_md.iterrows()}\n",
    "\n",
    "diet_dm_paired['host_1'] = diet_dm_paired['host_1_id'].apply(lambda x: host_lookup[x])\n",
    "diet_dm_paired['host_2'] = diet_dm_paired['host_2_id'].apply(lambda x: host_lookup[x])"
   ]
  },
  {
   "cell_type": "code",
   "execution_count": 29,
   "metadata": {
    "scrolled": true
   },
   "outputs": [
    {
     "data": {
      "text/html": [
       "<div>\n",
       "<style scoped>\n",
       "    .dataframe tbody tr th:only-of-type {\n",
       "        vertical-align: middle;\n",
       "    }\n",
       "\n",
       "    .dataframe tbody tr th {\n",
       "        vertical-align: top;\n",
       "    }\n",
       "\n",
       "    .dataframe thead th {\n",
       "        text-align: right;\n",
       "    }\n",
       "</style>\n",
       "<table border=\"1\" class=\"dataframe\">\n",
       "  <thead>\n",
       "    <tr style=\"text-align: right;\">\n",
       "      <th></th>\n",
       "      <th>host_1_id</th>\n",
       "      <th>host_2_id</th>\n",
       "      <th>diet_bc</th>\n",
       "      <th>host_1</th>\n",
       "      <th>host_2</th>\n",
       "    </tr>\n",
       "  </thead>\n",
       "  <tbody>\n",
       "    <tr>\n",
       "      <th>0</th>\n",
       "      <td>10684.weampp14D11</td>\n",
       "      <td>10684.weampp11B10</td>\n",
       "      <td>0.0</td>\n",
       "      <td>Actitis_hypoleucos</td>\n",
       "      <td>Actitis_hypoleucos</td>\n",
       "    </tr>\n",
       "    <tr>\n",
       "      <th>1</th>\n",
       "      <td>10684.weampp14D11</td>\n",
       "      <td>10684.weampp09H11</td>\n",
       "      <td>0.0</td>\n",
       "      <td>Actitis_hypoleucos</td>\n",
       "      <td>Actitis_hypoleucos</td>\n",
       "    </tr>\n",
       "    <tr>\n",
       "      <th>2</th>\n",
       "      <td>10684.weampp14D11</td>\n",
       "      <td>10684.weampp10A08</td>\n",
       "      <td>0.0</td>\n",
       "      <td>Actitis_hypoleucos</td>\n",
       "      <td>Actitis_hypoleucos</td>\n",
       "    </tr>\n",
       "    <tr>\n",
       "      <th>3</th>\n",
       "      <td>10684.weampp14D11</td>\n",
       "      <td>10684.weampp06A02</td>\n",
       "      <td>0.0</td>\n",
       "      <td>Actitis_hypoleucos</td>\n",
       "      <td>Actitis_hypoleucos</td>\n",
       "    </tr>\n",
       "    <tr>\n",
       "      <th>4</th>\n",
       "      <td>10684.weampp14D11</td>\n",
       "      <td>10684.weampp05C04</td>\n",
       "      <td>0.3</td>\n",
       "      <td>Actitis_hypoleucos</td>\n",
       "      <td>Actitis_macularia</td>\n",
       "    </tr>\n",
       "  </tbody>\n",
       "</table>\n",
       "</div>"
      ],
      "text/plain": [
       "           host_1_id          host_2_id  diet_bc              host_1  \\\n",
       "0  10684.weampp14D11  10684.weampp11B10      0.0  Actitis_hypoleucos   \n",
       "1  10684.weampp14D11  10684.weampp09H11      0.0  Actitis_hypoleucos   \n",
       "2  10684.weampp14D11  10684.weampp10A08      0.0  Actitis_hypoleucos   \n",
       "3  10684.weampp14D11  10684.weampp06A02      0.0  Actitis_hypoleucos   \n",
       "4  10684.weampp14D11  10684.weampp05C04      0.3  Actitis_hypoleucos   \n",
       "\n",
       "               host_2  \n",
       "0  Actitis_hypoleucos  \n",
       "1  Actitis_hypoleucos  \n",
       "2  Actitis_hypoleucos  \n",
       "3  Actitis_hypoleucos  \n",
       "4   Actitis_macularia  "
      ]
     },
     "execution_count": 29,
     "metadata": {},
     "output_type": "execute_result"
    }
   ],
   "source": [
    "diet_dm_paired.head()"
   ]
  },
  {
   "cell_type": "code",
   "execution_count": 30,
   "metadata": {
    "scrolled": true
   },
   "outputs": [
    {
     "data": {
      "text/plain": [
       "(2106378, 5)"
      ]
     },
     "execution_count": 30,
     "metadata": {},
     "output_type": "execute_result"
    }
   ],
   "source": [
    "diet_dm_paired.shape"
   ]
  },
  {
   "cell_type": "code",
   "execution_count": 31,
   "metadata": {},
   "outputs": [],
   "source": [
    "distances = diet_dm_paired.copy()"
   ]
  },
  {
   "cell_type": "markdown",
   "metadata": {},
   "source": [
    "#### Add taxonomic labels for each host\n"
   ]
  },
  {
   "cell_type": "code",
   "execution_count": 32,
   "metadata": {},
   "outputs": [],
   "source": [
    "host_lookup_Class = {x['SampleID']: x['Taxonomy_Class'] for i, x in host_md.iterrows()}\n",
    "\n",
    "distances['host_1_Class'] = distances['host_1_id'].apply(lambda x: host_lookup_Class[x])\n",
    "distances['host_2_Class'] = distances['host_2_id'].apply(lambda x: host_lookup_Class[x])"
   ]
  },
  {
   "cell_type": "code",
   "execution_count": 33,
   "metadata": {},
   "outputs": [],
   "source": [
    "host_lookup_Order = {x['SampleID']: x['Taxonomy_Order'] for i, x in host_md.iterrows()}\n",
    "\n",
    "distances['host_1_Order'] = distances['host_1_id'].apply(lambda x: host_lookup_Order[x])\n",
    "distances['host_2_Order'] = distances['host_2_id'].apply(lambda x: host_lookup_Order[x])"
   ]
  },
  {
   "cell_type": "code",
   "execution_count": 34,
   "metadata": {},
   "outputs": [],
   "source": [
    "host_lookup_Family = {x['SampleID']: x['Taxonomy_Family'] for i, x in host_md.iterrows()}\n",
    "\n",
    "distances['host_1_Family'] = distances['host_1_id'].apply(lambda x: host_lookup_Family[x])\n",
    "distances['host_2_Family'] = distances['host_2_id'].apply(lambda x: host_lookup_Family[x])"
   ]
  },
  {
   "cell_type": "code",
   "execution_count": 35,
   "metadata": {
    "scrolled": true
   },
   "outputs": [
    {
     "data": {
      "text/html": [
       "<div>\n",
       "<style scoped>\n",
       "    .dataframe tbody tr th:only-of-type {\n",
       "        vertical-align: middle;\n",
       "    }\n",
       "\n",
       "    .dataframe tbody tr th {\n",
       "        vertical-align: top;\n",
       "    }\n",
       "\n",
       "    .dataframe thead th {\n",
       "        text-align: right;\n",
       "    }\n",
       "</style>\n",
       "<table border=\"1\" class=\"dataframe\">\n",
       "  <thead>\n",
       "    <tr style=\"text-align: right;\">\n",
       "      <th></th>\n",
       "      <th>host_1_id</th>\n",
       "      <th>host_2_id</th>\n",
       "      <th>diet_bc</th>\n",
       "      <th>host_1</th>\n",
       "      <th>host_2</th>\n",
       "      <th>host_1_Class</th>\n",
       "      <th>host_2_Class</th>\n",
       "      <th>host_1_Order</th>\n",
       "      <th>host_2_Order</th>\n",
       "      <th>host_1_Family</th>\n",
       "      <th>host_2_Family</th>\n",
       "    </tr>\n",
       "  </thead>\n",
       "  <tbody>\n",
       "    <tr>\n",
       "      <th>0</th>\n",
       "      <td>10684.weampp14D11</td>\n",
       "      <td>10684.weampp11B10</td>\n",
       "      <td>0.0</td>\n",
       "      <td>Actitis_hypoleucos</td>\n",
       "      <td>Actitis_hypoleucos</td>\n",
       "      <td>Aves</td>\n",
       "      <td>Aves</td>\n",
       "      <td>Charadriiformes</td>\n",
       "      <td>Charadriiformes</td>\n",
       "      <td>Scolopacidae</td>\n",
       "      <td>Scolopacidae</td>\n",
       "    </tr>\n",
       "    <tr>\n",
       "      <th>1</th>\n",
       "      <td>10684.weampp14D11</td>\n",
       "      <td>10684.weampp09H11</td>\n",
       "      <td>0.0</td>\n",
       "      <td>Actitis_hypoleucos</td>\n",
       "      <td>Actitis_hypoleucos</td>\n",
       "      <td>Aves</td>\n",
       "      <td>Aves</td>\n",
       "      <td>Charadriiformes</td>\n",
       "      <td>Charadriiformes</td>\n",
       "      <td>Scolopacidae</td>\n",
       "      <td>Scolopacidae</td>\n",
       "    </tr>\n",
       "    <tr>\n",
       "      <th>2</th>\n",
       "      <td>10684.weampp14D11</td>\n",
       "      <td>10684.weampp10A08</td>\n",
       "      <td>0.0</td>\n",
       "      <td>Actitis_hypoleucos</td>\n",
       "      <td>Actitis_hypoleucos</td>\n",
       "      <td>Aves</td>\n",
       "      <td>Aves</td>\n",
       "      <td>Charadriiformes</td>\n",
       "      <td>Charadriiformes</td>\n",
       "      <td>Scolopacidae</td>\n",
       "      <td>Scolopacidae</td>\n",
       "    </tr>\n",
       "    <tr>\n",
       "      <th>3</th>\n",
       "      <td>10684.weampp14D11</td>\n",
       "      <td>10684.weampp06A02</td>\n",
       "      <td>0.0</td>\n",
       "      <td>Actitis_hypoleucos</td>\n",
       "      <td>Actitis_hypoleucos</td>\n",
       "      <td>Aves</td>\n",
       "      <td>Aves</td>\n",
       "      <td>Charadriiformes</td>\n",
       "      <td>Charadriiformes</td>\n",
       "      <td>Scolopacidae</td>\n",
       "      <td>Scolopacidae</td>\n",
       "    </tr>\n",
       "    <tr>\n",
       "      <th>4</th>\n",
       "      <td>10684.weampp14D11</td>\n",
       "      <td>10684.weampp05C04</td>\n",
       "      <td>0.3</td>\n",
       "      <td>Actitis_hypoleucos</td>\n",
       "      <td>Actitis_macularia</td>\n",
       "      <td>Aves</td>\n",
       "      <td>Aves</td>\n",
       "      <td>Charadriiformes</td>\n",
       "      <td>Charadriiformes</td>\n",
       "      <td>Scolopacidae</td>\n",
       "      <td>Scolopacidae</td>\n",
       "    </tr>\n",
       "  </tbody>\n",
       "</table>\n",
       "</div>"
      ],
      "text/plain": [
       "           host_1_id          host_2_id  diet_bc              host_1  \\\n",
       "0  10684.weampp14D11  10684.weampp11B10      0.0  Actitis_hypoleucos   \n",
       "1  10684.weampp14D11  10684.weampp09H11      0.0  Actitis_hypoleucos   \n",
       "2  10684.weampp14D11  10684.weampp10A08      0.0  Actitis_hypoleucos   \n",
       "3  10684.weampp14D11  10684.weampp06A02      0.0  Actitis_hypoleucos   \n",
       "4  10684.weampp14D11  10684.weampp05C04      0.3  Actitis_hypoleucos   \n",
       "\n",
       "               host_2 host_1_Class host_2_Class     host_1_Order  \\\n",
       "0  Actitis_hypoleucos         Aves         Aves  Charadriiformes   \n",
       "1  Actitis_hypoleucos         Aves         Aves  Charadriiformes   \n",
       "2  Actitis_hypoleucos         Aves         Aves  Charadriiformes   \n",
       "3  Actitis_hypoleucos         Aves         Aves  Charadriiformes   \n",
       "4   Actitis_macularia         Aves         Aves  Charadriiformes   \n",
       "\n",
       "      host_2_Order host_1_Family host_2_Family  \n",
       "0  Charadriiformes  Scolopacidae  Scolopacidae  \n",
       "1  Charadriiformes  Scolopacidae  Scolopacidae  \n",
       "2  Charadriiformes  Scolopacidae  Scolopacidae  \n",
       "3  Charadriiformes  Scolopacidae  Scolopacidae  \n",
       "4  Charadriiformes  Scolopacidae  Scolopacidae  "
      ]
     },
     "execution_count": 35,
     "metadata": {},
     "output_type": "execute_result"
    }
   ],
   "source": [
    "distances.head()"
   ]
  },
  {
   "cell_type": "markdown",
   "metadata": {},
   "source": [
    "#### Add within and between fields\n",
    "\n",
    "For subset graphing"
   ]
  },
  {
   "cell_type": "code",
   "execution_count": 36,
   "metadata": {},
   "outputs": [],
   "source": [
    "distances['within_Class'] = False\n",
    "distances.loc[distances['host_1_Class'] == distances['host_2_Class'],\n",
    "                                              'within_Class'] = True\n",
    "\n",
    "distances['within_Order'] = False\n",
    "distances.loc[distances['host_1_Order'] == distances['host_2_Order'],\n",
    "                                              'within_Order'] = True\n",
    "\n",
    "\n",
    "distances['within_Family'] = False\n",
    "distances.loc[distances['host_1_Family'] == distances['host_2_Family'],\n",
    "                                              'within_Family'] = True"
   ]
  },
  {
   "cell_type": "code",
   "execution_count": 37,
   "metadata": {
    "scrolled": true
   },
   "outputs": [
    {
     "data": {
      "text/html": [
       "<div>\n",
       "<style scoped>\n",
       "    .dataframe tbody tr th:only-of-type {\n",
       "        vertical-align: middle;\n",
       "    }\n",
       "\n",
       "    .dataframe tbody tr th {\n",
       "        vertical-align: top;\n",
       "    }\n",
       "\n",
       "    .dataframe thead th {\n",
       "        text-align: right;\n",
       "    }\n",
       "</style>\n",
       "<table border=\"1\" class=\"dataframe\">\n",
       "  <thead>\n",
       "    <tr style=\"text-align: right;\">\n",
       "      <th></th>\n",
       "      <th>host_1_id</th>\n",
       "      <th>host_2_id</th>\n",
       "      <th>diet_bc</th>\n",
       "      <th>host_1</th>\n",
       "      <th>host_2</th>\n",
       "      <th>host_1_Class</th>\n",
       "      <th>host_2_Class</th>\n",
       "      <th>host_1_Order</th>\n",
       "      <th>host_2_Order</th>\n",
       "      <th>host_1_Family</th>\n",
       "      <th>host_2_Family</th>\n",
       "      <th>within_Class</th>\n",
       "      <th>within_Order</th>\n",
       "      <th>within_Family</th>\n",
       "    </tr>\n",
       "  </thead>\n",
       "  <tbody>\n",
       "    <tr>\n",
       "      <th>0</th>\n",
       "      <td>10684.weampp14D11</td>\n",
       "      <td>10684.weampp11B10</td>\n",
       "      <td>0.0</td>\n",
       "      <td>Actitis_hypoleucos</td>\n",
       "      <td>Actitis_hypoleucos</td>\n",
       "      <td>Aves</td>\n",
       "      <td>Aves</td>\n",
       "      <td>Charadriiformes</td>\n",
       "      <td>Charadriiformes</td>\n",
       "      <td>Scolopacidae</td>\n",
       "      <td>Scolopacidae</td>\n",
       "      <td>True</td>\n",
       "      <td>True</td>\n",
       "      <td>True</td>\n",
       "    </tr>\n",
       "    <tr>\n",
       "      <th>1</th>\n",
       "      <td>10684.weampp14D11</td>\n",
       "      <td>10684.weampp09H11</td>\n",
       "      <td>0.0</td>\n",
       "      <td>Actitis_hypoleucos</td>\n",
       "      <td>Actitis_hypoleucos</td>\n",
       "      <td>Aves</td>\n",
       "      <td>Aves</td>\n",
       "      <td>Charadriiformes</td>\n",
       "      <td>Charadriiformes</td>\n",
       "      <td>Scolopacidae</td>\n",
       "      <td>Scolopacidae</td>\n",
       "      <td>True</td>\n",
       "      <td>True</td>\n",
       "      <td>True</td>\n",
       "    </tr>\n",
       "    <tr>\n",
       "      <th>2</th>\n",
       "      <td>10684.weampp14D11</td>\n",
       "      <td>10684.weampp10A08</td>\n",
       "      <td>0.0</td>\n",
       "      <td>Actitis_hypoleucos</td>\n",
       "      <td>Actitis_hypoleucos</td>\n",
       "      <td>Aves</td>\n",
       "      <td>Aves</td>\n",
       "      <td>Charadriiformes</td>\n",
       "      <td>Charadriiformes</td>\n",
       "      <td>Scolopacidae</td>\n",
       "      <td>Scolopacidae</td>\n",
       "      <td>True</td>\n",
       "      <td>True</td>\n",
       "      <td>True</td>\n",
       "    </tr>\n",
       "    <tr>\n",
       "      <th>3</th>\n",
       "      <td>10684.weampp14D11</td>\n",
       "      <td>10684.weampp06A02</td>\n",
       "      <td>0.0</td>\n",
       "      <td>Actitis_hypoleucos</td>\n",
       "      <td>Actitis_hypoleucos</td>\n",
       "      <td>Aves</td>\n",
       "      <td>Aves</td>\n",
       "      <td>Charadriiformes</td>\n",
       "      <td>Charadriiformes</td>\n",
       "      <td>Scolopacidae</td>\n",
       "      <td>Scolopacidae</td>\n",
       "      <td>True</td>\n",
       "      <td>True</td>\n",
       "      <td>True</td>\n",
       "    </tr>\n",
       "    <tr>\n",
       "      <th>4</th>\n",
       "      <td>10684.weampp14D11</td>\n",
       "      <td>10684.weampp05C04</td>\n",
       "      <td>0.3</td>\n",
       "      <td>Actitis_hypoleucos</td>\n",
       "      <td>Actitis_macularia</td>\n",
       "      <td>Aves</td>\n",
       "      <td>Aves</td>\n",
       "      <td>Charadriiformes</td>\n",
       "      <td>Charadriiformes</td>\n",
       "      <td>Scolopacidae</td>\n",
       "      <td>Scolopacidae</td>\n",
       "      <td>True</td>\n",
       "      <td>True</td>\n",
       "      <td>True</td>\n",
       "    </tr>\n",
       "  </tbody>\n",
       "</table>\n",
       "</div>"
      ],
      "text/plain": [
       "           host_1_id          host_2_id  diet_bc              host_1  \\\n",
       "0  10684.weampp14D11  10684.weampp11B10      0.0  Actitis_hypoleucos   \n",
       "1  10684.weampp14D11  10684.weampp09H11      0.0  Actitis_hypoleucos   \n",
       "2  10684.weampp14D11  10684.weampp10A08      0.0  Actitis_hypoleucos   \n",
       "3  10684.weampp14D11  10684.weampp06A02      0.0  Actitis_hypoleucos   \n",
       "4  10684.weampp14D11  10684.weampp05C04      0.3  Actitis_hypoleucos   \n",
       "\n",
       "               host_2 host_1_Class host_2_Class     host_1_Order  \\\n",
       "0  Actitis_hypoleucos         Aves         Aves  Charadriiformes   \n",
       "1  Actitis_hypoleucos         Aves         Aves  Charadriiformes   \n",
       "2  Actitis_hypoleucos         Aves         Aves  Charadriiformes   \n",
       "3  Actitis_hypoleucos         Aves         Aves  Charadriiformes   \n",
       "4   Actitis_macularia         Aves         Aves  Charadriiformes   \n",
       "\n",
       "      host_2_Order host_1_Family host_2_Family  within_Class  within_Order  \\\n",
       "0  Charadriiformes  Scolopacidae  Scolopacidae          True          True   \n",
       "1  Charadriiformes  Scolopacidae  Scolopacidae          True          True   \n",
       "2  Charadriiformes  Scolopacidae  Scolopacidae          True          True   \n",
       "3  Charadriiformes  Scolopacidae  Scolopacidae          True          True   \n",
       "4  Charadriiformes  Scolopacidae  Scolopacidae          True          True   \n",
       "\n",
       "   within_Family  \n",
       "0           True  \n",
       "1           True  \n",
       "2           True  \n",
       "3           True  \n",
       "4           True  "
      ]
     },
     "execution_count": 37,
     "metadata": {},
     "output_type": "execute_result"
    }
   ],
   "source": [
    "distances.head()"
   ]
  },
  {
   "cell_type": "markdown",
   "metadata": {},
   "source": [
    "#### Remove between_class entries"
   ]
  },
  {
   "cell_type": "code",
   "execution_count": 38,
   "metadata": {},
   "outputs": [],
   "source": [
    "distances = distances.loc[distances['within_Class'],]"
   ]
  },
  {
   "cell_type": "code",
   "execution_count": 39,
   "metadata": {},
   "outputs": [
    {
     "data": {
      "text/plain": [
       "(1074728, 14)"
      ]
     },
     "execution_count": 39,
     "metadata": {},
     "output_type": "execute_result"
    }
   ],
   "source": [
    "distances.shape"
   ]
  },
  {
   "cell_type": "markdown",
   "metadata": {},
   "source": [
    "#### Add patristic distances\n",
    "\n",
    "We can get these directly from the skbio treenode object"
   ]
  },
  {
   "cell_type": "code",
   "execution_count": 40,
   "metadata": {
    "scrolled": true
   },
   "outputs": [],
   "source": [
    "patristic_dm = host_tree_subset.tip_tip_distances()"
   ]
  },
  {
   "cell_type": "markdown",
   "metadata": {},
   "source": [
    "#### Merge distance types \n",
    "\n",
    "This should just be a giant pandas d"
   ]
  },
  {
   "cell_type": "markdown",
   "metadata": {},
   "source": [
    "Add host_species column to initial dm"
   ]
  },
  {
   "cell_type": "code",
   "execution_count": 41,
   "metadata": {},
   "outputs": [],
   "source": [
    "def add_col(df, dm, col1, col2, name):\n",
    "    \n",
    "    df[name] = np.nan\n",
    "    \n",
    "    for i, row in df.iterrows():\n",
    "        if i % 100000 == 0:\n",
    "            print(i)\n",
    "        try:\n",
    "            df.loc[i, name] = dm[row[col1], row[col2]]\n",
    "        except:\n",
    "            continue\n",
    "\n",
    "\n",
    "def get_col(df, dm, col1, col2):\n",
    "    \n",
    "    values = []\n",
    "\n",
    "    for i, row in df.iterrows():\n",
    "        if i % 100000 == 0:\n",
    "            print(i)\n",
    "        try:\n",
    "            values.append(dm[row[col1], row[col2]])\n",
    "        except:\n",
    "            values.append(np.nan)\n",
    "\n",
    "    return(pd.Series(values, index=df.index))\n",
    "\n",
    "\n"
   ]
  },
  {
   "cell_type": "code",
   "execution_count": 42,
   "metadata": {},
   "outputs": [
    {
     "name": "stdout",
     "output_type": "stream",
     "text": [
      "0\n",
      "100000\n",
      "200000\n",
      "300000\n",
      "500000\n",
      "1200000\n",
      "1300000\n",
      "1400000\n",
      "1700000\n",
      "1900000\n",
      "2100000\n"
     ]
    }
   ],
   "source": [
    "distances['phylo'] = get_col(distances, patristic_dm, 'host_1', 'host_2')"
   ]
  },
  {
   "cell_type": "code",
   "execution_count": 43,
   "metadata": {},
   "outputs": [
    {
     "data": {
      "text/plain": [
       "(1074728, 15)"
      ]
     },
     "execution_count": 43,
     "metadata": {},
     "output_type": "execute_result"
    }
   ],
   "source": [
    "distances.shape"
   ]
  },
  {
   "cell_type": "code",
   "execution_count": 44,
   "metadata": {
    "scrolled": true
   },
   "outputs": [
    {
     "data": {
      "text/html": [
       "<div>\n",
       "<style scoped>\n",
       "    .dataframe tbody tr th:only-of-type {\n",
       "        vertical-align: middle;\n",
       "    }\n",
       "\n",
       "    .dataframe tbody tr th {\n",
       "        vertical-align: top;\n",
       "    }\n",
       "\n",
       "    .dataframe thead th {\n",
       "        text-align: right;\n",
       "    }\n",
       "</style>\n",
       "<table border=\"1\" class=\"dataframe\">\n",
       "  <thead>\n",
       "    <tr style=\"text-align: right;\">\n",
       "      <th></th>\n",
       "      <th>host_1_id</th>\n",
       "      <th>host_2_id</th>\n",
       "      <th>diet_bc</th>\n",
       "      <th>host_1</th>\n",
       "      <th>host_2</th>\n",
       "      <th>host_1_Class</th>\n",
       "      <th>host_2_Class</th>\n",
       "      <th>host_1_Order</th>\n",
       "      <th>host_2_Order</th>\n",
       "      <th>host_1_Family</th>\n",
       "      <th>host_2_Family</th>\n",
       "      <th>within_Class</th>\n",
       "      <th>within_Order</th>\n",
       "      <th>within_Family</th>\n",
       "      <th>phylo</th>\n",
       "    </tr>\n",
       "  </thead>\n",
       "  <tbody>\n",
       "    <tr>\n",
       "      <th>0</th>\n",
       "      <td>10684.weampp14D11</td>\n",
       "      <td>10684.weampp11B10</td>\n",
       "      <td>0.0</td>\n",
       "      <td>Actitis_hypoleucos</td>\n",
       "      <td>Actitis_hypoleucos</td>\n",
       "      <td>Aves</td>\n",
       "      <td>Aves</td>\n",
       "      <td>Charadriiformes</td>\n",
       "      <td>Charadriiformes</td>\n",
       "      <td>Scolopacidae</td>\n",
       "      <td>Scolopacidae</td>\n",
       "      <td>True</td>\n",
       "      <td>True</td>\n",
       "      <td>True</td>\n",
       "      <td>0.0000</td>\n",
       "    </tr>\n",
       "    <tr>\n",
       "      <th>1</th>\n",
       "      <td>10684.weampp14D11</td>\n",
       "      <td>10684.weampp09H11</td>\n",
       "      <td>0.0</td>\n",
       "      <td>Actitis_hypoleucos</td>\n",
       "      <td>Actitis_hypoleucos</td>\n",
       "      <td>Aves</td>\n",
       "      <td>Aves</td>\n",
       "      <td>Charadriiformes</td>\n",
       "      <td>Charadriiformes</td>\n",
       "      <td>Scolopacidae</td>\n",
       "      <td>Scolopacidae</td>\n",
       "      <td>True</td>\n",
       "      <td>True</td>\n",
       "      <td>True</td>\n",
       "      <td>0.0000</td>\n",
       "    </tr>\n",
       "    <tr>\n",
       "      <th>2</th>\n",
       "      <td>10684.weampp14D11</td>\n",
       "      <td>10684.weampp10A08</td>\n",
       "      <td>0.0</td>\n",
       "      <td>Actitis_hypoleucos</td>\n",
       "      <td>Actitis_hypoleucos</td>\n",
       "      <td>Aves</td>\n",
       "      <td>Aves</td>\n",
       "      <td>Charadriiformes</td>\n",
       "      <td>Charadriiformes</td>\n",
       "      <td>Scolopacidae</td>\n",
       "      <td>Scolopacidae</td>\n",
       "      <td>True</td>\n",
       "      <td>True</td>\n",
       "      <td>True</td>\n",
       "      <td>0.0000</td>\n",
       "    </tr>\n",
       "    <tr>\n",
       "      <th>3</th>\n",
       "      <td>10684.weampp14D11</td>\n",
       "      <td>10684.weampp06A02</td>\n",
       "      <td>0.0</td>\n",
       "      <td>Actitis_hypoleucos</td>\n",
       "      <td>Actitis_hypoleucos</td>\n",
       "      <td>Aves</td>\n",
       "      <td>Aves</td>\n",
       "      <td>Charadriiformes</td>\n",
       "      <td>Charadriiformes</td>\n",
       "      <td>Scolopacidae</td>\n",
       "      <td>Scolopacidae</td>\n",
       "      <td>True</td>\n",
       "      <td>True</td>\n",
       "      <td>True</td>\n",
       "      <td>0.0000</td>\n",
       "    </tr>\n",
       "    <tr>\n",
       "      <th>4</th>\n",
       "      <td>10684.weampp14D11</td>\n",
       "      <td>10684.weampp05C04</td>\n",
       "      <td>0.3</td>\n",
       "      <td>Actitis_hypoleucos</td>\n",
       "      <td>Actitis_macularia</td>\n",
       "      <td>Aves</td>\n",
       "      <td>Aves</td>\n",
       "      <td>Charadriiformes</td>\n",
       "      <td>Charadriiformes</td>\n",
       "      <td>Scolopacidae</td>\n",
       "      <td>Scolopacidae</td>\n",
       "      <td>True</td>\n",
       "      <td>True</td>\n",
       "      <td>True</td>\n",
       "      <td>26.9633</td>\n",
       "    </tr>\n",
       "  </tbody>\n",
       "</table>\n",
       "</div>"
      ],
      "text/plain": [
       "           host_1_id          host_2_id  diet_bc              host_1  \\\n",
       "0  10684.weampp14D11  10684.weampp11B10      0.0  Actitis_hypoleucos   \n",
       "1  10684.weampp14D11  10684.weampp09H11      0.0  Actitis_hypoleucos   \n",
       "2  10684.weampp14D11  10684.weampp10A08      0.0  Actitis_hypoleucos   \n",
       "3  10684.weampp14D11  10684.weampp06A02      0.0  Actitis_hypoleucos   \n",
       "4  10684.weampp14D11  10684.weampp05C04      0.3  Actitis_hypoleucos   \n",
       "\n",
       "               host_2 host_1_Class host_2_Class     host_1_Order  \\\n",
       "0  Actitis_hypoleucos         Aves         Aves  Charadriiformes   \n",
       "1  Actitis_hypoleucos         Aves         Aves  Charadriiformes   \n",
       "2  Actitis_hypoleucos         Aves         Aves  Charadriiformes   \n",
       "3  Actitis_hypoleucos         Aves         Aves  Charadriiformes   \n",
       "4   Actitis_macularia         Aves         Aves  Charadriiformes   \n",
       "\n",
       "      host_2_Order host_1_Family host_2_Family  within_Class  within_Order  \\\n",
       "0  Charadriiformes  Scolopacidae  Scolopacidae          True          True   \n",
       "1  Charadriiformes  Scolopacidae  Scolopacidae          True          True   \n",
       "2  Charadriiformes  Scolopacidae  Scolopacidae          True          True   \n",
       "3  Charadriiformes  Scolopacidae  Scolopacidae          True          True   \n",
       "4  Charadriiformes  Scolopacidae  Scolopacidae          True          True   \n",
       "\n",
       "   within_Family    phylo  \n",
       "0           True   0.0000  \n",
       "1           True   0.0000  \n",
       "2           True   0.0000  \n",
       "3           True   0.0000  \n",
       "4           True  26.9633  "
      ]
     },
     "execution_count": 44,
     "metadata": {},
     "output_type": "execute_result"
    }
   ],
   "source": [
    "distances.head()"
   ]
  },
  {
   "cell_type": "markdown",
   "metadata": {},
   "source": [
    "#### Add microbiome distances"
   ]
  },
  {
   "cell_type": "code",
   "execution_count": 45,
   "metadata": {},
   "outputs": [
    {
     "name": "stdout",
     "output_type": "stream",
     "text": [
      "0\n",
      "100000\n",
      "200000\n",
      "300000\n",
      "500000\n",
      "1200000\n",
      "1300000\n",
      "1400000\n",
      "1700000\n",
      "1900000\n",
      "2100000\n",
      "0\n",
      "100000\n",
      "200000\n",
      "300000\n",
      "500000\n",
      "1200000\n",
      "1300000\n",
      "1400000\n",
      "1700000\n",
      "1900000\n",
      "2100000\n",
      "0\n",
      "100000\n",
      "200000\n",
      "300000\n",
      "500000\n",
      "1200000\n",
      "1300000\n",
      "1400000\n",
      "1700000\n",
      "1900000\n",
      "2100000\n"
     ]
    }
   ],
   "source": [
    "for metric in dms:\n",
    "    distances[metric] = get_col(distances, dms[metric], 'host_1_id', 'host_2_id')"
   ]
  },
  {
   "cell_type": "code",
   "execution_count": 46,
   "metadata": {},
   "outputs": [
    {
     "data": {
      "text/html": [
       "<div>\n",
       "<style scoped>\n",
       "    .dataframe tbody tr th:only-of-type {\n",
       "        vertical-align: middle;\n",
       "    }\n",
       "\n",
       "    .dataframe tbody tr th {\n",
       "        vertical-align: top;\n",
       "    }\n",
       "\n",
       "    .dataframe thead th {\n",
       "        text-align: right;\n",
       "    }\n",
       "</style>\n",
       "<table border=\"1\" class=\"dataframe\">\n",
       "  <thead>\n",
       "    <tr style=\"text-align: right;\">\n",
       "      <th></th>\n",
       "      <th>host_1_id</th>\n",
       "      <th>host_2_id</th>\n",
       "      <th>diet_bc</th>\n",
       "      <th>host_1</th>\n",
       "      <th>host_2</th>\n",
       "      <th>host_1_Class</th>\n",
       "      <th>host_2_Class</th>\n",
       "      <th>host_1_Order</th>\n",
       "      <th>host_2_Order</th>\n",
       "      <th>host_1_Family</th>\n",
       "      <th>host_2_Family</th>\n",
       "      <th>within_Class</th>\n",
       "      <th>within_Order</th>\n",
       "      <th>within_Family</th>\n",
       "      <th>phylo</th>\n",
       "      <th>Unweighted_UniFrac</th>\n",
       "      <th>Weighted_UniFrac</th>\n",
       "      <th>Jaccard</th>\n",
       "    </tr>\n",
       "  </thead>\n",
       "  <tbody>\n",
       "    <tr>\n",
       "      <th>0</th>\n",
       "      <td>10684.weampp14D11</td>\n",
       "      <td>10684.weampp11B10</td>\n",
       "      <td>0.0</td>\n",
       "      <td>Actitis_hypoleucos</td>\n",
       "      <td>Actitis_hypoleucos</td>\n",
       "      <td>Aves</td>\n",
       "      <td>Aves</td>\n",
       "      <td>Charadriiformes</td>\n",
       "      <td>Charadriiformes</td>\n",
       "      <td>Scolopacidae</td>\n",
       "      <td>Scolopacidae</td>\n",
       "      <td>True</td>\n",
       "      <td>True</td>\n",
       "      <td>True</td>\n",
       "      <td>0.0000</td>\n",
       "      <td>0.761690</td>\n",
       "      <td>0.445344</td>\n",
       "      <td>0.834711</td>\n",
       "    </tr>\n",
       "    <tr>\n",
       "      <th>1</th>\n",
       "      <td>10684.weampp14D11</td>\n",
       "      <td>10684.weampp09H11</td>\n",
       "      <td>0.0</td>\n",
       "      <td>Actitis_hypoleucos</td>\n",
       "      <td>Actitis_hypoleucos</td>\n",
       "      <td>Aves</td>\n",
       "      <td>Aves</td>\n",
       "      <td>Charadriiformes</td>\n",
       "      <td>Charadriiformes</td>\n",
       "      <td>Scolopacidae</td>\n",
       "      <td>Scolopacidae</td>\n",
       "      <td>True</td>\n",
       "      <td>True</td>\n",
       "      <td>True</td>\n",
       "      <td>0.0000</td>\n",
       "      <td>0.871487</td>\n",
       "      <td>0.578775</td>\n",
       "      <td>0.936232</td>\n",
       "    </tr>\n",
       "    <tr>\n",
       "      <th>2</th>\n",
       "      <td>10684.weampp14D11</td>\n",
       "      <td>10684.weampp10A08</td>\n",
       "      <td>0.0</td>\n",
       "      <td>Actitis_hypoleucos</td>\n",
       "      <td>Actitis_hypoleucos</td>\n",
       "      <td>Aves</td>\n",
       "      <td>Aves</td>\n",
       "      <td>Charadriiformes</td>\n",
       "      <td>Charadriiformes</td>\n",
       "      <td>Scolopacidae</td>\n",
       "      <td>Scolopacidae</td>\n",
       "      <td>True</td>\n",
       "      <td>True</td>\n",
       "      <td>True</td>\n",
       "      <td>0.0000</td>\n",
       "      <td>0.941777</td>\n",
       "      <td>0.730777</td>\n",
       "      <td>0.984890</td>\n",
       "    </tr>\n",
       "    <tr>\n",
       "      <th>3</th>\n",
       "      <td>10684.weampp14D11</td>\n",
       "      <td>10684.weampp06A02</td>\n",
       "      <td>0.0</td>\n",
       "      <td>Actitis_hypoleucos</td>\n",
       "      <td>Actitis_hypoleucos</td>\n",
       "      <td>Aves</td>\n",
       "      <td>Aves</td>\n",
       "      <td>Charadriiformes</td>\n",
       "      <td>Charadriiformes</td>\n",
       "      <td>Scolopacidae</td>\n",
       "      <td>Scolopacidae</td>\n",
       "      <td>True</td>\n",
       "      <td>True</td>\n",
       "      <td>True</td>\n",
       "      <td>0.0000</td>\n",
       "      <td>0.886211</td>\n",
       "      <td>0.905092</td>\n",
       "      <td>1.000000</td>\n",
       "    </tr>\n",
       "    <tr>\n",
       "      <th>4</th>\n",
       "      <td>10684.weampp14D11</td>\n",
       "      <td>10684.weampp05C04</td>\n",
       "      <td>0.3</td>\n",
       "      <td>Actitis_hypoleucos</td>\n",
       "      <td>Actitis_macularia</td>\n",
       "      <td>Aves</td>\n",
       "      <td>Aves</td>\n",
       "      <td>Charadriiformes</td>\n",
       "      <td>Charadriiformes</td>\n",
       "      <td>Scolopacidae</td>\n",
       "      <td>Scolopacidae</td>\n",
       "      <td>True</td>\n",
       "      <td>True</td>\n",
       "      <td>True</td>\n",
       "      <td>26.9633</td>\n",
       "      <td>0.810881</td>\n",
       "      <td>0.744436</td>\n",
       "      <td>1.000000</td>\n",
       "    </tr>\n",
       "  </tbody>\n",
       "</table>\n",
       "</div>"
      ],
      "text/plain": [
       "           host_1_id          host_2_id  diet_bc              host_1  \\\n",
       "0  10684.weampp14D11  10684.weampp11B10      0.0  Actitis_hypoleucos   \n",
       "1  10684.weampp14D11  10684.weampp09H11      0.0  Actitis_hypoleucos   \n",
       "2  10684.weampp14D11  10684.weampp10A08      0.0  Actitis_hypoleucos   \n",
       "3  10684.weampp14D11  10684.weampp06A02      0.0  Actitis_hypoleucos   \n",
       "4  10684.weampp14D11  10684.weampp05C04      0.3  Actitis_hypoleucos   \n",
       "\n",
       "               host_2 host_1_Class host_2_Class     host_1_Order  \\\n",
       "0  Actitis_hypoleucos         Aves         Aves  Charadriiformes   \n",
       "1  Actitis_hypoleucos         Aves         Aves  Charadriiformes   \n",
       "2  Actitis_hypoleucos         Aves         Aves  Charadriiformes   \n",
       "3  Actitis_hypoleucos         Aves         Aves  Charadriiformes   \n",
       "4   Actitis_macularia         Aves         Aves  Charadriiformes   \n",
       "\n",
       "      host_2_Order host_1_Family host_2_Family  within_Class  within_Order  \\\n",
       "0  Charadriiformes  Scolopacidae  Scolopacidae          True          True   \n",
       "1  Charadriiformes  Scolopacidae  Scolopacidae          True          True   \n",
       "2  Charadriiformes  Scolopacidae  Scolopacidae          True          True   \n",
       "3  Charadriiformes  Scolopacidae  Scolopacidae          True          True   \n",
       "4  Charadriiformes  Scolopacidae  Scolopacidae          True          True   \n",
       "\n",
       "   within_Family    phylo  Unweighted_UniFrac  Weighted_UniFrac   Jaccard  \n",
       "0           True   0.0000            0.761690          0.445344  0.834711  \n",
       "1           True   0.0000            0.871487          0.578775  0.936232  \n",
       "2           True   0.0000            0.941777          0.730777  0.984890  \n",
       "3           True   0.0000            0.886211          0.905092  1.000000  \n",
       "4           True  26.9633            0.810881          0.744436  1.000000  "
      ]
     },
     "execution_count": 46,
     "metadata": {},
     "output_type": "execute_result"
    }
   ],
   "source": [
    "distances.head()"
   ]
  },
  {
   "cell_type": "markdown",
   "metadata": {},
   "source": [
    "## Write total df to file"
   ]
  },
  {
   "cell_type": "code",
   "execution_count": 47,
   "metadata": {},
   "outputs": [
    {
     "data": {
      "text/plain": [
       "291425"
      ]
     },
     "execution_count": 47,
     "metadata": {},
     "output_type": "execute_result"
    }
   ],
   "source": [
    "distances.loc[(distances['host_1_Order'] != distances['host_2_Order']) &\n",
    "              (distances['host_1_Class'] == 'Mammalia'), 'Unweighted_UniFrac'].notna().sum()"
   ]
  },
  {
   "cell_type": "code",
   "execution_count": 49,
   "metadata": {},
   "outputs": [],
   "source": [
    "out_dir = '../phylosymbiosis'\n",
    "makedirs(out_dir, exist_ok=True)"
   ]
  },
  {
   "cell_type": "code",
   "execution_count": 50,
   "metadata": {},
   "outputs": [],
   "source": [
    "distances.to_csv(join(out_dir, 'phylo.distance_table.csv'))"
   ]
  },
  {
   "cell_type": "code",
   "execution_count": null,
   "metadata": {},
   "outputs": [],
   "source": []
  }
 ],
 "metadata": {
  "kernelspec": {
   "display_name": "jupyter-qiime2-2019.1",
   "language": "python",
   "name": "jupyter-qiime2-2019.1"
  },
  "language_info": {
   "codemirror_mode": {
    "name": "ipython",
    "version": 3
   },
   "file_extension": ".py",
   "mimetype": "text/x-python",
   "name": "python",
   "nbconvert_exporter": "python",
   "pygments_lexer": "ipython3",
   "version": "3.6.7"
  }
 },
 "nbformat": 4,
 "nbformat_minor": 2
}
